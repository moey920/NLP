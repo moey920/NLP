{
  "nbformat": 4,
  "nbformat_minor": 0,
  "metadata": {
    "colab": {
      "name": "간단한 seq2seq 만들기(Simple seq2seq).ipynb",
      "provenance": [],
      "collapsed_sections": [],
      "toc_visible": true,
      "authorship_tag": "ABX9TyPXZnPdAhbs98/UwaNQbKri",
      "include_colab_link": true
    },
    "kernelspec": {
      "name": "python3",
      "display_name": "Python 3"
    }
  },
  "cells": [
    {
      "cell_type": "markdown",
      "metadata": {
        "id": "view-in-github",
        "colab_type": "text"
      },
      "source": [
        "<a href=\"https://colab.research.google.com/github/moey920/NLP/blob/master/%EA%B0%84%EB%8B%A8%ED%95%9C_seq2seq_%EB%A7%8C%EB%93%A4%EA%B8%B0(Simple_seq2seq).ipynb\" target=\"_parent\"><img src=\"https://colab.research.google.com/assets/colab-badge.svg\" alt=\"Open In Colab\"/></a>"
      ]
    },
    {
      "cell_type": "markdown",
      "metadata": {
        "id": "U7ymMxHr4u9K",
        "colab_type": "text"
      },
      "source": [
        "본 문서는 케라스를 이용해 RNN(Recurrent Neural Networks)모델인 Seq2Seq를 10분 안에 알려주는 튜토리얼 한글 버전입니다. Seq2Seq의 의미부터 케라스를 이용한 모델 구현을 다루고 있으며 본 문서 대상자는 recurrent networks와 keras에 대한 경험이 있다는 가정하에 진행합니다.\n",
        "\n",
        "Keras\n",
        "RNN\n",
        "LSTM\n",
        "NLP\n",
        "Seq2Seq\n",
        "GRU layer\n",
        "\n",
        "원문 : A ten-minute introduction to sequence-to-sequence learning in Keras"
      ]
    },
    {
      "cell_type": "markdown",
      "metadata": {
        "id": "tGKFxG2z4rok",
        "colab_type": "text"
      },
      "source": [
        "# sequence-to-sequence 학습이란?"
      ]
    },
    {
      "cell_type": "markdown",
      "metadata": {
        "id": "TKwxWHNB6oq1",
        "colab_type": "text"
      },
      "source": [
        "sequence-to-sequence(Seq2Seq) 학습은 한 도메인(예: 영어 문장)에서 다른 도메인(예: 불어로 된 문장)으로 시퀀스(sequence)를 변환하는 모델 학습을 의미합니다.\n",
        "\n",
        "-  \"the cat sat on the mat\" -> [Seq2Seq model] -> \"le chat etait assis sur le tapis\""
      ]
    },
    {
      "cell_type": "markdown",
      "metadata": {
        "id": "KkcSScKq6uwV",
        "colab_type": "text"
      },
      "source": [
        "이 모델은 기계 번역 혹은 자유로운 질의응답에 사용됩니다. (자연어 질문을 주어 자연어 응답을 생성) –일반적으로, 텍스트를 생성해야 할 경우라면 언제든지 적용할 수 있습니다.\n",
        "\n",
        "해당 작업을 다루는 여러 가지 방법이(RNN 혹은 1D convnets) 있습니다."
      ]
    },
    {
      "cell_type": "markdown",
      "metadata": {
        "id": "_r8bGe_g69fh",
        "colab_type": "text"
      },
      "source": [
        "## 자명한(명확한) 사례 : 입력과 출력 시퀀스 길이가 같을 때"
      ]
    },
    {
      "cell_type": "markdown",
      "metadata": {
        "id": "Wk0tYv4U7Gle",
        "colab_type": "text"
      },
      "source": [
        "입력과 출력 시퀀스 길이가 같을 경우, 케라스 Long Short-Term Memory(LSTM)이나 GRU 계층(혹은 다수의 계층) 같은 모델들을 간단하게 구현할 수 있습니다. 예제 스크립트에선 어떻게 RNN으로 문자열로 인코딩된 숫자들에 대한 덧셈 연산을 학습할 수 있는지 보여주고 있습니다.\n",
        "\n",
        "이 방법의 주의점은 주어진 input[...t]으로 target[...t]을 생성 가능하다고 가정하는 것입니다. 일부 경우(예: 숫자된 문자열 추가)에선 정상적으로 작동하지만, 대부분의 경우에는 작동하지 않습니다. 일반적으론, 목표 시퀀스를 생성하기 위해 전체 입력 시퀀스 정보가 필요합니다."
      ]
    },
    {
      "cell_type": "markdown",
      "metadata": {
        "id": "FUkqq9tu57nF",
        "colab_type": "text"
      },
      "source": [
        "## 일반 사례 : 표준 sequence-to-sequence"
      ]
    },
    {
      "cell_type": "markdown",
      "metadata": {
        "id": "KCPv2miD5__s",
        "colab_type": "text"
      },
      "source": [
        "일반적으론 입력과 출력 시퀀스 길이가 다르고(예: 기계 번역) 목표 시퀀스를 예측하기 위해 전체 입력 시퀀스 정보가 필요합니다. 이를 위해 고급 설정이 필요하며, 일반적으로 “Seq2Seq models”를 언급할 때 참조합니다. 동작 방법은 하단을 참조하시면 되겠습니다.\n",
        "\n",
        "- 하나(혹은 여러 개)의 RNN 계층은 “encoder” 역할을 합니다 : 입력 시퀀스를 처리하고 자체 내부 상태를 반환합니다. 여기서, encoder RNN의 결과는 사용하지 않고 상태만 복구시킵니다. 이 상태가 다음 단계에서 decoder의 “문맥” 혹은 “조건” 역할을 합니다.\n",
        "- 또 하나(혹은 여러 개)의 RNN 계층은 “decoder” 역할을 합니다 : 목표 시퀀스에서 이전 문자들에 따라 다음 문자들을 예측하도록 훈련됩니다. 상세히 말하면, 목표 시퀀스를 같은 시퀀스로 바꾸지만 후에 “teacher forcing”이라는 학습 과정인, 한 개의 time step만큼 offset*이 되도록 훈련됩니다. 중요한 건, encoder는 encoder 상태 벡터들을 초기 상태로 사용하고 이는 decoder가 생성할 정보를 얻는 방법이기도 합니다. 사실, decoder는 주어진 target[...t]을 입력 시퀀스에 맞춰서 target[t+1...]을 생성하는 법을 학습합니다.\n",
        "- offset 의 예: 문자 A의 배열이 ‘abcdef’를 가질 때, ‘c’가 A 시작점에서 2의 offset을 지님"
      ]
    },
    {
      "cell_type": "markdown",
      "metadata": {
        "id": "q6NpmiL-6SRu",
        "colab_type": "text"
      },
      "source": [
        "추론 방식(즉: 알 수 없는 입력 시퀀스를 해석하려고 할 때)에선 약간 다른 처리를 거치게 됩니다.\n",
        "\n",
        "- 1) 입력 시퀀스를 상태 벡터들로 바꿉니다.\n",
        "- 2) 크기가 1인 목표 시퀀스로 시작합니다. (시퀀스의 시작 문자에만 해당)\n",
        "- 3) 상태 벡터들과 크기가 1인 목표 시퀀스를 decoder에 넣어 다음 문자에 대한 예측치를 생성합니다.\n",
        "- 4) 이런 예측치들을 사용해 다음 문자의 표본을 뽑습니다.(간단하게 argmax를 사용)\n",
        "- 5) 목표 시퀀스에 샘플링된 문자를 붙입니다.\n",
        "- 6) 시퀀스 종료 문자를 생성하거나 끝 문자에 도달할 때까지 앞의 과정을 반복합니다."
      ]
    },
    {
      "cell_type": "markdown",
      "metadata": {
        "id": "vDG4a8ro6chj",
        "colab_type": "text"
      },
      "source": [
        "이같은 과정은 “teacher forcing” 없이 Seq2Seq를 학습시킬 때 쓰일 수도 있습니다. (decoder의 예측치들을 decoder에 다시 기재함으로써)"
      ]
    },
    {
      "cell_type": "markdown",
      "metadata": {
        "id": "OFEIhcBb6cao",
        "colab_type": "text"
      },
      "source": [
        "## 케라스 예제"
      ]
    },
    {
      "cell_type": "markdown",
      "metadata": {
        "id": "IJSGn6RJ91ek",
        "colab_type": "text"
      },
      "source": [
        "실제 코드를 통해 위의 아이디어들을 설명하겠습니다.\n",
        "\n",
        "예제를 구현하기 위해, 영어 문장과 이에 대해 불어로 번역한 문장 한 쌍으로 구성된 데이터 세트를 사용합니다. (manythings.org/anki에서 내려받을 수 있습니다.) 다운받을 파일은 fra-eng.zip입니다. 입력 문자를 문자 단위로 처리하고, 문자 단위로 출력문자를 생성하는 문자 수준 Seq2Seq model을 구현할 예정입니다. 또 다른 옵션은 기계 번역에서 좀 더 일반적인 단어 수준 model입니다. 글 끝단에서, Embedding계층을 사용하여 설명에 쓰인 model을 단어 수준 model로 바꿀 수 있는 참고 사항도 보실 수 있습니다.\n",
        "\n",
        "설명에 쓰인 예제 전체 code는 Github에서 보실 수 있습니다.\n",
        "\n",
        "진행 과정 요약으론:"
      ]
    },
    {
      "cell_type": "markdown",
      "metadata": {
        "id": "dJC7dBC096jd",
        "colab_type": "text"
      },
      "source": [
        "- 1) 문장들을 3차원 배열(encoder_input_data, decoder_input_data, decoder_target_data)로 변환합니다.\n",
        "encoder_input_data는 (num_pairs, max_english_sentence_length, num_english_characters) 형태의 3차원 배열로 영어 문장의 one-hot 형식 벡터 데이터를 갖고 있습니다.\n",
        "decoder_input_data는 (num_pairs, max_french_sentence_length, num_french_characters)형태의 3차원 배열로 불어 문장의 one-hot형식 벡터 데이터를 갖고 있습니다.\n",
        "decoder_target_data는 decoder_input_data와 같지만 하나의 time step만큼 offset 됩니다. decoder_target_data[:, t, :]는 decoder_input_data[:, t + 1, :]와 같습니다.\n",
        "- 2) 기본 LSTM 기반의 Seq2Seq model을 주어진 encoder_input_data와 decoder_input_data로 decoder_target_data를 예측합니다. 해당 model은 teacher forcing을 사용합니다.\n",
        "- 3) model이 작동하는지 확인하기 위해 일부 문장을 디코딩(decoding)합니다. (encoder_input_data의 샘플을 decoder_target_data의 표본으로 변환합니다.)\n",
        "(문장을 디코딩하는)학습 단계와 추론 단계는 꽤나 다르기 때문에, 같은 내부 계층을 사용하지만 서로 다른 모델을 사용합니다."
      ]
    },
    {
      "cell_type": "markdown",
      "metadata": {
        "id": "EHmO46uU-Ctv",
        "colab_type": "text"
      },
      "source": [
        "다음은 원문 저자가 제공하는 model로 keras RNN의 3가지 핵심 특징들을 사용합니다:\n",
        "\n",
        "- return_state는 encoder의 출력과 내부 RNN 상태인 리스트를 반환하도록 RNN을 구성하는 인수입니다. 이는 encoder의 상태를 복구하는 데 사용합니다.\n",
        "- inital_state는 RNN의 초기 상태를 지정하는 인수입니다. 초기 상태로 incoder를 decoder로 전달하는 데 사용합니다.\n",
        "- return_sequences는 출력된 전체 시퀀스를 반환하도록 구성하는 인수(마지막 출력을 제외하곤 기본 동작)로 decoder에 사용합니다."
      ]
    },
    {
      "cell_type": "code",
      "metadata": {
        "id": "rEhJ0D07-HtK",
        "colab_type": "code",
        "colab": {}
      },
      "source": [
        "from keras.models import Model\n",
        "from keras.layers import Input, LSTM, Dense\n",
        "\n",
        "# 입력 시퀀스의 정의와 처리\n",
        "encoder_inputs = Input(shape=(None, num_encoder_tokens))\n",
        "encoder = LSTM(latent_dim, return_state=True)\n",
        "encoder_outputs, state_h, state_c = encoder(encoder_inputs)\n",
        "# `encoder_outputs`는 버리고 상태(`state_h, state_c`)는 유지\n",
        "encoder_states = [state_h, state_c]\n",
        "\n",
        "# `encoder_states`를 초기 상태로 사용해 decoder를 설정\n",
        "decoder_inputs = Input(shape=(None, num_decoder_tokens))\n",
        "# 전체 출력 시퀀스를 반환하고 내부 상태도 반환하도록 decoder를 설정. \n",
        "# 학습 모델에서 상태를 반환하도록 하진 않지만, inference에서 사용할 예정.\n",
        "decoder_lstm = LSTM(latent_dim, return_sequences=True, return_state=True)\n",
        "decoder_outputs, _, _ = decoder_lstm(decoder_inputs,\n",
        "                                     initial_state=encoder_states)\n",
        "decoder_dense = Dense(num_decoder_tokens, activation='softmax')\n",
        "decoder_outputs = decoder_dense(decoder_outputs)\n",
        "   \n",
        "# `encoder_input_data`와 `decoder_input_data`를 `decoder_target_data`로 반환하도록 모델을 정의\n",
        "model = Model([encoder_inputs, decoder_inputs], decoder_outputs)"
      ],
      "execution_count": 0,
      "outputs": []
    },
    {
      "cell_type": "markdown",
      "metadata": {
        "id": "j0mXOAfH-Jqv",
        "colab_type": "text"
      },
      "source": [
        "밑의 2줄로 샘플의 20%를 검증 데이터 세트로 손실을 관찰하면서 모델을 학습시킵니다."
      ]
    },
    {
      "cell_type": "code",
      "metadata": {
        "id": "DxK1LIrk90hF",
        "colab_type": "code",
        "colab": {}
      },
      "source": [
        "# 학습 실행\n",
        "model.compile(optimizer='rmsprop', loss='categorical_crossentropy')\n",
        "model.fit([encoder_input_data, decoder_input_data], decoder_target_data,\n",
        "          batch_size=batch_size,\n",
        "          epochs=epochs,\n",
        "          validation_split=0.2)"
      ],
      "execution_count": 0,
      "outputs": []
    },
    {
      "cell_type": "markdown",
      "metadata": {
        "id": "kIJ5YznK-NLs",
        "colab_type": "text"
      },
      "source": [
        "맥북 CPU에서 1시간 정도 학습한 후에, 추론할 준비가 됩니다. 테스트 문장을 decode하기 위해 반복 수행할 것입니다."
      ]
    },
    {
      "cell_type": "markdown",
      "metadata": {
        "id": "AsvyBybO-RKU",
        "colab_type": "text"
      },
      "source": [
        "- 1) 입력문장을 encode하고 초기 상태에 decoder의 상태를 가지고 옵니다.\n",
        "- 2) 초기 상태 decoder의 한 단계와 “시퀀스 시작” 토큰을 목표로 실행합니다. 출력은 다음 목표 문자입니다.\n",
        "- 3) 예측된 목표 문자를 붙이고 이를 반복합니다.\n",
        "다음은 추론을 설정한 부분입니다."
      ]
    },
    {
      "cell_type": "code",
      "metadata": {
        "id": "l5JnZfcn-OsZ",
        "colab_type": "code",
        "colab": {}
      },
      "source": [
        "encoder_model = Model(encoder_inputs, encoder_states)\n",
        "\n",
        "decoder_state_input_h = Input(shape=(latent_dim,))\n",
        "decoder_state_input_c = Input(shape=(latent_dim,))\n",
        "decoder_states_inputs = [decoder_state_input_h, decoder_state_input_c]\n",
        "decoder_outputs, state_h, state_c = decoder_lstm(\n",
        "    decoder_inputs, initial_state=decoder_states_inputs)\n",
        "decoder_states = [state_h, state_c]\n",
        "decoder_outputs = decoder_dense(decoder_outputs)\n",
        "decoder_model = Model(\n",
        "    [decoder_inputs] + decoder_states_inputs,\n",
        "    [decoder_outputs] + decoder_states)"
      ],
      "execution_count": 0,
      "outputs": []
    },
    {
      "cell_type": "markdown",
      "metadata": {
        "id": "hkBg3SHj-WRJ",
        "colab_type": "text"
      },
      "source": [
        "아래의 코드는 위의 추론 루프를 구현하는 데 사용했습니다."
      ]
    },
    {
      "cell_type": "code",
      "metadata": {
        "id": "hqFCbAgD-Ytu",
        "colab_type": "code",
        "colab": {}
      },
      "source": [
        "def decode_sequence(input_seq):\n",
        "    # 상태 벡터로서 입력값을 encode\n",
        "    states_value = encoder_model.predict(input_seq)\n",
        "\n",
        "    # 길이가 1인 빈 목표 시퀀스를 생성\n",
        "    target_seq = np.zeros((1, 1, num_decoder_tokens))\n",
        "    # 대상 시퀀스 첫 번째 문자를 시작 문자로 기재.\n",
        "    target_seq[0, 0, target_token_index['\\t']] = 1.\n",
        "\n",
        "    # 시퀀스들의 batch에 대한 샘플링 반복(간소화를 위해, 배치 크기는 1로 상정)\n",
        "    stop_condition = False\n",
        "    decoded_sentence = ''\n",
        "    while not stop_condition:\n",
        "        output_tokens, h, c = decoder_model.predict(\n",
        "            [target_seq] + states_value)\n",
        "\n",
        "        # 토큰으로 샘플링\n",
        "        sampled_token_index = np.argmax(output_tokens[0, -1, :])\n",
        "        sampled_char = reverse_target_char_index[sampled_token_index]\n",
        "        decoded_sentence += sampled_char\n",
        "\n",
        "        # 탈출 조건 : 최대 길이에 도달하거나\n",
        "        # 종료 문자를 찾을 경우\n",
        "        if (sampled_char == '\\n' or\n",
        "           len(decoded_sentence) > max_decoder_seq_length):\n",
        "            stop_condition = True\n",
        "\n",
        "        # (길이 1인) 목표 시퀀스 최신화\n",
        "        target_seq = np.zeros((1, 1, num_decoder_tokens))\n",
        "        target_seq[0, 0, sampled_token_index] = 1.\n",
        "\n",
        "        # 상태 최신화\n",
        "        states_value = [h, c]\n",
        "\n",
        "    return decoded_sentence"
      ],
      "execution_count": 0,
      "outputs": []
    },
    {
      "cell_type": "markdown",
      "metadata": {
        "id": "2o9QrJXs-bil",
        "colab_type": "text"
      },
      "source": [
        "몇 가지 좋은 결과를 얻게 됩니다. (학습 테스트에서 추출한 샘플을 해독하기에 놀랄만한 결과는 아니지만..)"
      ]
    },
    {
      "cell_type": "markdown",
      "metadata": {
        "id": "m9hoBOXC-gTI",
        "colab_type": "text"
      },
      "source": [
        "Input sentence: Be nice.\n",
        "Decoded sentence: Soyez gentil !\n",
        "-\n",
        "\n",
        "Input sentence: Drop it!\n",
        "Decoded sentence: Laissez tomber !\n",
        "-\n",
        "\n",
        "Input sentence: Get out!\n",
        "Decoded sentence: Sortez !"
      ]
    },
    {
      "cell_type": "code",
      "metadata": {
        "id": "2CxUniKv-c-J",
        "colab_type": "code",
        "colab": {}
      },
      "source": [
        ""
      ],
      "execution_count": 0,
      "outputs": []
    }
  ]
}