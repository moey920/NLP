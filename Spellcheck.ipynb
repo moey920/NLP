{
  "nbformat": 4,
  "nbformat_minor": 0,
  "metadata": {
    "colab": {
      "name": "Spellcheck.ipynb",
      "provenance": [],
      "authorship_tag": "ABX9TyNRvUJZjRaYoJ0rt2nqx9Gz",
      "include_colab_link": true
    },
    "kernelspec": {
      "name": "python3",
      "display_name": "Python 3"
    }
  },
  "cells": [
    {
      "cell_type": "markdown",
      "metadata": {
        "id": "view-in-github",
        "colab_type": "text"
      },
      "source": [
        "<a href=\"https://colab.research.google.com/github/moey920/NLP/blob/master/Spellcheck.ipynb\" target=\"_parent\"><img src=\"https://colab.research.google.com/assets/colab-badge.svg\" alt=\"Open In Colab\"/></a>"
      ]
    },
    {
      "cell_type": "code",
      "metadata": {
        "id": "ZHpe4hKaAoqz",
        "colab_type": "code",
        "outputId": "45dddf76-af18-4d60-dcda-93ca213a847b",
        "colab": {
          "base_uri": "https://localhost:8080/",
          "height": 53
        }
      },
      "source": [
        "!pip install sublime\n",
        "#0327"
      ],
      "execution_count": 0,
      "outputs": [
        {
          "output_type": "stream",
          "text": [
            "Requirement already satisfied: sublime in /usr/local/lib/python3.6/dist-packages (0.1.0)\n",
            "Requirement already satisfied: click<4.0,>=3.3 in /usr/local/lib/python3.6/dist-packages (from sublime) (3.3)\n"
          ],
          "name": "stdout"
        }
      ]
    },
    {
      "cell_type": "code",
      "metadata": {
        "id": "BbY6ZzRXAgnp",
        "colab_type": "code",
        "outputId": "181b86fa-9871-401f-b39a-c53bb41b9541",
        "colab": {
          "base_uri": "https://localhost:8080/",
          "height": 388
        }
      },
      "source": [
        "import sublime\n",
        "import sublime_plugin\n",
        "import fnmatch\n",
        "import os.path\n",
        "\n",
        "\n",
        "def find_resources(pattern):\n",
        "    resources = []\n",
        "    if hasattr(sublime, 'find_resources'):\n",
        "        resources = sublime.find_resources(pattern)\n",
        "    else:\n",
        "        for root, dir_names, file_names in os.walk(sublime.packages_path()):\n",
        "            if \".git\" in root:\n",
        "                continue\n",
        "            for file_name in file_names:\n",
        "                rel_path = os.path.relpath(os.path.join(root, file_name), sublime.packages_path())\n",
        "                if fnmatch.fnmatch(rel_path.lower(), \"*\" + pattern.lower()):\n",
        "                    resources += [os.path.join('Packages', rel_path).replace(os.sep, \"/\")]\n",
        "    return resources\n",
        "\n",
        "\n",
        "class DicSetViewLanguageCommand(sublime_plugin.TextCommand):\n",
        "\n",
        "    def run(self, edit):\n",
        "        items = find_resources(\"*.dic\")\n",
        "\n",
        "        def on_done(i):\n",
        "            if i >= 0:\n",
        "                settings = self.view.settings()\n",
        "                settings.set(\"dictionary\", items[i])\n",
        "\n",
        "        self.view.window().show_quick_panel(items, on_done)\n",
        "\n",
        "\n",
        "class DicSetLanguageCommand(sublime_plugin.WindowCommand):\n",
        "\n",
        "    def run(self):\n",
        "        items = find_resources(\"*.dic\")\n",
        "\n",
        "        def on_done(i):\n",
        "            if i >= 0:\n",
        "                settings = sublime.load_settings(\"Preferences.sublime-settings\")\n",
        "                settings.set(\"dictionary\", items[i])\n",
        "                sublime.save_settings(\"Preferences.sublime-settings\")\n",
        "\n",
        "        self.window.show_quick_panel(items, on_done)\n",
        "\n",
        "\n",
        "class DicToggleViewCommand(sublime_plugin.TextCommand):\n",
        "\n",
        "    def run(self, edit):\n",
        "        settings = self.view.settings()\n",
        "        value = bool(settings.get(\"spell_check\"))\n",
        "        settings.set(\"spell_check\", not value)\n",
        "\n",
        "\n",
        "class DicToggleCommand(sublime_plugin.WindowCommand):\n",
        "\n",
        "    def run(self):\n",
        "        settings = sublime.load_settings(\"Preferences.sublime-settings\")\n",
        "        value = bool(settings.get(\"spell_check\"))\n",
        "        settings.set(\"spell_check\", not value)\n",
        "        sublime.save_settings(\"Preferences.sublime-settings\")"
      ],
      "execution_count": 0,
      "outputs": [
        {
          "output_type": "error",
          "ename": "ModuleNotFoundError",
          "evalue": "ignored",
          "traceback": [
            "\u001b[0;31m---------------------------------------------------------------------------\u001b[0m",
            "\u001b[0;31mModuleNotFoundError\u001b[0m                       Traceback (most recent call last)",
            "\u001b[0;32m<ipython-input-5-94744b7aa836>\u001b[0m in \u001b[0;36m<module>\u001b[0;34m()\u001b[0m\n\u001b[0;32m----> 1\u001b[0;31m \u001b[0;32mimport\u001b[0m \u001b[0msublime\u001b[0m\u001b[0;34m\u001b[0m\u001b[0;34m\u001b[0m\u001b[0m\n\u001b[0m\u001b[1;32m      2\u001b[0m \u001b[0;32mimport\u001b[0m \u001b[0msublime_plugin\u001b[0m\u001b[0;34m\u001b[0m\u001b[0;34m\u001b[0m\u001b[0m\n\u001b[1;32m      3\u001b[0m \u001b[0;32mimport\u001b[0m \u001b[0mfnmatch\u001b[0m\u001b[0;34m\u001b[0m\u001b[0;34m\u001b[0m\u001b[0m\n\u001b[1;32m      4\u001b[0m \u001b[0;32mimport\u001b[0m \u001b[0mos\u001b[0m\u001b[0;34m.\u001b[0m\u001b[0mpath\u001b[0m\u001b[0;34m\u001b[0m\u001b[0;34m\u001b[0m\u001b[0m\n\u001b[1;32m      5\u001b[0m \u001b[0;34m\u001b[0m\u001b[0m\n",
            "\u001b[0;31mModuleNotFoundError\u001b[0m: No module named 'sublime'",
            "",
            "\u001b[0;31m---------------------------------------------------------------------------\u001b[0;32m\nNOTE: If your import is failing due to a missing package, you can\nmanually install dependencies using either !pip or !apt.\n\nTo view examples of installing some common dependencies, click the\n\"Open Examples\" button below.\n\u001b[0;31m---------------------------------------------------------------------------\u001b[0m\n"
          ]
        }
      ]
    },
    {
      "cell_type": "code",
      "metadata": {
        "id": "lTrY3Z5eAqta",
        "colab_type": "code",
        "colab": {}
      },
      "source": [
        ""
      ],
      "execution_count": 0,
      "outputs": []
    }
  ]
}