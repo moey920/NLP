{
  "nbformat": 4,
  "nbformat_minor": 0,
  "metadata": {
    "colab": {
      "name": "Transformer용 텍스트 데이터 전처리하기",
      "provenance": [],
      "collapsed_sections": [],
      "toc_visible": true,
      "mount_file_id": "12UajWWjLUTPp6F2omY_8xxp2R1l2Ttg6",
      "authorship_tag": "ABX9TyOZ91zvv+8wYK8SgO/ZbMUL",
      "include_colab_link": true
    },
    "kernelspec": {
      "name": "python3",
      "display_name": "Python 3"
    }
  },
  "cells": [
    {
      "cell_type": "markdown",
      "metadata": {
        "id": "view-in-github",
        "colab_type": "text"
      },
      "source": [
        "<a href=\"https://colab.research.google.com/github/moey920/NLP/blob/master/Transformer%EC%9A%A9_%ED%85%8D%EC%8A%A4%ED%8A%B8_%EB%8D%B0%EC%9D%B4%ED%84%B0_%EC%A0%84%EC%B2%98%EB%A6%AC%ED%95%98%EA%B8%B0.ipynb\" target=\"_parent\"><img src=\"https://colab.research.google.com/assets/colab-badge.svg\" alt=\"Open In Colab\"/></a>"
      ]
    },
    {
      "cell_type": "markdown",
      "metadata": {
        "id": "TrAxexy6oKrl",
        "colab_type": "text"
      },
      "source": [
        " Sentencepiece를 활용해 Vocab 만들기에서 생성된 vocab을 활용해 이후 학습하기 좋은 형태로 미리 작업을 해 놓는 과정 입니다."
      ]
    },
    {
      "cell_type": "markdown",
      "metadata": {
        "id": "jehff6OZzcHL",
        "colab_type": "text"
      },
      "source": [
        "# 사용할 라이브러리 임포트"
      ]
    },
    {
      "cell_type": "code",
      "metadata": {
        "id": "7Jhf-sa4zgWb",
        "colab_type": "code",
        "colab": {}
      },
      "source": [
        "#!pip install sentencepiece\n",
        "import pandas as pd\n",
        "import json"
      ],
      "execution_count": 0,
      "outputs": []
    },
    {
      "cell_type": "markdown",
      "metadata": {
        "id": "K94cHuwAoP-B",
        "colab_type": "text"
      },
      "source": [
        "# 1. 다운로드\n",
        "구글 공유 드라이브에서 다운로드 하거나 아래 명령으로 다운로드 하세요.(명령은 추후 깃허브 레포지토리 정리 후 수정 예정)\n",
        "\n",
        "학습데이터: ratings_train.txt\n",
        "평가데이터: ratings_test.txt\n",
        "\n"
      ]
    },
    {
      "cell_type": "code",
      "metadata": {
        "id": "rAzg5ndioLXG",
        "colab_type": "code",
        "colab": {}
      },
      "source": [
        "'''\n",
        "$ wget https://raw.githubusercontent.com/e9t/nsmc/master/ratings_train.txt\n",
        "$ wget https://raw.githubusercontent.com/e9t/nsmc/master/ratings_test.txt\n",
        "'''"
      ],
      "execution_count": 0,
      "outputs": []
    },
    {
      "cell_type": "markdown",
      "metadata": {
        "id": "-_jcgrF6yCnd",
        "colab_type": "text"
      },
      "source": [
        "# 2. Vocab\n",
        "Sentencepiece를 활용해 Vocab 만들기를 통해 만들어 놓은 vocab을 로드 합니다."
      ]
    },
    {
      "cell_type": "code",
      "metadata": {
        "id": "S1dSptx_ozGc",
        "colab_type": "code",
        "colab": {}
      },
      "source": [
        "import sentencepiece as spm\n",
        "\n",
        "# vocab loading\n",
        "vocab_file = \"/content/drive/My Drive/캐시카우_노하람인턴_공유폴더/transformer/kowiki.model\"\n",
        "vocab = spm.SentencePieceProcessor()\n",
        "vocab.load(vocab_file)"
      ],
      "execution_count": 0,
      "outputs": []
    },
    {
      "cell_type": "markdown",
      "metadata": {
        "id": "4FKOt4spyoUe",
        "colab_type": "text"
      },
      "source": [
        "# 3. 데이터 전처리\n",
        "다운로드된 데이터를 vocab으로 미리 tokenize해서 json형태로 저장 해 놓습니다.\n",
        "tokenize를 미리하지 않고 training시에 할 경우 처리시간이 매번 소요 되므로 이를 효과적으로 줄이기 위함 입니다."
      ]
    },
    {
      "cell_type": "code",
      "metadata": {
        "id": "EhVB5pGOyUQo",
        "colab_type": "code",
        "colab": {}
      },
      "source": [
        "\"\"\" train data 준비 \"\"\"\n",
        "def prepare_train(vocab, infile, outfile):\n",
        "    df = pd.read_csv(infile, sep=\"\\t\", engine=\"python\")\n",
        "    with open(outfile, \"w\") as f:\n",
        "        for index, row in df.iterrows():\n",
        "            document = row[\"ori\"]\n",
        "            if type(document) != str:\n",
        "                continue\n",
        "            instance = { \"id\": row[\"idx\"], \"doc\": vocab.encode_as_pieces(document), \"label\": row[\"hand\"] }\n",
        "            f.write(json.dumps(instance))\n",
        "            f.write(\"\\n\")"
      ],
      "execution_count": 0,
      "outputs": []
    },
    {
      "cell_type": "markdown",
      "metadata": {
        "id": "UMGlfGcby_2o",
        "colab_type": "text"
      },
      "source": [
        "아래 코드를 실행하면 전처리된 파일이 생성 됩니다.\n",
        "\n",
        "- 학습데이터: ratings_train.json\n",
        "- 평가데이터: ratings_test.json"
      ]
    },
    {
      "cell_type": "code",
      "metadata": {
        "id": "ZRRkeXACy36A",
        "colab_type": "code",
        "colab": {}
      },
      "source": [
        "prepare_train(vocab, \"/content/drive/My Drive/캐시카우_노하람인턴_공유폴더/transformer/transformer_train_dataset.txt\", \"/content/drive/My Drive/캐시카우_노하람인턴_공유폴더/transformer/ratings_train.json\")\n",
        "prepare_train(vocab, \"/content/drive/My Drive/캐시카우_노하람인턴_공유폴더/transformer/transformer_test_dataset.txt\", \"/content/drive/My Drive/캐시카우_노하람인턴_공유폴더/transformer/ratings_test.json\")"
      ],
      "execution_count": 0,
      "outputs": []
    }
  ]
}