{
  "nbformat": 4,
  "nbformat_minor": 0,
  "metadata": {
    "kernelspec": {
      "display_name": "Python 3",
      "language": "python",
      "name": "python3"
    },
    "language_info": {
      "codemirror_mode": {
        "name": "ipython",
        "version": 3
      },
      "file_extension": ".py",
      "mimetype": "text/x-python",
      "name": "python",
      "nbconvert_exporter": "python",
      "pygments_lexer": "ipython3",
      "version": "3.6.0"
    },
    "colab": {
      "name": "seq2seq_translation_tutorial.ipynb",
      "provenance": [],
      "private_outputs": true,
      "toc_visible": true,
      "include_colab_link": true
    },
    "accelerator": "GPU"
  },
  "cells": [
    {
      "cell_type": "markdown",
      "metadata": {
        "id": "view-in-github",
        "colab_type": "text"
      },
      "source": [
        "<a href=\"https://colab.research.google.com/github/moey920/NLP/blob/master/seq2seq_translation_tutorial.ipynb\" target=\"_parent\"><img src=\"https://colab.research.google.com/assets/colab-badge.svg\" alt=\"Open In Colab\"/></a>"
      ]
    },
    {
      "cell_type": "code",
      "metadata": {
        "id": "OVmT4v8e9nxg",
        "colab_type": "code",
        "colab": {}
      },
      "source": [
        "%matplotlib inline"
      ],
      "execution_count": 0,
      "outputs": []
    },
    {
      "cell_type": "markdown",
      "metadata": {
        "id": "HAIWn8-G9nxl",
        "colab_type": "text"
      },
      "source": [
        "\n",
        "Sequence to Sequence 네트워크와 Attention을 이용한 번역\n",
        "*************************************************************\n",
        "**Author**: `Sean Robertson <https://github.com/spro/practical-pytorch>`_\n",
        "  **번역**: `황성수 <https://github.com/adonisues>`_\n",
        "\n",
        "이 프로젝트에서 신경망이 불어를 영어로 번역하는 것을 가르칠 예정입니다.\n",
        "\n",
        "::\n",
        "\n",
        "    [KEY: > input, = target, < output]\n",
        "\n",
        "    > il est en train de peindre un tableau .\n",
        "    = he is painting a picture .\n",
        "    < he is painting a picture .\n",
        "\n",
        "    > pourquoi ne pas essayer ce vin delicieux ?\n",
        "    = why not try that delicious wine ?\n",
        "    < why not try that delicious wine ?\n",
        "\n",
        "    > elle n est pas poete mais romanciere .\n",
        "    = she is not a poet but a novelist .\n",
        "    < she not not a poet but a novelist .\n",
        "\n",
        "    > vous etes trop maigre .\n",
        "    = you re too skinny .\n",
        "    < you re all alone .\n",
        "\n",
        "... 성공도가 변합니다.\n",
        "\n",
        "이것은 하나의 시퀀스를 다른 시퀀스로 바꾸는 두개의 RNN 이 함께 동작하는\n",
        "`sequence to sequence network <http://arxiv.org/abs/1409.3215>`__ 의 간단하지만 강력한 아이디어로\n",
        "가능합니다. 인코더 네트워크는 입력 시퀀스를 벡터로 압축하고,\n",
        "디코더 네트워크는 해당 벡터를 새로운 시퀀스로 펼칩니다.\n",
        "\n",
        ".. figure:: /_static/img/seq-seq-images/seq2seq.png\n",
        "   :alt:\n",
        "\n",
        "이 모델을 개선하기 위해 `attention mechanism <https://arxiv.org/abs/1409.0473>`__ 을\n",
        "사용하여 디코더가 입력 시퀀스의 특정 범위에 초점을 맞출 수 있도록합니다.\n",
        "\n",
        "**추천 자료:**\n",
        "\n",
        "최소한 Pytorch 를 설치했고, Python을 알고, Tensor 를 이해한다고 가정합니다.:\n",
        "\n",
        "-  http://pytorch.org/ 설치 안내\n",
        "-  :doc:`/beginner/deep_learning_60min_blitz` 일반적인 PyTorch 시작을 위한 자료\n",
        "-  :doc:`/beginner/pytorch_with_examples` 넓고 깊은 통찰을 위한 자료\n",
        "-  :doc:`/beginner/former_torchies_tutorial` 이전 Lua Torch 사용자를 위한 자료\n",
        "\n",
        "\n",
        "Sequence to Sequence 네트워크와 동작 방법에 관해서 아는 것은 유용합니다:\n",
        "\n",
        "-  `Learning Phrase Representations using RNN Encoder-Decoder for\n",
        "   Statistical Machine Translation <http://arxiv.org/abs/1406.1078>`__\n",
        "-  `Sequence to Sequence Learning with Neural\n",
        "   Networks <http://arxiv.org/abs/1409.3215>`__\n",
        "-  `Neural Machine Translation by Jointly Learning to Align and\n",
        "   Translate <https://arxiv.org/abs/1409.0473>`__\n",
        "-  `A Neural Conversational Model <http://arxiv.org/abs/1506.05869>`__\n",
        "\n",
        "이전 튜토리얼에 있는\n",
        ":doc:`/intermediate/char_rnn_classification_tutorial`\n",
        "와 :doc:`/intermediate/char_rnn_generation_tutorial` 는\n",
        "각각 인코더와 디코더 모델과 비슷한 컨센을 가져서 도움이 됩니다.\n",
        "\n",
        "추가로 이 토픽들을 다루는 논문을 읽어 보십시오:\n",
        "\n",
        "-  `Learning Phrase Representations using RNN Encoder-Decoder for\n",
        "   Statistical Machine Translation <http://arxiv.org/abs/1406.1078>`__\n",
        "-  `Sequence to Sequence Learning with Neural\n",
        "   Networks <http://arxiv.org/abs/1409.3215>`__\n",
        "-  `Neural Machine Translation by Jointly Learning to Align and\n",
        "   Translate <https://arxiv.org/abs/1409.0473>`__\n",
        "-  `A Neural Conversational Model <http://arxiv.org/abs/1506.05869>`__\n",
        "\n",
        "\n",
        "**요구 사항**\n",
        "\n"
      ]
    },
    {
      "cell_type": "code",
      "metadata": {
        "id": "lYVFaktu9nxm",
        "colab_type": "code",
        "colab": {}
      },
      "source": [
        "from __future__ import unicode_literals, print_function, division\n",
        "from io import open\n",
        "import unicodedata\n",
        "import string\n",
        "import re\n",
        "import random\n",
        "\n",
        "import torch\n",
        "import torch.nn as nn\n",
        "from torch.autograd import Variable\n",
        "from torch import optim\n",
        "import torch.nn.functional as F\n",
        "\n",
        "use_cuda = torch.cuda.is_available()"
      ],
      "execution_count": 0,
      "outputs": []
    },
    {
      "cell_type": "markdown",
      "metadata": {
        "id": "WUpOYOqc9nxq",
        "colab_type": "text"
      },
      "source": [
        "데이터 파일 로딩\n",
        "==================\n",
        "\n",
        "이 프로젝트의 데이터는 수천 개의 영어-프랑스어 번역 쌍입니다.\n",
        "\n",
        "`Open Data Stack\n",
        "Exchange 에 관한 이 질문은 <http://opendata.stackexchange.com/questions/3888/dataset-of-sentences-translated-into-many-languages>`__\n",
        "http://tatoeba.org/eng/downloads에서 다운 가능한\n",
        "공개된 번역 사이트 http://tatoeba.org/ 를 알려 주었습니다 - 더 나은 방법으로\n",
        "누군가가 언어 쌍을 개별 텍스트 파일로 분할하는 추가 작업을 수행한\n",
        "http://www.manythings.org/anki/ 가 있습니다:\n",
        "\n",
        "영어-프랑스어 쌍이 너무 커서 저장소에 포함 할 수 없기 때문에\n",
        "계속하기 전에 ``data/eng-fra.txt`` 로 다운로드하십시오.\n",
        "이 파일은 탭으로 구분된 번역 쌍 목록입니다:\n",
        "\n",
        "::\n",
        "\n",
        "    I am cold.    J'ai froid.\n",
        "\n",
        ".. Note::\n",
        "   `여기 <https://download.pytorch.org/tutorial/data.zip>`_\n",
        "   에서 데이터를 다운 받고 현재 디렉토리에 압축을 푸십시오.\n",
        "\n"
      ]
    },
    {
      "cell_type": "markdown",
      "metadata": {
        "id": "27xBYZYj9nxq",
        "colab_type": "text"
      },
      "source": [
        "문자 단위 RNN 튜토리얼에서 사용된 문자 인코딩과 유사하게, 언어의 각\n",
        "단어들은 one-hot 벡터 또는 그 단어의 주소에만 단 하나의 1을 제외하고\n",
        "모두 0인 큰 벡터로 표현합니다. 한 가지 언어에 있는 수십 개의 문자와\n",
        "달리 아주 많은 단어들이 있기 때문에 인코딩 벡터는 아주 더 큽니다.\n",
        "그러나 우리는 약간의 속임수를 쓰고 언어 당 수천 단어 만\n",
        "사용하도록 데이터를 다듬을 것입니다.\n",
        "\n",
        ".. figure:: /_static/img/seq-seq-images/word-encoding.png\n",
        "   :alt:\n",
        "\n",
        "\n",
        "\n"
      ]
    },
    {
      "cell_type": "markdown",
      "metadata": {
        "id": "AZaL6VHE9nxr",
        "colab_type": "text"
      },
      "source": [
        "나중에 네트워크의 입력 및 목표로 사용하려면 단어 당 고유 번호가\n",
        "필요합니다. 이 모든 것을 추적하기 위해 우리는\n",
        "단어→색인(``word2index``)과 색인→단어(``index2word``) 사전,\n",
        "그리고 나중에 희귀 단어를 대체하는데 사용할 각 단어의 숫자\n",
        "``word2count`` 를 가진 ``Lang`` 이라는 헬퍼 클래스를 사용합니다.\n",
        "\n",
        "\n"
      ]
    },
    {
      "cell_type": "code",
      "metadata": {
        "id": "_venQl629nxs",
        "colab_type": "code",
        "colab": {}
      },
      "source": [
        "SOS_token = 0\n",
        "EOS_token = 1\n",
        "\n",
        "\n",
        "class Lang:\n",
        "    def __init__(self, name):\n",
        "        self.name = name\n",
        "        self.word2index = {}\n",
        "        self.word2count = {}\n",
        "        self.index2word = {0: \"SOS\", 1: \"EOS\"}\n",
        "        self.n_words = 2  #  SOS 와 EOS 단어 숫자 포함\n",
        "\n",
        "    def addSentence(self, sentence):\n",
        "        for word in sentence.split(' '):\n",
        "            self.addWord(word)\n",
        "\n",
        "    def addWord(self, word):\n",
        "        if word not in self.word2index:\n",
        "            self.word2index[word] = self.n_words\n",
        "            self.word2count[word] = 1\n",
        "            self.index2word[self.n_words] = word\n",
        "            self.n_words += 1\n",
        "        else:\n",
        "            self.word2count[word] += 1"
      ],
      "execution_count": 0,
      "outputs": []
    },
    {
      "cell_type": "markdown",
      "metadata": {
        "id": "VMmE8HtQ9nxv",
        "colab_type": "text"
      },
      "source": [
        "파일은 모두 유니 코드로 되어있어 간단하게하기 위해 유니 코드 문자를\n",
        "ASCII로 변환하고, 모든 문자를 소문자로 만들고, 대부분의 구두점을\n",
        "지워줍니다.\n",
        "\n",
        "\n"
      ]
    },
    {
      "cell_type": "code",
      "metadata": {
        "id": "OEKQliBD9nxw",
        "colab_type": "code",
        "colab": {}
      },
      "source": [
        "# 유니 코드 문자열을 일반 ASCII로 변환하십시오.\n",
        "# http://stackoverflow.com/a/518232/2809427 에 감사드립니다.\n",
        "def unicodeToAscii(s):\n",
        "    return ''.join(\n",
        "    #    c for c in unicodedata.normalize('NFD', s)\n",
        "    #    if unicodedata.category(c) != 'Mn'\n",
        "    )\n",
        "\n",
        "# 소문자, 다듬기, 그리고 문자가 아닌 문자 제거\n",
        "\n",
        "\n",
        "def normalizeString(s):\n",
        "    #s = unicodeToAscii(s.lower().strip())\n",
        "    #s = re.sub(r\"([.!?])\", r\" \\1\", s)\n",
        "    #s = re.sub(r\"[^a-zA-Z.!?]+\", r\" \", s)\n",
        "    return s"
      ],
      "execution_count": 0,
      "outputs": []
    },
    {
      "cell_type": "markdown",
      "metadata": {
        "id": "z7Mv6rSn9nx0",
        "colab_type": "text"
      },
      "source": [
        "데이터 파일을 읽으려면 파일을 줄로 나누고 줄을 쌍으로 나눕니다.\n",
        "파일은 모두 영어 → 기타 언어이므로 만약 다른 언어 → 영어로\n",
        "번역한다면 쌍을 뒤집도록 ``reverse`` 플래그를 추가했습니다.\n",
        "\n",
        "\n"
      ]
    },
    {
      "cell_type": "code",
      "metadata": {
        "id": "GHqkRB_F9nx1",
        "colab_type": "code",
        "colab": {}
      },
      "source": [
        "def readLangs(lang1, lang2, reverse=False):\n",
        "    print(\"Reading lines...\")\n",
        "\n",
        "    # Read the file and split into lines\n",
        "    lines = open('/content/drive/My Drive/캐시카우_노하람인턴_공유폴더/seq2seq/임시/seq2seq_dataset_tuto.txt' % (lang1, lang2), encoding='utf-8').\\\n",
        "        read().strip().split('\\n')\n",
        "\n",
        "    # 모든 줄을 쌍으로 분리하고 정규화 하십시오\n",
        "    pairs = [[normalizeString(s) for s in l.split('\\t')] for l in lines]\n",
        "\n",
        "    # 쌍을 뒤집고, Lang 인스턴스를 만드십시오\n",
        "    if reverse:\n",
        "        pairs = [list(reversed(p)) for p in pairs]\n",
        "        input_lang = Lang(lang2)\n",
        "        output_lang = Lang(lang1)\n",
        "    else:\n",
        "        input_lang = Lang(lang1)\n",
        "        output_lang = Lang(lang2)\n",
        "\n",
        "    return input_lang, output_lang, pairs"
      ],
      "execution_count": 0,
      "outputs": []
    },
    {
      "cell_type": "code",
      "metadata": {
        "id": "noovcbBp-IDy",
        "colab_type": "code",
        "colab": {}
      },
      "source": [
        "from google.colab import drive\n",
        "drive.mount('/content/drive')"
      ],
      "execution_count": 0,
      "outputs": []
    },
    {
      "cell_type": "markdown",
      "metadata": {
        "id": "Ror2s4DG9nx4",
        "colab_type": "text"
      },
      "source": [
        "*많은* 예제 문장이 있고 신속하게 학습하기를 원하기 때문에\n",
        "비교적 짧고 간단한 문장으로만 데이터 셋을 정리할 것입니다. 여기서\n",
        "최대 길이는 10 단어 (종료 문장 부호 포함)이며 \"I am\" 또는\n",
        "\"He is\" 등의 형태로 번역되는 문장으로 필터링됩니다.(이전에\n",
        "아포스트로피는 대체 됨)\n",
        "\n",
        "\n"
      ]
    },
    {
      "cell_type": "code",
      "metadata": {
        "id": "aqgns4gp9nx5",
        "colab_type": "code",
        "colab": {}
      },
      "source": [
        "MAX_LENGTH = 10\n",
        "\n",
        "eng_prefixes = (\n",
        "    \"i am \", \"i m \",\n",
        "    \"he is\", \"he s \",\n",
        "    \"she is\", \"she s\",\n",
        "    \"you are\", \"you re \",\n",
        "    \"we are\", \"we re \",\n",
        "    \"they are\", \"they re \"\n",
        ")\n",
        "\n",
        "\n",
        "def filterPair(p):\n",
        "    return len(p[0].split(' ')) < MAX_LENGTH and \\\n",
        "        len(p[1].split(' ')) < MAX_LENGTH and \\\n",
        "        p[1].startswith(eng_prefixes)\n",
        "\n",
        "\n",
        "def filterPairs(pairs):\n",
        "    return [pair for pair in pairs if filterPair(pair)]"
      ],
      "execution_count": 0,
      "outputs": []
    },
    {
      "cell_type": "markdown",
      "metadata": {
        "id": "PeNEIwNL9nx8",
        "colab_type": "text"
      },
      "source": [
        "데이터 준비를 위한 전체 과정:\n",
        "\n",
        "-  텍스트 파일을 읽고 줄로 분리하고, 줄을 쌍으로 분리합니다.\n",
        "-  텍스트를 정규화 하고 길이와 내용으로 필터링 합니다.\n",
        "-  쌍의 문장들에서 단어 리스트를 생성합니다.\n",
        "\n",
        "\n"
      ]
    },
    {
      "cell_type": "code",
      "metadata": {
        "id": "UTHn-FrJ9nx-",
        "colab_type": "code",
        "colab": {}
      },
      "source": [
        "def prepareData(lang1, lang2, reverse=False):\n",
        "    input_lang, output_lang, pairs = readLangs(lang1, lang2, reverse)\n",
        "    print(\"Read %s sentence pairs\" % len(pairs))\n",
        "    pairs = filterPairs(pairs)\n",
        "    print(\"Trimmed to %s sentence pairs\" % len(pairs))\n",
        "    print(\"Counting words...\")\n",
        "    for pair in pairs:\n",
        "        input_lang.addSentence(pair[0])\n",
        "        output_lang.addSentence(pair[1])\n",
        "    print(\"Counted words:\")\n",
        "    print(input_lang.name, input_lang.n_words)\n",
        "    print(output_lang.name, output_lang.n_words)\n",
        "    return input_lang, output_lang, pairs\n",
        "\n",
        "\n",
        "input_lang, output_lang, pairs = prepareData('eng', 'fra', True)\n",
        "print(random.choice(pairs))"
      ],
      "execution_count": 0,
      "outputs": []
    },
    {
      "cell_type": "markdown",
      "metadata": {
        "id": "uo2Sm_Iv9nyB",
        "colab_type": "text"
      },
      "source": [
        "Seq2Seq 모델\n",
        "=================\n",
        "\n",
        "Recurrent Neural Network(RNN)는 시퀀스에서 작동하고 후속 단계의\n",
        "입력으로 자신의 출력을 사용하는 네트워크입니다.\n",
        "\n",
        "`Sequence to Sequence network <http://arxiv.org/abs/1409.3215>`__, 또는\n",
        "seq2seq 네트워크, 또는 `Encoder Decoder\n",
        "network <https://arxiv.org/pdf/1406.1078v3.pdf>`__ 는 인코더 및\n",
        "디코더라고하는 두 개의 RNN으로 구성된 모델입니다.\n",
        "인코더는 입력 시퀀스를 읽고 단일 벡터를 출력하고,\n",
        "디코더는 해당 벡터를 읽어 출력 시퀀스를 생성합니다.\n",
        "\n",
        ".. figure:: /_static/img/seq-seq-images/seq2seq.png\n",
        "   :alt:\n",
        "\n",
        "모든 입력에 해당하는 출력이 있는 단일 RNN의 시퀀스 예측과 달리\n",
        "seq2seq 모델은 시퀀스 길이와 순서를 자유롭게하여\n",
        "두 언어 간의 번역에 이상적입니다.\n",
        "\n",
        "다음 문장 \"Je ne suis pas le chat noir\" → \"I am not the black cat\"\n",
        "를 살펴 봅시다. 입력 문장의 대부분의 단어는 출력 문장에서\n",
        "직역되지만 약간 다른 순서도 있습니다. 예시 \"chat noir\" 와 \"black cat\".\n",
        "\"ne/pas\" 구조로 인해 입력 문장에 단어가 하나 더 있습니다.\n",
        "입력 단어의 시퀀스에서 직접적으로 정확한 번역을 만드는\n",
        "것은 어려울 것입니다.\n",
        "\n",
        "seq2seq 모델을 사용하면 인코더는 하나의 벡터를 생성합니다.\n",
        "이상적인 경우 입력 시퀀스의 \"의미\"를 문장의 N 차원 공간에 있는\n",
        "단일 지점인 단일 벡터으로 인코딩합니다.\n",
        "\n",
        "\n"
      ]
    },
    {
      "cell_type": "markdown",
      "metadata": {
        "id": "qZiC_V0A9nyB",
        "colab_type": "text"
      },
      "source": [
        "인코더\n",
        "-----------\n",
        "\n",
        "seq2seq 네트워크의 인코더는 입력 문장의 모든 단어에 대해 어떤 값을\n",
        "출력하는 RNN입니다. 모든 입력 단어에 대해 인코더는 벡터와\n",
        "hidden state 를 출력하고 다음 입력 단어에 hidden state를 사용합니다.\n",
        "\n",
        ".. figure:: /_static/img/seq-seq-images/encoder-network.png\n",
        "   :alt:\n",
        "\n",
        "\n",
        "\n"
      ]
    },
    {
      "cell_type": "code",
      "metadata": {
        "id": "9Luvv9l-9nyC",
        "colab_type": "code",
        "colab": {}
      },
      "source": [
        "class EncoderRNN(nn.Module):\n",
        "    def __init__(self, input_size, hidden_size):\n",
        "        super(EncoderRNN, self).__init__()\n",
        "        self.hidden_size = hidden_size\n",
        "\n",
        "        self.embedding = nn.Embedding(input_size, hidden_size)\n",
        "        self.gru = nn.GRU(hidden_size, hidden_size)\n",
        "\n",
        "    def forward(self, input, hidden):\n",
        "        embedded = self.embedding(input).view(1, 1, -1)\n",
        "        output = embedded\n",
        "        output, hidden = self.gru(output, hidden)\n",
        "        return output, hidden\n",
        "\n",
        "    def initHidden(self):\n",
        "        result = Variable(torch.zeros(1, 1, self.hidden_size))\n",
        "        if use_cuda:\n",
        "            return result.cuda()\n",
        "        else:\n",
        "            return result"
      ],
      "execution_count": 0,
      "outputs": []
    },
    {
      "cell_type": "markdown",
      "metadata": {
        "id": "BTbsjvYf9nyF",
        "colab_type": "text"
      },
      "source": [
        "디코더\n",
        "-----------\n",
        "\n",
        "디코더는 인코더 출력 벡터를 받아서 번역을 생성하는 단어 시퀀스를\n",
        "출력합니다.\n",
        "\n",
        "\n"
      ]
    },
    {
      "cell_type": "markdown",
      "metadata": {
        "id": "tgYcas979nyF",
        "colab_type": "text"
      },
      "source": [
        "간단한 디코더\n",
        "^^^^^^^^^^^^^^\n",
        "\n",
        "가장 간단한 seq2seq 디코더에서 인코더의 마지막 출력만을 이용합니다.\n",
        "이 마지막 출력은 전체 시퀀스에서 문맥을 인코드하기 때문에\n",
        "*문맥 벡터(context vector)* 로 불립니다. 이 문맥 벡터는 디코더의 초기 hidden state로\n",
        "사용 됩니다.\n",
        "\n",
        "디코딩의 매 단계에서 디코더에게 입력 토큰과 hidden state 가 주어집니다.\n",
        "초기 입력 토큰은 문자열-시작 (start-of-string) ``<SOS>`` 토큰이고,\n",
        "첫 hidden state는 문맥 벡터(인코더의 마지막 hidden state) 입니다.\n",
        "\n",
        ".. figure:: /_static/img/seq-seq-images/decoder-network.png\n",
        "   :alt:\n",
        "\n",
        "\n",
        "\n"
      ]
    },
    {
      "cell_type": "code",
      "metadata": {
        "id": "D7rOAT3N9nyG",
        "colab_type": "code",
        "colab": {}
      },
      "source": [
        "class DecoderRNN(nn.Module):\n",
        "    def __init__(self, hidden_size, output_size):\n",
        "        super(DecoderRNN, self).__init__()\n",
        "        self.hidden_size = hidden_size\n",
        "\n",
        "        self.embedding = nn.Embedding(output_size, hidden_size)\n",
        "        self.gru = nn.GRU(hidden_size, hidden_size)\n",
        "        self.out = nn.Linear(hidden_size, output_size)\n",
        "        self.softmax = nn.LogSoftmax(dim=1)\n",
        "\n",
        "    def forward(self, input, hidden):\n",
        "        output = self.embedding(input).view(1, 1, -1)\n",
        "        output = F.relu(output)\n",
        "        output, hidden = self.gru(output, hidden)\n",
        "        output = self.softmax(self.out(output[0]))\n",
        "        return output, hidden\n",
        "\n",
        "    def initHidden(self):\n",
        "        result = Variable(torch.zeros(1, 1, self.hidden_size))\n",
        "        if use_cuda:\n",
        "            return result.cuda()\n",
        "        else:\n",
        "            return result"
      ],
      "execution_count": 0,
      "outputs": []
    },
    {
      "cell_type": "markdown",
      "metadata": {
        "id": "dVnOZIo59nyK",
        "colab_type": "text"
      },
      "source": [
        "나는 당신이 이 모델의 결과를 학습하고 관찰하는 것을 권장하지만,\n",
        "공간을 절약하기 위해 금메달을 위해 곧장 가고\n",
        "어텐션 메카니즘을 소개 할 것입니다.\n",
        "\n",
        "\n"
      ]
    },
    {
      "cell_type": "markdown",
      "metadata": {
        "id": "SUgfIgLi9nyL",
        "colab_type": "text"
      },
      "source": [
        "어텐션 디코더\n",
        "^^^^^^^^^^^^^^^^^\n",
        "\n",
        "문맥 벡터만 인코더와 디코더 사이로 전달 된다면, 단일 벡터가 전체 문장의\n",
        "인코딩 부담을 가지게 됩니다.\n",
        "어텐션은 디코더 네트워크가 자기 출력의 모든 단계에서 인코더 출력의\n",
        "다른 부분에 \"집중\" 할 수 있게 합니다. 첫째 *어텐션 웨이트* 의 셋을\n",
        "계산합니다. 이것은 가중치 조합을 만들기 위해서 인코더 출력 벡터와\n",
        "곱해집니다. 그 결과 (코드에서 ``attn_applied``)는 입력 시퀀스의\n",
        "특정 부분에 관한 정보를 포함해야하고 따라서 디코더가 알맞은 출력\n",
        "단어를 선택하는 것을 도와줍니다.\n",
        "\n",
        ".. figure:: https://i.imgur.com/1152PYf.png\n",
        "   :alt:\n",
        "\n",
        "어텐션 가중치 계산은 디코더의 입력 및 Hidden State를 입력으로\n",
        "사용하는 다른 feed-forwad layer 인 ``attn`` 으로 수행됩니다.\n",
        "학습 데이터에는 모든 크기의 문장이 있기 때문에 이 계층을 실제로\n",
        "만들고 학습시키려면 적용 할 수 있는 최대 문장 길이 (인코더 출력의 입력 길이)를\n",
        "선택해야 합니다. 최대 길이의 문장은 모든 어텐션 가중치를 사용하지만\n",
        "더 짧은 문장은 처음 몇 개만 사용합니다.\n",
        "\n",
        ".. figure:: /_static/img/seq-seq-images/attention-decoder-network.png\n",
        "   :alt:\n",
        "\n",
        "\n",
        "\n"
      ]
    },
    {
      "cell_type": "code",
      "metadata": {
        "id": "AWRxFG-Z9nyM",
        "colab_type": "code",
        "colab": {}
      },
      "source": [
        "class AttnDecoderRNN(nn.Module):\n",
        "    def __init__(self, hidden_size, output_size, dropout_p=0.1, max_length=MAX_LENGTH):\n",
        "        super(AttnDecoderRNN, self).__init__()\n",
        "        self.hidden_size = hidden_size\n",
        "        self.output_size = output_size\n",
        "        self.dropout_p = dropout_p\n",
        "        self.max_length = max_length\n",
        "\n",
        "        self.embedding = nn.Embedding(self.output_size, self.hidden_size)\n",
        "        self.attn = nn.Linear(self.hidden_size * 2, self.max_length)\n",
        "        self.attn_combine = nn.Linear(self.hidden_size * 2, self.hidden_size)\n",
        "        self.dropout = nn.Dropout(self.dropout_p)\n",
        "        self.gru = nn.GRU(self.hidden_size, self.hidden_size)\n",
        "        self.out = nn.Linear(self.hidden_size, self.output_size)\n",
        "\n",
        "    def forward(self, input, hidden, encoder_outputs):\n",
        "        embedded = self.embedding(input).view(1, 1, -1)\n",
        "        embedded = self.dropout(embedded)\n",
        "\n",
        "        attn_weights = F.softmax(\n",
        "            self.attn(torch.cat((embedded[0], hidden[0]), 1)), dim=1)\n",
        "        attn_applied = torch.bmm(attn_weights.unsqueeze(0),\n",
        "                                 encoder_outputs.unsqueeze(0))\n",
        "\n",
        "        output = torch.cat((embedded[0], attn_applied[0]), 1)\n",
        "        output = self.attn_combine(output).unsqueeze(0)\n",
        "\n",
        "        output = F.relu(output)\n",
        "        output, hidden = self.gru(output, hidden)\n",
        "\n",
        "        output = F.log_softmax(self.out(output[0]), dim=1)\n",
        "        return output, hidden, attn_weights\n",
        "\n",
        "    def initHidden(self):\n",
        "        result = Variable(torch.zeros(1, 1, self.hidden_size))\n",
        "        if use_cuda:\n",
        "            return result.cuda()\n",
        "        else:\n",
        "            return result"
      ],
      "execution_count": 0,
      "outputs": []
    },
    {
      "cell_type": "markdown",
      "metadata": {
        "id": "_gAsI8Qg9nyP",
        "colab_type": "text"
      },
      "source": [
        ".. Note:: 상대 위치 접근을 이용한 길이 제한을 하는 다른 형태의 어텐션\n",
        "  이 있습니다. \"local attention\"에 관한 자료\n",
        "  `Effective Approaches to Attention-based Neural Machine Translation <https://arxiv.org/abs/1508.04025>`__\n",
        "  를 읽으십시오\n",
        "\n",
        "학습\n",
        "========\n",
        "\n",
        "학습 데이터 준비\n",
        "-----------------------\n",
        "\n",
        "학습을 위해서, 각 쌍마다 입력 Tensor (입력 문장의 단어 주소)와\n",
        "목표 Tensor (목표 문장의 단어 주소)가 필요합니다. 이 벡터들을\n",
        "생성하는 동안 두 시퀀스에 EOS 토큰을 추가 합니다.\n",
        "\n",
        "\n"
      ]
    },
    {
      "cell_type": "code",
      "metadata": {
        "id": "two7Rdxb9nyQ",
        "colab_type": "code",
        "colab": {}
      },
      "source": [
        "def indexesFromSentence(lang, sentence):\n",
        "    return [lang.word2index[word] for word in sentence.split(' ')]\n",
        "\n",
        "\n",
        "def variableFromSentence(lang, sentence):\n",
        "    indexes = indexesFromSentence(lang, sentence)\n",
        "    indexes.append(EOS_token)\n",
        "    result = Variable(torch.LongTensor(indexes).view(-1, 1))\n",
        "    if use_cuda:\n",
        "        return result.cuda()\n",
        "    else:\n",
        "        return result\n",
        "\n",
        "\n",
        "def variablesFromPair(pair):\n",
        "    input_variable = variableFromSentence(input_lang, pair[0])\n",
        "    target_variable = variableFromSentence(output_lang, pair[1])\n",
        "    return (input_variable, target_variable)"
      ],
      "execution_count": 0,
      "outputs": []
    },
    {
      "cell_type": "markdown",
      "metadata": {
        "id": "Lx2Dtp0o9nyU",
        "colab_type": "text"
      },
      "source": [
        "모델 학습\n",
        "------------------\n",
        "\n",
        "학습을 위해서 인코더에 입력 문장을 넣고 모든 출력과 최신 hidden state를\n",
        "추적합니다. 그런 다음 디코더에 첫 번째 입력으로 ``<SOS>`` 토큰과\n",
        "인코더의 마지막 Hidden state가 첫번쩨 Hidden state로 제공됩니다.\n",
        "\n",
        "\"Teacher forcing\"은 다음 입력으로 디코더의 예측을 사용하는 대신\n",
        "실제 목표 출력을 다음 입력으로 사용하는 컨셉입니다.\n",
        "\"Teacher forcing\"을 사용하면 수렴이 빨리되지만 `학습된 네트워크가\n",
        "잘못 사용될 때 불안정성을 보입니다\n",
        "<http://minds.jacobs-university.de/sites/default/files/uploads/papers/ESNTutorialRev.pdf>`__\n",
        "\n",
        "teacher-forced 네트워크의 출력이 일관된 문법으로 읽지만 정확한\n",
        "번역과는 거리가 멀다는 것을 볼 수 있습니다. - 직관적으로 출력 문법을\n",
        "표현하는 법을 배우고 교사가 처음 몇 단어를 말하면 의미를 \"선택할\" 수 있지만\n",
        "번역에서 처음으로 문장을 만드는 법을 잘 배우지 못했습니다.\n",
        "\n",
        "PyTorch의 autograd 가 제공하는 자유 덕분에 간단한 if 문으로\n",
        "teacher forcing 을 사용할지 아니면 사용하지 않을지를 선택할 수 있습니다.\n",
        "더 많은 것을 사용하려면 ``teacher_forcing_ratio`` 를 확인하십시오.\n",
        "\n",
        "\n"
      ]
    },
    {
      "cell_type": "code",
      "metadata": {
        "id": "r7BHlyJM9nyU",
        "colab_type": "code",
        "colab": {}
      },
      "source": [
        "teacher_forcing_ratio = 0.5\n",
        "\n",
        "\n",
        "def train(input_variable, target_variable, encoder, decoder, encoder_optimizer, decoder_optimizer, criterion, max_length=MAX_LENGTH):\n",
        "    encoder_hidden = encoder.initHidden()\n",
        "\n",
        "    encoder_optimizer.zero_grad()\n",
        "    decoder_optimizer.zero_grad()\n",
        "\n",
        "    input_length = input_variable.size()[0]\n",
        "    target_length = target_variable.size()[0]\n",
        "\n",
        "    encoder_outputs = Variable(torch.zeros(max_length, encoder.hidden_size))\n",
        "    encoder_outputs = encoder_outputs.cuda() if use_cuda else encoder_outputs\n",
        "\n",
        "    loss = 0\n",
        "\n",
        "    for ei in range(input_length):\n",
        "        encoder_output, encoder_hidden = encoder(\n",
        "            input_variable[ei], encoder_hidden)\n",
        "        encoder_outputs[ei] = encoder_output[0][0]\n",
        "\n",
        "    decoder_input = Variable(torch.LongTensor([[SOS_token]]))\n",
        "    decoder_input = decoder_input.cuda() if use_cuda else decoder_input\n",
        "\n",
        "    decoder_hidden = encoder_hidden\n",
        "\n",
        "    use_teacher_forcing = True if random.random() < teacher_forcing_ratio else False\n",
        "\n",
        "    if use_teacher_forcing:\n",
        "        # Teacher forcing: 목표를 다음 입력으로 전달\n",
        "        for di in range(target_length):\n",
        "            decoder_output, decoder_hidden, decoder_attention = decoder(\n",
        "                decoder_input, decoder_hidden, encoder_outputs)\n",
        "            loss += criterion(decoder_output, target_variable[di])\n",
        "            decoder_input = target_variable[di]  # Teacher forcing\n",
        "\n",
        "    else:\n",
        "        # teacher forcing 없이: 자신의 예측을 다음 입력으로 사용\n",
        "        for di in range(target_length):\n",
        "            decoder_output, decoder_hidden, decoder_attention = decoder(\n",
        "                decoder_input, decoder_hidden, encoder_outputs)\n",
        "            topv, topi = decoder_output.data.topk(1)\n",
        "            ni = topi[0][0]\n",
        "\n",
        "            decoder_input = Variable(torch.LongTensor([[ni]]))\n",
        "            decoder_input = decoder_input.cuda() if use_cuda else decoder_input\n",
        "\n",
        "            loss += criterion(decoder_output, target_variable[di])\n",
        "            if ni == EOS_token:\n",
        "                break\n",
        "\n",
        "    loss.backward()\n",
        "\n",
        "    encoder_optimizer.step()\n",
        "    decoder_optimizer.step()\n",
        "\n",
        "    return loss.data[0] / target_length"
      ],
      "execution_count": 0,
      "outputs": []
    },
    {
      "cell_type": "markdown",
      "metadata": {
        "id": "p9qKKdC39nyX",
        "colab_type": "text"
      },
      "source": [
        "이것은 현재 시간과 진행률%을 고려하여 경과된 시간과 남은 예상\n",
        "시간을 출력하는 헬퍼 함수입니다.\n",
        "\n",
        "\n"
      ]
    },
    {
      "cell_type": "code",
      "metadata": {
        "id": "-UipImDs9nyY",
        "colab_type": "code",
        "colab": {}
      },
      "source": [
        "import time\n",
        "import math\n",
        "\n",
        "\n",
        "def asMinutes(s):\n",
        "    m = math.floor(s / 60)\n",
        "    s -= m * 60\n",
        "    return '%dm %ds' % (m, s)\n",
        "\n",
        "\n",
        "def timeSince(since, percent):\n",
        "    now = time.time()\n",
        "    s = now - since\n",
        "    es = s / (percent)\n",
        "    rs = es - s\n",
        "    return '%s (- %s)' % (asMinutes(s), asMinutes(rs))"
      ],
      "execution_count": 0,
      "outputs": []
    },
    {
      "cell_type": "markdown",
      "metadata": {
        "id": "sLN5tvOM9nyb",
        "colab_type": "text"
      },
      "source": [
        "전체 학습 과정은 다음과 같습니다:\n",
        "\n",
        "-  타이머 시작\n",
        "-  optimizers와 criterion 초기화\n",
        "-  학습 쌍의 세트 생성\n",
        "-  도식화를 위한 빈 손실 배열 시작\n",
        "\n",
        "그런 다음 우리는 여러 번 ``train`` 을 호출하며 때로는 진행률\n",
        "(예제의 %, 현재까지의 예상 시간)과 평균 손실을 출력합니다.\n",
        "\n",
        "\n"
      ]
    },
    {
      "cell_type": "code",
      "metadata": {
        "id": "i2zUQ4ur9nyc",
        "colab_type": "code",
        "colab": {}
      },
      "source": [
        "def trainIters(encoder, decoder, n_iters, print_every=1000, plot_every=100, learning_rate=0.01):\n",
        "    start = time.time()\n",
        "    plot_losses = []\n",
        "    print_loss_total = 0  # 매 print_every 마다 초기화\n",
        "    plot_loss_total = 0   # 매 plot_every 마다 초기화\n",
        "\n",
        "    encoder_optimizer = optim.SGD(encoder.parameters(), lr=learning_rate)\n",
        "    decoder_optimizer = optim.SGD(decoder.parameters(), lr=learning_rate)\n",
        "    training_pairs = [variablesFromPair(random.choice(pairs))\n",
        "                      for i in range(n_iters)]\n",
        "    criterion = nn.NLLLoss()\n",
        "\n",
        "    for iter in range(1, n_iters + 1):\n",
        "        training_pair = training_pairs[iter - 1]\n",
        "        input_variable = training_pair[0]\n",
        "        target_variable = training_pair[1]\n",
        "\n",
        "        loss = train(input_variable, target_variable, encoder,\n",
        "                     decoder, encoder_optimizer, decoder_optimizer, criterion)\n",
        "        print_loss_total += loss\n",
        "        plot_loss_total += loss\n",
        "\n",
        "        if iter % print_every == 0:\n",
        "            print_loss_avg = print_loss_total / print_every\n",
        "            print_loss_total = 0\n",
        "            print('%s (%d %d%%) %.4f' % (timeSince(start, iter / n_iters),\n",
        "                                         iter, iter / n_iters * 100, print_loss_avg))\n",
        "\n",
        "        if iter % plot_every == 0:\n",
        "            plot_loss_avg = plot_loss_total / plot_every\n",
        "            plot_losses.append(plot_loss_avg)\n",
        "            plot_loss_total = 0\n",
        "\n",
        "    showPlot(plot_losses)"
      ],
      "execution_count": 0,
      "outputs": []
    },
    {
      "cell_type": "markdown",
      "metadata": {
        "id": "UxrsOmE39nyf",
        "colab_type": "text"
      },
      "source": [
        "결과 도식화\n",
        "----------------\n",
        "\n",
        "matplotlib로 학습 중에 저장된 손실 값 ``plot_losses`` 의 배열을\n",
        "사용하여 도식화합니다.\n",
        "\n",
        "\n"
      ]
    },
    {
      "cell_type": "code",
      "metadata": {
        "id": "Rn0TgGgi9nyg",
        "colab_type": "code",
        "colab": {}
      },
      "source": [
        "import matplotlib.pyplot as plt\n",
        "import matplotlib.ticker as ticker\n",
        "import numpy as np\n",
        "\n",
        "\n",
        "def showPlot(points):\n",
        "    plt.figure()\n",
        "    fig, ax = plt.subplots()\n",
        "    # this locator puts ticks at regular intervals\n",
        "    loc = ticker.MultipleLocator(base=0.2)\n",
        "    ax.yaxis.set_major_locator(loc)\n",
        "    plt.plot(points)"
      ],
      "execution_count": 0,
      "outputs": []
    },
    {
      "cell_type": "markdown",
      "metadata": {
        "id": "OwiPQVrV9nyi",
        "colab_type": "text"
      },
      "source": [
        "평가\n",
        "==========\n",
        "\n",
        "평가는 대부분 학습과 동일하지만 목표가 없으므로 각 단계마다 디코더의\n",
        "예측을 되돌려 전달합니다.\n",
        "단어를 예측할 때마다 그 단어를 출력 문자열에 추가합니다.\n",
        "만약 EOS 토큰을 예측하면 거기에서 멈춥니다.\n",
        "나중에 도식화를 위해서 디코더의 어텐션 출력을 저장합니다.\n",
        "\n",
        "\n"
      ]
    },
    {
      "cell_type": "code",
      "metadata": {
        "id": "KUY32aCu9nyj",
        "colab_type": "code",
        "colab": {}
      },
      "source": [
        "def evaluate(encoder, decoder, sentence, max_length=MAX_LENGTH):\n",
        "    input_variable = variableFromSentence(input_lang, sentence)\n",
        "    input_length = input_variable.size()[0]\n",
        "    encoder_hidden = encoder.initHidden()\n",
        "\n",
        "    encoder_outputs = Variable(torch.zeros(max_length, encoder.hidden_size))\n",
        "    encoder_outputs = encoder_outputs.cuda() if use_cuda else encoder_outputs\n",
        "\n",
        "    for ei in range(input_length):\n",
        "        encoder_output, encoder_hidden = encoder(input_variable[ei],\n",
        "                                                 encoder_hidden)\n",
        "        encoder_outputs[ei] = encoder_outputs[ei] + encoder_output[0][0]\n",
        "\n",
        "    decoder_input = Variable(torch.LongTensor([[SOS_token]]))  # SOS\n",
        "    decoder_input = decoder_input.cuda() if use_cuda else decoder_input\n",
        "\n",
        "    decoder_hidden = encoder_hidden\n",
        "\n",
        "    decoded_words = []\n",
        "    decoder_attentions = torch.zeros(max_length, max_length)\n",
        "\n",
        "    for di in range(max_length):\n",
        "        decoder_output, decoder_hidden, decoder_attention = decoder(\n",
        "            decoder_input, decoder_hidden, encoder_outputs)\n",
        "        decoder_attentions[di] = decoder_attention.data\n",
        "        topv, topi = decoder_output.data.topk(1)\n",
        "        ni = topi[0][0]\n",
        "        if ni == EOS_token:\n",
        "            decoded_words.append('<EOS>')\n",
        "            break\n",
        "        else:\n",
        "            decoded_words.append(output_lang.index2word[ni])\n",
        "\n",
        "        decoder_input = Variable(torch.LongTensor([[ni]]))\n",
        "        decoder_input = decoder_input.cuda() if use_cuda else decoder_input\n",
        "\n",
        "    return decoded_words, decoder_attentions[:di + 1]"
      ],
      "execution_count": 0,
      "outputs": []
    },
    {
      "cell_type": "markdown",
      "metadata": {
        "id": "Y4kFzfkg9nyl",
        "colab_type": "text"
      },
      "source": [
        "우리는 학습 세트에 있는 임의의 문장을 평가하고\n",
        "입력, 목표 및 출력을 출력하여 주관적인 품질 판단을 내릴 수 있습니다::\n",
        "\n",
        "\n"
      ]
    },
    {
      "cell_type": "code",
      "metadata": {
        "id": "la0P3D-o9nym",
        "colab_type": "code",
        "colab": {}
      },
      "source": [
        "def evaluateRandomly(encoder, decoder, n=10):\n",
        "    for i in range(n):\n",
        "        pair = random.choice(pairs)\n",
        "        print('>', pair[0])\n",
        "        print('=', pair[1])\n",
        "        output_words, attentions = evaluate(encoder, decoder, pair[0])\n",
        "        output_sentence = ' '.join(output_words)\n",
        "        print('<', output_sentence)\n",
        "        print('')"
      ],
      "execution_count": 0,
      "outputs": []
    },
    {
      "cell_type": "markdown",
      "metadata": {
        "id": "jwm41w7F9nyo",
        "colab_type": "text"
      },
      "source": [
        "학습과 평가\n",
        "=======================\n",
        "\n",
        "이러한 모든 헬퍼 함수를 이용해서 (추가 작업처럼 보이지만 여러 실험을\n",
        "더 쉽게 수행 할 수 있음) 실제로 네트워크를 초기화하고 학습을\n",
        "시작할 수 있습니다.\n",
        "\n",
        "입력 문장은 많이 필터링되었음을 기억하십시오. 이 작은 데이터 세트의\n",
        "경우 256 개의 hidden node 와 단일 GRU layer의 상대적으로 작은\n",
        "네트워크를 사용할 수 있습니다. MacBook CPU에 대해 약 40분 후에\n",
        "합리적인 결과를 얻을 것입니다.\n",
        "\n",
        ".. Note::\n",
        "   이 노트북을 실행하면 학습, 커널 중단, 평가를 할 수 있고 나중에\n",
        "   이어서 학습을 할 수 있습니다. 인코더와 디코더가 초기화 된 행을\n",
        "   주석 처리하고 ``trainIters`` 를 다시 실행하십시오.\n",
        "\n",
        "\n"
      ]
    },
    {
      "cell_type": "code",
      "metadata": {
        "id": "JjSfZ_I-9nyp",
        "colab_type": "code",
        "colab": {}
      },
      "source": [
        "hidden_size = 256\n",
        "encoder1 = EncoderRNN(input_lang.n_words, hidden_size)\n",
        "attn_decoder1 = AttnDecoderRNN(hidden_size, output_lang.n_words, dropout_p=0.1)\n",
        "\n",
        "\n",
        "if use_cuda:\n",
        "    encoder1 = encoder1.cuda()\n",
        "    attn_decoder1 = attn_decoder1.cuda()\n",
        "\n",
        "trainIters(encoder1, attn_decoder1, 75000, print_every=5000)"
      ],
      "execution_count": 0,
      "outputs": []
    },
    {
      "cell_type": "code",
      "metadata": {
        "id": "17CnK1II9nyr",
        "colab_type": "code",
        "colab": {}
      },
      "source": [
        "evaluateRandomly(encoder1, attn_decoder1)"
      ],
      "execution_count": 0,
      "outputs": []
    },
    {
      "cell_type": "markdown",
      "metadata": {
        "id": "_fR5RoMA9nyt",
        "colab_type": "text"
      },
      "source": [
        "어텐션 시각화\n",
        "---------------------\n",
        "\n",
        "어텐션 메커니즘의 유용한 속성은 해석 가능성이 높은 출력입니다.\n",
        "입력 시퀀스의 특정 인코더 출력에 가중치를 부여하는 데 사용되므로\n",
        "각 시간 단계에서 네트워크가 가장 집중되는 위치를 파악할 수 있습니다.\n",
        "\n",
        "어텐션 출력을 행렬로 표시하기 위해 ``plt.matshow(attentions)`` 를\n",
        "간단하게 실행할 수 있습니다. 열은 입력 단계와 행이 출력 단계입니다:\n",
        "\n",
        "\n"
      ]
    },
    {
      "cell_type": "code",
      "metadata": {
        "id": "Y0fhv6rB9nyu",
        "colab_type": "code",
        "colab": {}
      },
      "source": [
        "output_words, attentions = evaluate(\n",
        "    encoder1, attn_decoder1, \"je suis trop froid .\")\n",
        "plt.matshow(attentions.numpy())"
      ],
      "execution_count": 0,
      "outputs": []
    },
    {
      "cell_type": "markdown",
      "metadata": {
        "id": "2wUDL7gn9nyw",
        "colab_type": "text"
      },
      "source": [
        "더 나은 보기 경험을 위해 축과 라벨을 추가하는 추가 작업을 수행합니다:\n",
        "\n",
        "\n"
      ]
    },
    {
      "cell_type": "code",
      "metadata": {
        "id": "U9MkGybm9nyx",
        "colab_type": "code",
        "colab": {}
      },
      "source": [
        "def showAttention(input_sentence, output_words, attentions):\n",
        "    # colorbar로 그림 설정\n",
        "    fig = plt.figure()\n",
        "    ax = fig.add_subplot(111)\n",
        "    cax = ax.matshow(attentions.numpy(), cmap='bone')\n",
        "    fig.colorbar(cax)\n",
        "\n",
        "    # 축 설정\n",
        "    ax.set_xticklabels([''] + input_sentence.split(' ') +\n",
        "                       ['<EOS>'], rotation=90)\n",
        "    ax.set_yticklabels([''] + output_words)\n",
        "\n",
        "    # 매 틱마다 라벨 보여주기\n",
        "    ax.xaxis.set_major_locator(ticker.MultipleLocator(1))\n",
        "    ax.yaxis.set_major_locator(ticker.MultipleLocator(1))\n",
        "\n",
        "    plt.show()\n",
        "\n",
        "\n",
        "def evaluateAndShowAttention(input_sentence):\n",
        "    output_words, attentions = evaluate(\n",
        "        encoder1, attn_decoder1, input_sentence)\n",
        "    print('input =', input_sentence)\n",
        "    print('output =', ' '.join(output_words))\n",
        "    showAttention(input_sentence, output_words, attentions)\n",
        "\n",
        "\n",
        "evaluateAndShowAttention(\"elle a cinq ans de moins que moi .\")\n",
        "\n",
        "evaluateAndShowAttention(\"elle est trop petit .\")\n",
        "\n",
        "evaluateAndShowAttention(\"je ne crains pas de mourir .\")\n",
        "\n",
        "evaluateAndShowAttention(\"c est un jeune directeur plein de talent .\")"
      ],
      "execution_count": 0,
      "outputs": []
    },
    {
      "cell_type": "markdown",
      "metadata": {
        "id": "aMFBFI7Z9ny2",
        "colab_type": "text"
      },
      "source": [
        "Exercises\n",
        "=========\n",
        "\n",
        "-  다른 데이터 셋을 시도해 보십시오\n",
        "\n",
        "   -  다른 언어쌍\n",
        "   -  사람 → 기계 (e.g. IOT 명령어)\n",
        "   -  채팅 → 응답\n",
        "   -  질문 → 답변\n",
        "\n",
        "-  word2vec 또는 GloVe 같은 미리 학습된 word embedding 으로\n",
        "   embedding 을 교체하십시오\n",
        "\n",
        "-  더 많은 레이어, hidden units,더 많은 문장을 사용하십시오.\n",
        "   학습 시간과 결과를 비교해 보십시오\n",
        "-  만약 같은 구문 두개의 쌍으로 된 번역 파일을 이용한다면,\n",
        "   (``I am test \\t I am test``), 이것을 오토인코더로\n",
        "   사용할 수 있습니다.\n",
        "   이것을 시도해 보십시오:\n",
        "\n",
        "   -  오토인코더 학습\n",
        "   -  인코더 네트워크 저장하기\n",
        "   -  그 상태에서 번역을 위한 새로운 디코더 학습\n",
        "\n",
        "\n"
      ]
    }
  ]
}