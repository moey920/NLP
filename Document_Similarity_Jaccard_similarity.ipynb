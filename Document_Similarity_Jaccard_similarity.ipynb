{
  "nbformat": 4,
  "nbformat_minor": 0,
  "metadata": {
    "colab": {
      "name": "Document Similarity-Jaccard similarity.ipynb",
      "provenance": [],
      "collapsed_sections": [],
      "toc_visible": true,
      "mount_file_id": "1VMZkf91c7b-86DqPoZRsPUdJOa_zWQZc",
      "authorship_tag": "ABX9TyMondxeWpd19XweQYhpOI2t",
      "include_colab_link": true
    },
    "kernelspec": {
      "name": "python3",
      "display_name": "Python 3"
    }
  },
  "cells": [
    {
      "cell_type": "markdown",
      "metadata": {
        "id": "view-in-github",
        "colab_type": "text"
      },
      "source": [
        "<a href=\"https://colab.research.google.com/github/moey920/NLP/blob/master/Document_Similarity_Jaccard_similarity.ipynb\" target=\"_parent\"><img src=\"https://colab.research.google.com/assets/colab-badge.svg\" alt=\"Open In Colab\"/></a>"
      ]
    },
    {
      "cell_type": "markdown",
      "metadata": {
        "id": "SYCF4C9P7ewd",
        "colab_type": "text"
      },
      "source": [
        "# 문서 유사도(Document Similarity)\n"
      ]
    },
    {
      "cell_type": "markdown",
      "metadata": {
        "id": "e44WNAKL7p41",
        "colab_type": "text"
      },
      "source": [
        "## 자카드 유사도\n",
        "\n",
        "먼저 결론부터 요약하겠습니다.\n",
        "자카드 유사도 : 두 문장을 각각 단어의 집합으로 만들고나서 -> 두 집합의 교집합/두 집합의 합집합\n",
        "- [형태소 분리하고나서 진행했을 때 : 0.07% 향상]\n",
        " *  24659469.txt 와 24659469_hand.txt  비교시 0.691 유사\n",
        " *  24659469_masked.txt 와 24659469_hand.txt  비교시 0.698 유사\n",
        "\n",
        "\n",
        "---\n",
        "\n",
        "- [형태소 분리하지 않고 텍스트를 문자열로 받아와 비교했을 때 : ]\n",
        "\n",
        " 문자열 단위\n",
        " *  24659469.txt 와 24659469_hand.txt  비교시 0.961 유사\n",
        " *  24659469_masked.txt 와 24659469_hand.txt  비교시 0.961 유사(변화없음)\n",
        "\n",
        " 토큰화(단어) 단위\n",
        " *  24659469.txt 와 24659469_hand.txt  비교시 0.339 유사\n",
        " *  24659469_masked.txt 와 24659469_hand.txt  비교시 0.335 유사(0.04% 감소)\n",
        "\n",
        "\n",
        "- 단점 : 각 문자, 단어 등의 위치를 고려하지 않고 집합으로 처리하는 알고리즘이라 영수증 유사도 비교에 큰 의미가 없는 것 같습니다"
      ]
    },
    {
      "cell_type": "markdown",
      "metadata": {
        "id": "gfZPrQWp7sRZ",
        "colab_type": "text"
      },
      "source": [
        "A와 B 두개의 집합이 있다고 합시다. 이때 교집합은 두 개의 집합에서 공통으로 가지고 있는 원소들의 집합을 말합니다. 즉, 합집합에서 교집합의 비율을 구한다면 두 집합 A와 B의 유사도를 구할 수 있다는 것이 자카드 유사도(jaccard similarity)의 아이디어입니다. 자카드 유사도는 0과 1사이의 값을 가지며, 만약 두 집합이 동일하다면 1의 값을 가지고, 두 집합의 공통 원소가 없다면 0의 값을 갖습니다. 자카드 유사도를 구하는 함수를 J라고 하였을 때, 자카드 유사도 함수 J는 아래와 같습니다.\n",
        "\n",
        "J(A,B)=|A∩B||A∪B|=|A∩B||A|+|B|−|A∩B|\n",
        "\n",
        "두 개의 비교할 문서를 각각 doc1, doc2라고 했을 때 doc1과 doc2의 문서의 유사도를 구하기 위한 자카드 유사도는 이와 같습니다.\n",
        "\n",
        "J(doc1,doc2)=doc1∩doc2doc1∪doc2\n",
        "\n",
        "즉, 두 문서 doc1, doc2 사이의 자카드 유사도 J(doc1,doc2)는 두 집합의 교집합 크기를 두 집합의 합집합 크기로 나눈 값으로 정의됩니다. 간단한 예를 통해서 이해해보겠습니다."
      ]
    },
    {
      "cell_type": "markdown",
      "metadata": {
        "id": "gW6BQLTc3Tit",
        "colab_type": "text"
      },
      "source": [
        "### 예문"
      ]
    },
    {
      "cell_type": "code",
      "metadata": {
        "id": "pzgjajMp7RmZ",
        "colab_type": "code",
        "outputId": "2f87fab7-a6b5-4755-9047-70ce89f1a33a",
        "colab": {
          "base_uri": "https://localhost:8080/",
          "height": 53
        }
      },
      "source": [
        "# 다음과 같은 두 개의 문서가 있습니다.\n",
        "# 두 문서 모두에서 등장한 단어는 apple과 banana 2개.\n",
        "doc1 = \"apple banana everyone like likey watch card holder\"\n",
        "doc2 = \"apple banana coupon passport love you\"\n",
        "\n",
        "# 토큰화를 수행합니다.\n",
        "tokenized_doc1 = doc1.split()\n",
        "tokenized_doc2 = doc2.split()\n",
        "\n",
        "# 토큰화 결과 출력\n",
        "print(tokenized_doc1)\n",
        "print(tokenized_doc2)"
      ],
      "execution_count": 0,
      "outputs": [
        {
          "output_type": "stream",
          "text": [
            "['apple', 'banana', 'everyone', 'like', 'likey', 'watch', 'card', 'holder']\n",
            "['apple', 'banana', 'coupon', 'passport', 'love', 'you']\n"
          ],
          "name": "stdout"
        }
      ]
    },
    {
      "cell_type": "markdown",
      "metadata": {
        "id": "4guGwb8v78da",
        "colab_type": "text"
      },
      "source": [
        "이 때 문서1과 문서2의 합집합을 구해보겠습니다."
      ]
    },
    {
      "cell_type": "code",
      "metadata": {
        "id": "HNDWyyQO726l",
        "colab_type": "code",
        "outputId": "cc943c7a-4da0-4cba-93c3-8be2df43bdef",
        "colab": {
          "base_uri": "https://localhost:8080/",
          "height": 35
        }
      },
      "source": [
        "union = set(tokenized_doc1).union(set(tokenized_doc2))\n",
        "print(union)"
      ],
      "execution_count": 0,
      "outputs": [
        {
          "output_type": "stream",
          "text": [
            "{'like', 'holder', 'you', 'watch', 'card', 'passport', 'banana', 'coupon', 'love', 'everyone', 'likey', 'apple'}\n"
          ],
          "name": "stdout"
        }
      ]
    },
    {
      "cell_type": "markdown",
      "metadata": {
        "id": "qNXhsShs8BCn",
        "colab_type": "text"
      },
      "source": [
        "문서1과 문서2의 합집합의 단어의 총 개수는 12개인 것을 확인할 수 있습니다. 그렇다면, 문서1과 문서2의 교집합을 구해보겠습니다. 즉, 문서1과 문서2에서 둘 다 등장한 단어를 구하게 됩니다."
      ]
    },
    {
      "cell_type": "code",
      "metadata": {
        "id": "q1aWL9ZM7-Hf",
        "colab_type": "code",
        "outputId": "b447db4e-dcd9-40dd-ecb1-455edf1550a5",
        "colab": {
          "base_uri": "https://localhost:8080/",
          "height": 35
        }
      },
      "source": [
        "intersection = set(tokenized_doc1).intersection(set(tokenized_doc2))\n",
        "print(intersection)"
      ],
      "execution_count": 0,
      "outputs": [
        {
          "output_type": "stream",
          "text": [
            "{'banana', 'apple'}\n"
          ],
          "name": "stdout"
        }
      ]
    },
    {
      "cell_type": "markdown",
      "metadata": {
        "id": "A6-7fr8z8IEX",
        "colab_type": "text"
      },
      "source": [
        "문서1과 문서2에서 둘 다 등장한 단어는 banana와 apple 총 2개입니다. 이제 교집합의 수를 합집합의 수로 나누면 자카드 유사도가 계산됩니다."
      ]
    },
    {
      "cell_type": "code",
      "metadata": {
        "id": "RSmL3k0Q8GXR",
        "colab_type": "code",
        "outputId": "8888bdc3-b274-4ced-d518-993566df0616",
        "colab": {
          "base_uri": "https://localhost:8080/",
          "height": 35
        }
      },
      "source": [
        "print(len(intersection)/len(union)) # 2를 12로 나눔."
      ],
      "execution_count": 0,
      "outputs": [
        {
          "output_type": "stream",
          "text": [
            "0.16666666666666666\n"
          ],
          "name": "stdout"
        }
      ]
    },
    {
      "cell_type": "markdown",
      "metadata": {
        "id": "I8SAJFpY8L7W",
        "colab_type": "text"
      },
      "source": [
        "위의 값은 자카드 유사도이자, 두 문서의 총 단어 집합에서 두 문서에서 공통적으로 등장한 단어의 비율이기도 합니다."
      ]
    },
    {
      "cell_type": "markdown",
      "metadata": {
        "id": "FyNYwlsZnSFN",
        "colab_type": "text"
      },
      "source": [
        "### 영수증 유사도 검출(형태소 분리하여 검사할 때)"
      ]
    },
    {
      "cell_type": "code",
      "metadata": {
        "id": "UeQThwnxd-U-",
        "colab_type": "code",
        "colab": {}
      },
      "source": [
        "from tensorflow.keras.preprocessing.text import Tokenizer\n",
        "from tensorflow.keras.preprocessing.sequence import pad_sequences\n",
        "import numpy as np\n",
        "import pandas as pd\n",
        "import os\n",
        "\n",
        "#user_file_link = '/content/drive/My Drive/문서 유사도/24659469.txt'\n",
        "user_file_link = '/content/drive/My Drive/문서 유사도/24659469_masked.txt'\n",
        "ground_file_link = '/content/drive/My Drive/문서 유사도/24659469_hand.txt'\n",
        "\n",
        "train_data = pd.read_csv(user_file_link, header = 0, delimiter = '\\t')\n",
        "test_data = pd.read_csv(ground_file_link, header = 0, delimiter = '\\t')"
      ],
      "execution_count": 0,
      "outputs": []
    },
    {
      "cell_type": "code",
      "metadata": {
        "id": "iiTNXPWSrtQ8",
        "colab_type": "code",
        "colab": {
          "base_uri": "https://localhost:8080/",
          "height": 359
        },
        "outputId": "adca32b6-e12e-4c07-a31a-ec37da49fb1d"
      },
      "source": [
        "train_data.head(10)"
      ],
      "execution_count": 202,
      "outputs": [
        {
          "output_type": "execute_result",
          "data": {
            "text/html": [
              "<div>\n",
              "<style scoped>\n",
              "    .dataframe tbody tr th:only-of-type {\n",
              "        vertical-align: middle;\n",
              "    }\n",
              "\n",
              "    .dataframe tbody tr th {\n",
              "        vertical-align: top;\n",
              "    }\n",
              "\n",
              "    .dataframe thead th {\n",
              "        text-align: right;\n",
              "    }\n",
              "</style>\n",
              "<table border=\"1\" class=\"dataframe\">\n",
              "  <thead>\n",
              "    <tr style=\"text-align: right;\">\n",
              "      <th></th>\n",
              "      <th>rio emart24</th>\n",
              "    </tr>\n",
              "  </thead>\n",
              "  <tbody>\n",
              "    <tr>\n",
              "      <th>0</th>\n",
              "      <td>이마트24 영종대교 게소점</td>\n",
              "    </tr>\n",
              "    <tr>\n",
              "      <th>1</th>\n",
              "      <td>대표자 : 김윤아, 성열 기</td>\n",
              "    </tr>\n",
              "    <tr>\n",
              "      <th>2</th>\n",
              "      <td>사업자번호 : 478 85 -00613</td>\n",
              "    </tr>\n",
              "    <tr>\n",
              "      <th>3</th>\n",
              "      <td>인천시 서구 정서진남로 25, 영종대교 휴게</td>\n",
              "    </tr>\n",
              "    <tr>\n",
              "      <th>4</th>\n",
              "      <td>103145 2020 - 04 - 02 13 : 09 POS -0001 471</td>\n",
              "    </tr>\n",
              "    <tr>\n",
              "      <th>5</th>\n",
              "      <td>상품명 단가 수량 금액</td>\n",
              "    </tr>\n",
              "    <tr>\n",
              "      <th>6</th>\n",
              "      <td>01) 광동 ) 대추상화 150m /</td>\n",
              "    </tr>\n",
              "    <tr>\n",
              "      <th>7</th>\n",
              "      <td>8806002011967 1, 500 1 1, 500</td>\n",
              "    </tr>\n",
              "    <tr>\n",
              "      <th>8</th>\n",
              "      <td>02) e) 빅맨요구르트 280ml</td>\n",
              "    </tr>\n",
              "    <tr>\n",
              "      <th>9</th>\n",
              "      <td>8801121025130 1, 200 1 1, 200</td>\n",
              "    </tr>\n",
              "  </tbody>\n",
              "</table>\n",
              "</div>"
            ],
            "text/plain": [
              "                                   rio emart24\n",
              "0                               이마트24 영종대교 게소점\n",
              "1                              대표자 : 김윤아, 성열 기\n",
              "2                        사업자번호 : 478 85 -00613\n",
              "3                     인천시 서구 정서진남로 25, 영종대교 휴게\n",
              "4  103145 2020 - 04 - 02 13 : 09 POS -0001 471\n",
              "5                                 상품명 단가 수량 금액\n",
              "6                         01) 광동 ) 대추상화 150m /\n",
              "7                8806002011967 1, 500 1 1, 500\n",
              "8                          02) e) 빅맨요구르트 280ml\n",
              "9                8801121025130 1, 200 1 1, 200"
            ]
          },
          "metadata": {
            "tags": []
          },
          "execution_count": 202
        }
      ]
    },
    {
      "cell_type": "code",
      "metadata": {
        "id": "4dqzAabnrzMb",
        "colab_type": "code",
        "colab": {
          "base_uri": "https://localhost:8080/",
          "height": 359
        },
        "outputId": "b0716e58-fb54-40a1-ca1c-ac5699a0ee74"
      },
      "source": [
        "test_data.head(10)"
      ],
      "execution_count": 203,
      "outputs": [
        {
          "output_type": "execute_result",
          "data": {
            "text/html": [
              "<div>\n",
              "<style scoped>\n",
              "    .dataframe tbody tr th:only-of-type {\n",
              "        vertical-align: middle;\n",
              "    }\n",
              "\n",
              "    .dataframe tbody tr th {\n",
              "        vertical-align: top;\n",
              "    }\n",
              "\n",
              "    .dataframe thead th {\n",
              "        text-align: right;\n",
              "    }\n",
              "</style>\n",
              "<table border=\"1\" class=\"dataframe\">\n",
              "  <thead>\n",
              "    <tr style=\"text-align: right;\">\n",
              "      <th></th>\n",
              "      <th>emart24</th>\n",
              "    </tr>\n",
              "  </thead>\n",
              "  <tbody>\n",
              "    <tr>\n",
              "      <th>0</th>\n",
              "      <td>이마트24 영종대교휴게소점</td>\n",
              "    </tr>\n",
              "    <tr>\n",
              "      <th>1</th>\n",
              "      <td>대표자 : 김운아,성열기</td>\n",
              "    </tr>\n",
              "    <tr>\n",
              "      <th>2</th>\n",
              "      <td>사업자번호 : 478-85-00613</td>\n",
              "    </tr>\n",
              "    <tr>\n",
              "      <th>3</th>\n",
              "      <td>인천시 서구 정서진남로 25, 영종대교 휴게</td>\n",
              "    </tr>\n",
              "    <tr>\n",
              "      <th>4</th>\n",
              "      <td>03145 2020-04-02 13:09 POS-0001 .47</td>\n",
              "    </tr>\n",
              "    <tr>\n",
              "      <th>5</th>\n",
              "      <td>----------------------------------------------...</td>\n",
              "    </tr>\n",
              "    <tr>\n",
              "      <th>6</th>\n",
              "      <td>상품명 단가 수량 금액</td>\n",
              "    </tr>\n",
              "    <tr>\n",
              "      <th>7</th>\n",
              "      <td>----------------------------------------------...</td>\n",
              "    </tr>\n",
              "    <tr>\n",
              "      <th>8</th>\n",
              "      <td>01) 광동)대추쌍화150ml</td>\n",
              "    </tr>\n",
              "    <tr>\n",
              "      <th>9</th>\n",
              "      <td>8806002011967 1,500 1 1,500</td>\n",
              "    </tr>\n",
              "  </tbody>\n",
              "</table>\n",
              "</div>"
            ],
            "text/plain": [
              "                                             emart24\n",
              "0                                     이마트24 영종대교휴게소점\n",
              "1                                      대표자 : 김운아,성열기\n",
              "2                               사업자번호 : 478-85-00613\n",
              "3                           인천시 서구 정서진남로 25, 영종대교 휴게\n",
              "4                03145 2020-04-02 13:09 POS-0001 .47\n",
              "5  ----------------------------------------------...\n",
              "6                                       상품명 단가 수량 금액\n",
              "7  ----------------------------------------------...\n",
              "8                                   01) 광동)대추쌍화150ml\n",
              "9                        8806002011967 1,500 1 1,500"
            ]
          },
          "metadata": {
            "tags": []
          },
          "execution_count": 203
        }
      ]
    },
    {
      "cell_type": "code",
      "metadata": {
        "id": "wfeURiBteTVs",
        "colab_type": "code",
        "colab": {
          "base_uri": "https://localhost:8080/",
          "height": 593
        },
        "outputId": "e091ade6-ded7-4a5e-f303-b31ebe430e94"
      },
      "source": [
        "!pip install konlpy"
      ],
      "execution_count": 2,
      "outputs": [
        {
          "output_type": "stream",
          "text": [
            "Collecting konlpy\n",
            "\u001b[?25l  Downloading https://files.pythonhosted.org/packages/85/0e/f385566fec837c0b83f216b2da65db9997b35dd675e107752005b7d392b1/konlpy-0.5.2-py2.py3-none-any.whl (19.4MB)\n",
            "\u001b[K     |████████████████████████████████| 19.4MB 1.3MB/s \n",
            "\u001b[?25hCollecting JPype1>=0.7.0\n",
            "\u001b[?25l  Downloading https://files.pythonhosted.org/packages/d7/3c/1dbe5d6943b5c68e8df17c8b3a05db4725eadb5c7b7de437506aa3030701/JPype1-0.7.2-cp36-cp36m-manylinux1_x86_64.whl (2.4MB)\n",
            "\u001b[K     |████████████████████████████████| 2.4MB 33.9MB/s \n",
            "\u001b[?25hCollecting beautifulsoup4==4.6.0\n",
            "\u001b[?25l  Downloading https://files.pythonhosted.org/packages/9e/d4/10f46e5cfac773e22707237bfcd51bbffeaf0a576b0a847ec7ab15bd7ace/beautifulsoup4-4.6.0-py3-none-any.whl (86kB)\n",
            "\u001b[K     |████████████████████████████████| 92kB 11.8MB/s \n",
            "\u001b[?25hRequirement already satisfied: numpy>=1.6 in /usr/local/lib/python3.6/dist-packages (from konlpy) (1.18.2)\n",
            "Requirement already satisfied: lxml>=4.1.0 in /usr/local/lib/python3.6/dist-packages (from konlpy) (4.2.6)\n",
            "Collecting colorama\n",
            "  Downloading https://files.pythonhosted.org/packages/c9/dc/45cdef1b4d119eb96316b3117e6d5708a08029992b2fee2c143c7a0a5cc5/colorama-0.4.3-py2.py3-none-any.whl\n",
            "Collecting tweepy>=3.7.0\n",
            "  Downloading https://files.pythonhosted.org/packages/36/1b/2bd38043d22ade352fc3d3902cf30ce0e2f4bf285be3b304a2782a767aec/tweepy-3.8.0-py2.py3-none-any.whl\n",
            "Requirement already satisfied: six>=1.10.0 in /usr/local/lib/python3.6/dist-packages (from tweepy>=3.7.0->konlpy) (1.12.0)\n",
            "Requirement already satisfied: requests>=2.11.1 in /usr/local/lib/python3.6/dist-packages (from tweepy>=3.7.0->konlpy) (2.21.0)\n",
            "Requirement already satisfied: requests-oauthlib>=0.7.0 in /usr/local/lib/python3.6/dist-packages (from tweepy>=3.7.0->konlpy) (1.3.0)\n",
            "Requirement already satisfied: PySocks>=1.5.7 in /usr/local/lib/python3.6/dist-packages (from tweepy>=3.7.0->konlpy) (1.7.1)\n",
            "Requirement already satisfied: idna<2.9,>=2.5 in /usr/local/lib/python3.6/dist-packages (from requests>=2.11.1->tweepy>=3.7.0->konlpy) (2.8)\n",
            "Requirement already satisfied: chardet<3.1.0,>=3.0.2 in /usr/local/lib/python3.6/dist-packages (from requests>=2.11.1->tweepy>=3.7.0->konlpy) (3.0.4)\n",
            "Requirement already satisfied: urllib3<1.25,>=1.21.1 in /usr/local/lib/python3.6/dist-packages (from requests>=2.11.1->tweepy>=3.7.0->konlpy) (1.24.3)\n",
            "Requirement already satisfied: certifi>=2017.4.17 in /usr/local/lib/python3.6/dist-packages (from requests>=2.11.1->tweepy>=3.7.0->konlpy) (2020.4.5.1)\n",
            "Requirement already satisfied: oauthlib>=3.0.0 in /usr/local/lib/python3.6/dist-packages (from requests-oauthlib>=0.7.0->tweepy>=3.7.0->konlpy) (3.1.0)\n",
            "Installing collected packages: JPype1, beautifulsoup4, colorama, tweepy, konlpy\n",
            "  Found existing installation: beautifulsoup4 4.6.3\n",
            "    Uninstalling beautifulsoup4-4.6.3:\n",
            "      Successfully uninstalled beautifulsoup4-4.6.3\n",
            "  Found existing installation: tweepy 3.6.0\n",
            "    Uninstalling tweepy-3.6.0:\n",
            "      Successfully uninstalled tweepy-3.6.0\n",
            "Successfully installed JPype1-0.7.2 beautifulsoup4-4.6.0 colorama-0.4.3 konlpy-0.5.2 tweepy-3.8.0\n"
          ],
          "name": "stdout"
        }
      ]
    },
    {
      "cell_type": "code",
      "metadata": {
        "id": "2m8S_vH4eToN",
        "colab_type": "code",
        "colab": {}
      },
      "source": [
        "import re\n",
        "import json\n",
        "from konlpy.tag import Okt\n",
        "\n",
        "from tqdm import tqdm"
      ],
      "execution_count": 0,
      "outputs": []
    },
    {
      "cell_type": "code",
      "metadata": {
        "id": "GPC20ri5eVZF",
        "colab_type": "code",
        "colab": {}
      },
      "source": [
        "def preprocessing(review, okt, remove_stopwords = False, stop_words = []):\n",
        "    # 함수의 인자는 다음과 같다.\n",
        "    # review : 전처리할 텍스트\n",
        "    # okt : okt 객체를 반복적으로 생성하지 않고 미리 생성후 인자로 받는다.\n",
        "    # remove_stopword : 불용어를 제거할지 선택 기본값은 False\n",
        "    # stop_word : 불용어 사전은 사용자가 직접 입력해야함 기본값은 비어있는 리스트\n",
        "    \n",
        "    # 1. 한글 및 공백을 제외한 문자 모두 제거. + 영어 소문자, 대문자, 숫자도 제외\n",
        "    # 일단 OCR 결과의 원형을 학습시키기 위해 정규표현식을 사용하지 않고 학습시켜보겠습니다.\n",
        "    #review_text = re.sub(\"[^가-힣ㄱ-ㅎㅏ-ㅣa-zA-Z0-9\\\\s]\", \" \",  review)\n",
        "    #review_text = re.sub(\" \", \"\",  review)\n",
        "    review_text = review\n",
        "    \n",
        "    # 2. okt 객체를 활용해서 형태소 단위로 나눈다.\n",
        "    word_review = okt.morphs(review_text, stem=True)\n",
        "    \n",
        "    if remove_stopwords:\n",
        "        \n",
        "        # 불용어 제거(선택적)\n",
        "        word_review = [token for token in word_review if not token in stop_words]\n",
        "        \n",
        "   \n",
        "    return word_review"
      ],
      "execution_count": 0,
      "outputs": []
    },
    {
      "cell_type": "code",
      "metadata": {
        "id": "vpfBE9tgeYYn",
        "colab_type": "code",
        "colab": {
          "base_uri": "https://localhost:8080/",
          "height": 35
        },
        "outputId": "868dae68-1227-43d6-f297-765128c1b1d2"
      },
      "source": [
        "#stop_words = ['은', '는', '이', '가', '하', '아', '것', '들','의', '있', '되', '수', '보', \n",
        "#              '주', '등', '한', '(', ')', '/', '*', '=', 'E', '|', '-', '.', ',', 'II', 'لالالالا', \n",
        "#              '|||||||||', 'iii', '|||', '. ', '.', '\"', ' )', '[', ']', '\"']\n",
        "\n",
        "stop_words = []\n",
        "\n",
        "okt = Okt()\n",
        "clean_train_review = []\n",
        "\n",
        "for review in tqdm(train_data['rio emart24']):\n",
        "    # 비어있는 데이터에서 멈추지 않도록 string인 경우만 진행\n",
        "    if type(review) == str:\n",
        "        clean_train_review.append(preprocessing(review, okt, remove_stopwords = False , stop_words=stop_words))\n",
        "    else:\n",
        "        clean_train_review.append([])  #string이 아니면 비어있는 값 추가"
      ],
      "execution_count": 206,
      "outputs": [
        {
          "output_type": "stream",
          "text": [
            "100%|██████████| 34/34 [00:00<00:00, 281.31it/s]\n"
          ],
          "name": "stderr"
        }
      ]
    },
    {
      "cell_type": "code",
      "metadata": {
        "id": "uUO97Q1RfC_y",
        "colab_type": "code",
        "colab": {
          "base_uri": "https://localhost:8080/",
          "height": 35
        },
        "outputId": "9396cea4-b0c8-46c6-f137-4b5c1cd5ee7e"
      },
      "source": [
        "clean_test_review = []\n",
        "\n",
        "for review in tqdm(test_data['emart24']):\n",
        "    # 비어있는 데이터에서 멈추지 않도록 string인 경우만 진행\n",
        "    if type(review) == str:\n",
        "        clean_test_review.append(preprocessing(review, okt, remove_stopwords = False , stop_words=stop_words))\n",
        "    else:\n",
        "        clean_test_review.append([])  #string이 아니면 비어있는 값 추가"
      ],
      "execution_count": 207,
      "outputs": [
        {
          "output_type": "stream",
          "text": [
            "100%|██████████| 38/38 [00:00<00:00, 607.71it/s]\n"
          ],
          "name": "stderr"
        }
      ]
    },
    {
      "cell_type": "code",
      "metadata": {
        "id": "Y7qzl8Biehm4",
        "colab_type": "code",
        "colab": {}
      },
      "source": [
        "sentences = clean_train_review\n",
        "sentences2 = clean_test_review"
      ],
      "execution_count": 0,
      "outputs": []
    },
    {
      "cell_type": "markdown",
      "metadata": {
        "id": "4UAjcduL2wYo",
        "colab_type": "text"
      },
      "source": [
        "리스트 내 리스트의 원소까지 모두 문자열로 flatten 하기 위한 코드"
      ]
    },
    {
      "cell_type": "code",
      "metadata": {
        "id": "rp3Tml8ah_Xo",
        "colab_type": "code",
        "colab": {}
      },
      "source": [
        "import itertools\n",
        "\n",
        "def from_iterable(iterables):\n",
        "    # chain.from_iterable(['ABC', 'DEF']) --> ['A', 'B', 'C', 'D', 'E', 'F']\n",
        "    for it in iterables:\n",
        "        for element in it:\n",
        "            yield element"
      ],
      "execution_count": 0,
      "outputs": []
    },
    {
      "cell_type": "code",
      "metadata": {
        "id": "Oz4mewtMlEnB",
        "colab_type": "code",
        "colab": {}
      },
      "source": [
        "user = sentences\n",
        "user = list(itertools.chain.from_iterable(user))"
      ],
      "execution_count": 0,
      "outputs": []
    },
    {
      "cell_type": "code",
      "metadata": {
        "id": "H1G8WOyml7Nu",
        "colab_type": "code",
        "colab": {}
      },
      "source": [
        "ground = sentences2\n",
        "ground = list(itertools.chain.from_iterable(ground))"
      ],
      "execution_count": 0,
      "outputs": []
    },
    {
      "cell_type": "code",
      "metadata": {
        "id": "yXL_v31il-8a",
        "colab_type": "code",
        "colab": {}
      },
      "source": [
        "s1 = ' '.join(user)\n",
        "s2 = ' '.join(ground)"
      ],
      "execution_count": 0,
      "outputs": []
    },
    {
      "cell_type": "code",
      "metadata": {
        "id": "9vgKjOp4mnpq",
        "colab_type": "code",
        "colab": {}
      },
      "source": [
        "s1 = s1.split()"
      ],
      "execution_count": 0,
      "outputs": []
    },
    {
      "cell_type": "code",
      "metadata": {
        "id": "s0A7jGkqoVrB",
        "colab_type": "code",
        "colab": {}
      },
      "source": [
        "s2 = s2.split()"
      ],
      "execution_count": 0,
      "outputs": []
    },
    {
      "cell_type": "code",
      "metadata": {
        "id": "zY3mkIuymVql",
        "colab_type": "code",
        "colab": {
          "base_uri": "https://localhost:8080/",
          "height": 55
        },
        "outputId": "d275ceb7-1a1d-498b-fe93-b3212babb993"
      },
      "source": [
        "union = set(s1).union(set(s2))\n",
        "print(union)"
      ],
      "execution_count": 215,
      "outputs": [
        {
          "output_type": "stream",
          "text": [
            "{'인천', '85', '30일', '점', '롯데', '13', '차다', '★', '승인', '세', '휴게소', '시', '하다', '919490', '1,200', '과세', '앱', ':', '*]', '04', '열기', '22255237', '담당자', '사명', '대표자', '대', '환불', '금액', '정부', 'm', '00', '가다', '합', '2020-04', '이내', '드', '280', '남다', '**-****-', '휴게', '09', '가액', '을', '변심', '에서', '-', '부', '쌍', '500', '8801121025130', '.', '단가', '광동', 'e', '(', '화', '---------------------------------------------------', '월', '478', '요구르트', '가맹', '검색', '상품', '2,455', '번호', '700', '1,500', '소', '서구', '47', '명', '**-**', '으로', 'POS', '8806002011967', ')', '사업자', '13:09', '시불', '이마트', '1020200402031450001919490', '게', '성열', '추상화', '245', '에', '의하다', '02', '150', '455', '기다', '가능하다', '가져가다', '받다', '/', '단순', '계액', '영수증', '수량', '카드', '25', '6916-1500', '\"', '020200402031450001919490', '식품', '보다', '빠르다', '김윤아', '2020', '결제', '103145', '33', '200', '03145', '계', '02-6916', '신용카드', '01', '영종대교', '471', '앱스토어', '단', '9964837032', '1500', '24', '혜택', '8093', '478-85', '할부', 'NO', '지다', '성', ',', '빅맨', '불가', '대추', '0001', '4670', '물품', '방침', '개', '쉬다', '를', '4670-09', ']', '교환', '來案', '기', '법인', '일', '는', '문의', '2,700', '2', '정서진', '00613', '1', '[', 'ml'}\n"
          ],
          "name": "stdout"
        }
      ]
    },
    {
      "cell_type": "code",
      "metadata": {
        "id": "2UItQIuSmdPf",
        "colab_type": "code",
        "colab": {
          "base_uri": "https://localhost:8080/",
          "height": 55
        },
        "outputId": "3f181bca-5163-4e63-c51c-b94badbc3df3"
      },
      "source": [
        "intersection = set(s1).intersection(set(s2))\n",
        "print(intersection)"
      ],
      "execution_count": 216,
      "outputs": [
        {
          "output_type": "stream",
          "text": [
            "{'인천', '30일', '점', '롯데', '차다', '★', '승인', '세', '시', '하다', '919490', '앱', '과세', ':', '04', '22255237', '담당자', '사명', '대표자', '환불', '금액', '정부', '00', '가다', '합', '이내', '280', '남다', '휴게', '가액', '을', '변심', '에서', '-', '부', '8801121025130', '.', '단가', '광동', 'e', '(', '월', '요구르트', '가맹', '검색', '상품', '번호', '서구', '명', '으로', 'POS', '8806002011967', ')', '사업자', '시불', '이마트', '245', '성열', '에', '의하다', '02', '150', '기다', '가능하다', '가져가다', '받다', '/', '단순', '영수증', '수량', '카드', '25', '\"', '식품', '보다', '빠르다', '결제', '33', '03145', '신용카드', '01', '영종대교', '앱스토어', '단', '9964837032', '24', '8093', '할부', 'NO', '지다', ',', '빅맨', '불가', '0001', '물품', '방침', '개', '쉬다', '를', '교환', '법인', '일', '는', '문의', '2,700', '정서진', '00613', '혜택', '1', '[', 'ml'}\n"
          ],
          "name": "stdout"
        }
      ]
    },
    {
      "cell_type": "code",
      "metadata": {
        "id": "jEmgKSi7miDt",
        "colab_type": "code",
        "colab": {
          "base_uri": "https://localhost:8080/",
          "height": 35
        },
        "outputId": "bf5ebad2-2df0-46c5-fabc-243fdea4af35"
      },
      "source": [
        "print(len(intersection)/len(union))"
      ],
      "execution_count": 217,
      "outputs": [
        {
          "output_type": "stream",
          "text": [
            "0.6981132075471698\n"
          ],
          "name": "stdout"
        }
      ]
    },
    {
      "cell_type": "markdown",
      "metadata": {
        "id": "zcFhqycTu_N7",
        "colab_type": "text"
      },
      "source": [
        "###영수증 유사도 검출(형태소 분리X)"
      ]
    },
    {
      "cell_type": "code",
      "metadata": {
        "id": "HRFfKrKcvfoR",
        "colab_type": "code",
        "colab": {
          "base_uri": "https://localhost:8080/",
          "height": 611
        },
        "outputId": "d0460c5e-fec3-444d-9c5d-3b595de02de2"
      },
      "source": [
        "f = open('/content/drive/My Drive/문서 유사도/24659469.txt', 'r')\n",
        "#f = open('/content/drive/My Drive/문서 유사도/24659469_masked.txt', 'r')\n",
        "f2 = open('/content/drive/My Drive/문서 유사도/24659469_hand.txt', 'r')\n",
        "user = f.read()\n",
        "ground = f2.read()\n",
        "print(user)"
      ],
      "execution_count": 177,
      "outputs": [
        {
          "output_type": "stream",
          "text": [
            "rio emart24\n",
            "이마트24 영종대교 게소점\n",
            "대표자 : 김윤아, 성열 기\n",
            "사업자번호 : 478 85 -00613\n",
            "인천시 서구 정서진남로 25, 영종대교 휴게\n",
            "103145 2020 - 04 - 02 13 : 09 POS -0001 471\n",
            "상품명 단가 수량 금액\n",
            "01) 광동 ) 대추상화 150m /\n",
            "8806002011967 1, 500 1 1, 500\n",
            "02) e) 빅맨요구르트 280ml\n",
            "8801121025130 1, 200 1 1, 200\n",
            "과세물품가액 2 ,455\n",
            "부 가 세 245\n",
            "합받 계액 2 2, ,700 700\n",
            "을\n",
            "신용카드 2,100\n",
            "드\n",
            "카드번호 : 4670-09**-** 來案- 8093 1\n",
            "카드사명: 롯데법인카드\n",
            "할부개월: 00 일시불\n",
            "결제금액: 2 , 700\n",
            "승인번호 : 04 22255237\n",
            "가맹점번호 : 9964837032\n",
            "NO :919490 담당자 :03145 [김운아, 성열 ]\n",
            "★ 가맹문의 : 02 -6916-1500\n",
            "정부방침에 의해 교환/ 환불시 영수증을\n",
            "지참하셔야 하며 , 카드결제는 30일 이내\n",
            "카드/ 영수증 지참시 가능합니다.\n",
            "( 단 , 식품 단순변심 교환/환불 불가)\n",
            "★이마트24 앱으로 보다 쉽고 빠른\n",
            "혜택을 가져가세요.\n",
            "앱스토어에서 \"이마트24\" 를 검색하세요 ★\n",
            "10202004020314500019194901\n"
          ],
          "name": "stdout"
        }
      ]
    },
    {
      "cell_type": "code",
      "metadata": {
        "id": "EOAo3axZ1EOE",
        "colab_type": "code",
        "colab": {}
      },
      "source": [
        "tokenized_user = user.split()\n",
        "tokenized_ground = ground.split()"
      ],
      "execution_count": 0,
      "outputs": []
    },
    {
      "cell_type": "code",
      "metadata": {
        "id": "gnXMfcSVv7S7",
        "colab_type": "code",
        "colab": {
          "base_uri": "https://localhost:8080/",
          "height": 55
        },
        "outputId": "170064e9-b284-4fd1-e2ee-8fea4416ea52"
      },
      "source": [
        "union = set(tokenized_user).union(set(tokenized_ground))\n",
        "print(union)"
      ],
      "execution_count": 179,
      "outputs": [
        {
          "output_type": "stream",
          "text": [
            "{'대추상화', ',455', '85', '의해', '30일', '478-85-00613', '13', '★', '상품명', '세', '하며,', '가', '2020-04-02', '검색하세요★', '1,200', '가능합니다.', ':', '카드/영수증', '04', '2,100', '150m', '280ml', '단순변심', '22255237', '02-6916-1500', '담당자', ':03145', '대표자', '정서진남로', '금액', '롯데법인카드', ':919490', '쉽고', '불가)', '00', '합', '이내', '드', '승인번호:', 'NO:919490', '휴게', '09', '교환/환불시', '하며', '혜택을', '을', '\"이마트24\"를', '-', '부', '500', '환불시', '8801121025130', '단가', '광동', '(', '영수증을', '교환/', '---------------------------------------------------', '담당자:03145[김운아,성열*]', '478', '김운아,성열기', '2,455', '앱스토어에서', '700', '1,500', '서구', 'emart24', '할부개월:', 'POS', '가맹점번호:', '8806002011967', ')', '결제금액:', '승인번호', '13:09', '광동)대추쌍화150ml', '카드번호:', '지참하셔야', '성열', '245', '4670-09**-****-8093', '인천시', '02)', '02', '지참시', '빅맨요구르트', '/', '가맹문의', '계액', '영수증', '10202004020314500019194901', '[김운아,', '-00613', '김윤아,', '과세물품가액', '수량', '가맹점번호', '020200402031450001919490', '식품', '보다', 'POS-0001', '2020', '103145', '33', '200', '03145', '계', '앱으로', '신용카드', '영종대교', '25,', '471', '(단,식품', '\"이마트24\"', '단', '★이마트24앱으로', '쉽고빠른', '검색하세요', '9964837032', '8093', '합받', '카드번호', '게소점', '카드결제는', 'NO', '일시불', '받을금액', ',', '4670-09**-**', '사업자번호', '01)', '교환/환불', '1,', '를', '★이마트24', '-6916-1500', '영종대교휴게소점', '카드사명:', '.47', ']', ',700', 'rio', 'e)빅맨요구르트280ml', '기', '來案-', '가져가세요.', 'e)', '-0001', '카드/', '빠른', '2,700', '2,', '이마트24', '2', '정부방침에', '1'}\n"
          ],
          "name": "stdout"
        }
      ]
    },
    {
      "cell_type": "code",
      "metadata": {
        "id": "p5jAG8sTv_KO",
        "colab_type": "code",
        "colab": {
          "base_uri": "https://localhost:8080/",
          "height": 55
        },
        "outputId": "94507441-1500-47a0-a38a-bc5310906d48"
      },
      "source": [
        "intersection = set(tokenized_user).intersection(set(tokenized_ground))\n",
        "print(intersection)"
      ],
      "execution_count": 181,
      "outputs": [
        {
          "output_type": "stream",
          "text": [
            "{'휴게', '9964837032', '혜택을', '의해', '30일', '부', '가맹문의', '카드결제는', '★', '일시불', '8801121025130', '상품명', '세', '단가', '사업자번호', '가', '과세물품가액', '01)', '영수증을', '교환/환불', '수량', '카드사명:', '보다', '앱스토어에서', '가능합니다.', ':', '서구', 'emart24', '04', '단순변심', '할부개월:', '22255237', '8806002011967', '대표자', '가져가세요.', '결제금액:', '정서진남로', '신용카드', '금액', '롯데법인카드', '지참하셔야', '245', '불가)', '00', '인천시', '02)', '영종대교', '25,', '이마트24', '이내', '정부방침에', '1', '지참시'}\n"
          ],
          "name": "stdout"
        }
      ]
    },
    {
      "cell_type": "code",
      "metadata": {
        "id": "tqhkBYLKwDjt",
        "colab_type": "code",
        "colab": {
          "base_uri": "https://localhost:8080/",
          "height": 35
        },
        "outputId": "c89c42c4-5d47-46bb-e695-b0628bf91e8e"
      },
      "source": [
        "print(len(intersection)/len(union))"
      ],
      "execution_count": 182,
      "outputs": [
        {
          "output_type": "stream",
          "text": [
            "0.33974358974358976\n"
          ],
          "name": "stdout"
        }
      ]
    }
  ]
}