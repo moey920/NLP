{
  "nbformat": 4,
  "nbformat_minor": 0,
  "metadata": {
    "colab": {
      "name": "Seq2Seq+Attention mechanism for reciept OCR error fix2.ipynb",
      "provenance": [],
      "collapsed_sections": [],
      "toc_visible": true,
      "mount_file_id": "1QfBDgiVSOdoNLZ2RQdRwrUa-66yB4gc8",
      "authorship_tag": "ABX9TyPkeJFFh3ThrUh3N75PsggP",
      "include_colab_link": true
    },
    "kernelspec": {
      "name": "python3",
      "display_name": "Python 3"
    },
    "accelerator": "GPU"
  },
  "cells": [
    {
      "cell_type": "markdown",
      "metadata": {
        "id": "view-in-github",
        "colab_type": "text"
      },
      "source": [
        "<a href=\"https://colab.research.google.com/github/moey920/NLP/blob/master/Seq2Seq%2BAttention_mechanism_for_reciept_OCR_error_fix2.ipynb\" target=\"_parent\"><img src=\"https://colab.research.google.com/assets/colab-badge.svg\" alt=\"Open In Colab\"/></a>"
      ]
    },
    {
      "cell_type": "code",
      "metadata": {
        "id": "gjdCOGHMyOXV",
        "colab_type": "code",
        "colab": {}
      },
      "source": [
        "import numpy as np\n",
        "import pandas as pd\n",
        "import re\n",
        "import matplotlib.pyplot as plt\n",
        "from nltk.corpus import stopwords\n",
        "from bs4 import BeautifulSoup \n",
        "from tensorflow.keras.preprocessing.text import Tokenizer \n",
        "from tensorflow.keras.preprocessing.sequence import pad_sequences"
      ],
      "execution_count": 0,
      "outputs": []
    },
    {
      "cell_type": "markdown",
      "metadata": {
        "id": "BQUgJ4TiyY0J",
        "colab_type": "text"
      },
      "source": [
        "# 1) 데이터 로드하기"
      ]
    },
    {
      "cell_type": "code",
      "metadata": {
        "id": "bdKn4U-FyWtx",
        "colab_type": "code",
        "colab": {
          "base_uri": "https://localhost:8080/",
          "height": 35
        },
        "outputId": "21453eb9-538c-4f5b-b43f-69c80029157f"
      },
      "source": [
        "# Reviews.csv 파일을 data라는 이름의 데이터프레임에 저장. 단, 10만개의 행(rows)으로 제한.\n",
        "data = pd.read_csv(\"/content/drive/My Drive/캐시카우_노하람인턴_공유폴더/seq2seq/임시/seq2seq_dataset_수정5.csv\", nrows = 100000)\n",
        "print('전체 리뷰 개수 :',(len(data)))"
      ],
      "execution_count": 4,
      "outputs": [
        {
          "output_type": "stream",
          "text": [
            "전체 리뷰 개수 : 5392\n"
          ],
          "name": "stdout"
        }
      ]
    },
    {
      "cell_type": "code",
      "metadata": {
        "id": "ZrpY72dXzpiV",
        "colab_type": "code",
        "colab": {
          "base_uri": "https://localhost:8080/",
          "height": 204
        },
        "outputId": "34dcf098-9c30-4262-a180-b7060857b4bd"
      },
      "source": [
        "data.head()"
      ],
      "execution_count": 5,
      "outputs": [
        {
          "output_type": "execute_result",
          "data": {
            "text/html": [
              "<div>\n",
              "<style scoped>\n",
              "    .dataframe tbody tr th:only-of-type {\n",
              "        vertical-align: middle;\n",
              "    }\n",
              "\n",
              "    .dataframe tbody tr th {\n",
              "        vertical-align: top;\n",
              "    }\n",
              "\n",
              "    .dataframe thead th {\n",
              "        text-align: right;\n",
              "    }\n",
              "</style>\n",
              "<table border=\"1\" class=\"dataframe\">\n",
              "  <thead>\n",
              "    <tr style=\"text-align: right;\">\n",
              "      <th></th>\n",
              "      <th>전</th>\n",
              "      <th>후</th>\n",
              "      <th>인덱스</th>\n",
              "    </tr>\n",
              "  </thead>\n",
              "  <tbody>\n",
              "    <tr>\n",
              "      <th>0</th>\n",
              "      <td>CJ올리브영( ㈜ 이선신보집</td>\n",
              "      <td>CJ올리브영㈜ 인천신포점</td>\n",
              "      <td>1</td>\n",
              "    </tr>\n",
              "    <tr>\n",
              "      <th>1</th>\n",
              "      <td>인전광역시 중구 개항로 32 - 1</td>\n",
              "      <td>인천광역시 중구 개항로 32-1</td>\n",
              "      <td>2</td>\n",
              "    </tr>\n",
              "    <tr>\n",
              "      <th>2</th>\n",
              "      <td>5298501337 김희선 TEL : 032 - 765 - 5290</td>\n",
              "      <td>5298501337 김희선 TEL:032-765-5290</td>\n",
              "      <td>3</td>\n",
              "    </tr>\n",
              "    <tr>\n",
              "      <th>3</th>\n",
              "      <td>2020 -04 -26 19 : 39 :03 POS : 1001- 00161 김희선</td>\n",
              "      <td>2020-04-26 19:39:03 POS:1001-00161 김희선</td>\n",
              "      <td>4</td>\n",
              "    </tr>\n",
              "    <tr>\n",
              "      <th>4</th>\n",
              "      <td>고객센터 : 1577 - 4887 www .oliveyoung . co . kr</td>\n",
              "      <td>고객센터 : 1577-4887 www.oliveyoung.co.kr</td>\n",
              "      <td>5</td>\n",
              "    </tr>\n",
              "  </tbody>\n",
              "</table>\n",
              "</div>"
            ],
            "text/plain": [
              "                                                전  ... 인덱스\n",
              "0                                 CJ올리브영( ㈜ 이선신보집  ...   1\n",
              "1                             인전광역시 중구 개항로 32 - 1  ...   2\n",
              "2           5298501337 김희선 TEL : 032 - 765 - 5290  ...   3\n",
              "3  2020 -04 -26 19 : 39 :03 POS : 1001- 00161 김희선  ...   4\n",
              "4    고객센터 : 1577 - 4887 www .oliveyoung . co . kr  ...   5\n",
              "\n",
              "[5 rows x 3 columns]"
            ]
          },
          "metadata": {
            "tags": []
          },
          "execution_count": 5
        }
      ]
    },
    {
      "cell_type": "code",
      "metadata": {
        "id": "zlI33HAUztCH",
        "colab_type": "code",
        "colab": {
          "base_uri": "https://localhost:8080/",
          "height": 204
        },
        "outputId": "139b439b-28dd-4aad-dae6-c506336b900d"
      },
      "source": [
        "data = data[['전','후']]\n",
        "data.head()"
      ],
      "execution_count": 6,
      "outputs": [
        {
          "output_type": "execute_result",
          "data": {
            "text/html": [
              "<div>\n",
              "<style scoped>\n",
              "    .dataframe tbody tr th:only-of-type {\n",
              "        vertical-align: middle;\n",
              "    }\n",
              "\n",
              "    .dataframe tbody tr th {\n",
              "        vertical-align: top;\n",
              "    }\n",
              "\n",
              "    .dataframe thead th {\n",
              "        text-align: right;\n",
              "    }\n",
              "</style>\n",
              "<table border=\"1\" class=\"dataframe\">\n",
              "  <thead>\n",
              "    <tr style=\"text-align: right;\">\n",
              "      <th></th>\n",
              "      <th>전</th>\n",
              "      <th>후</th>\n",
              "    </tr>\n",
              "  </thead>\n",
              "  <tbody>\n",
              "    <tr>\n",
              "      <th>0</th>\n",
              "      <td>CJ올리브영( ㈜ 이선신보집</td>\n",
              "      <td>CJ올리브영㈜ 인천신포점</td>\n",
              "    </tr>\n",
              "    <tr>\n",
              "      <th>1</th>\n",
              "      <td>인전광역시 중구 개항로 32 - 1</td>\n",
              "      <td>인천광역시 중구 개항로 32-1</td>\n",
              "    </tr>\n",
              "    <tr>\n",
              "      <th>2</th>\n",
              "      <td>5298501337 김희선 TEL : 032 - 765 - 5290</td>\n",
              "      <td>5298501337 김희선 TEL:032-765-5290</td>\n",
              "    </tr>\n",
              "    <tr>\n",
              "      <th>3</th>\n",
              "      <td>2020 -04 -26 19 : 39 :03 POS : 1001- 00161 김희선</td>\n",
              "      <td>2020-04-26 19:39:03 POS:1001-00161 김희선</td>\n",
              "    </tr>\n",
              "    <tr>\n",
              "      <th>4</th>\n",
              "      <td>고객센터 : 1577 - 4887 www .oliveyoung . co . kr</td>\n",
              "      <td>고객센터 : 1577-4887 www.oliveyoung.co.kr</td>\n",
              "    </tr>\n",
              "  </tbody>\n",
              "</table>\n",
              "</div>"
            ],
            "text/plain": [
              "                                                전                                       후\n",
              "0                                 CJ올리브영( ㈜ 이선신보집                           CJ올리브영㈜ 인천신포점\n",
              "1                             인전광역시 중구 개항로 32 - 1                       인천광역시 중구 개항로 32-1\n",
              "2           5298501337 김희선 TEL : 032 - 765 - 5290         5298501337 김희선 TEL:032-765-5290\n",
              "3  2020 -04 -26 19 : 39 :03 POS : 1001- 00161 김희선  2020-04-26 19:39:03 POS:1001-00161 김희선\n",
              "4    고객센터 : 1577 - 4887 www .oliveyoung . co . kr   고객센터 : 1577-4887 www.oliveyoung.co.kr"
            ]
          },
          "metadata": {
            "tags": []
          },
          "execution_count": 6
        }
      ]
    },
    {
      "cell_type": "code",
      "metadata": {
        "id": "GjpqDNtVzxZB",
        "colab_type": "code",
        "colab": {
          "base_uri": "https://localhost:8080/",
          "height": 359
        },
        "outputId": "13e02187-034b-4404-d70a-70e4c39fd3d0"
      },
      "source": [
        "# 랜덤으로 10개의 샘플 출력\n",
        "data.sample(10)"
      ],
      "execution_count": 7,
      "outputs": [
        {
          "output_type": "execute_result",
          "data": {
            "text/html": [
              "<div>\n",
              "<style scoped>\n",
              "    .dataframe tbody tr th:only-of-type {\n",
              "        vertical-align: middle;\n",
              "    }\n",
              "\n",
              "    .dataframe tbody tr th {\n",
              "        vertical-align: top;\n",
              "    }\n",
              "\n",
              "    .dataframe thead th {\n",
              "        text-align: right;\n",
              "    }\n",
              "</style>\n",
              "<table border=\"1\" class=\"dataframe\">\n",
              "  <thead>\n",
              "    <tr style=\"text-align: right;\">\n",
              "      <th></th>\n",
              "      <th>전</th>\n",
              "      <th>후</th>\n",
              "    </tr>\n",
              "  </thead>\n",
              "  <tbody>\n",
              "    <tr>\n",
              "      <th>1810</th>\n",
              "      <td>[ 적립/잔여포인트] 390/1,296</td>\n",
              "      <td>[적립/잔여포인트] 390/1,296</td>\n",
              "    </tr>\n",
              "    <tr>\n",
              "      <th>4274</th>\n",
              "      <td>정상] 2020- 04 -08 15: 30 : 46 POS : 01 (평택푸)</td>\n",
              "      <td>[정상] 2020-04-08 15:30:46 POS:01 (평택푸)</td>\n",
              "    </tr>\n",
              "    <tr>\n",
              "      <th>2753</th>\n",
              "      <td>NO:655226 담당 자:04850 [신세계영등포제일 *</td>\n",
              "      <td>NO:655226 담당자:04850[신세계영등포제일*</td>\n",
              "    </tr>\n",
              "    <tr>\n",
              "      <th>5375</th>\n",
              "      <td>부가세 110.212</td>\n",
              "      <td>부 가 세: 10,212</td>\n",
              "    </tr>\n",
              "    <tr>\n",
              "      <th>387</th>\n",
              "      <td>E R )망고오렌지 스무 | 0 5 ,700</td>\n",
              "      <td>E R)망고오렌지 스무 1 0 5,700</td>\n",
              "    </tr>\n",
              "    <tr>\n",
              "      <th>2758</th>\n",
              "      <td>( 단, 식품 단순변심 교환/환불 불가)</td>\n",
              "      <td>(단,식품 단순변심 교환/환불 불가)</td>\n",
              "    </tr>\n",
              "    <tr>\n",
              "      <th>4154</th>\n",
              "      <td>Ittp. www.seowil.cON TEL : 055 - 356 - 5535</td>\n",
              "      <td>http://www.seowon.com TEL:055-356-5535</td>\n",
              "    </tr>\n",
              "    <tr>\n",
              "      <th>146</th>\n",
              "      <td>할부개월: 00 승인번호: 472802555</td>\n",
              "      <td>할부개월: 00 승인번호: 47280255</td>\n",
              "    </tr>\n",
              "    <tr>\n",
              "      <th>1007</th>\n",
              "      <td>[ 쿠폰번호 920003**</td>\n",
              "      <td>[ 쿠폰번호 ] 920003**</td>\n",
              "    </tr>\n",
              "    <tr>\n",
              "      <th>4108</th>\n",
              "      <td>다음달(1일) 소멸예정포인트 :</td>\n",
              "      <td>다음달(1일) 소멸예정포인트:</td>\n",
              "    </tr>\n",
              "  </tbody>\n",
              "</table>\n",
              "</div>"
            ],
            "text/plain": [
              "                                                전                                       후\n",
              "1810                        [ 적립/잔여포인트] 390/1,296                    [적립/잔여포인트] 390/1,296\n",
              "4274  정상] 2020- 04 -08 15: 30 : 46 POS : 01 (평택푸)   [정상] 2020-04-08 15:30:46 POS:01 (평택푸)\n",
              "2753             NO:655226 담당 자:04850 [신세계영등포제일 *           NO:655226 담당자:04850[신세계영등포제일*\n",
              "5375                                  부가세 110.212                           부 가 세: 10,212\n",
              "387                      E R )망고오렌지 스무 | 0 5 ,700                  E R)망고오렌지 스무 1 0 5,700\n",
              "2758                       ( 단, 식품 단순변심 교환/환불 불가)                    (단,식품 단순변심 교환/환불 불가)\n",
              "4154  Ittp. www.seowil.cON TEL : 055 - 356 - 5535  http://www.seowon.com TEL:055-356-5535\n",
              "146                      할부개월: 00 승인번호: 472802555                 할부개월: 00 승인번호: 47280255\n",
              "1007                              [ 쿠폰번호 920003**                       [ 쿠폰번호 ] 920003**\n",
              "4108                            다음달(1일) 소멸예정포인트 :                       다음달(1일) 소멸예정포인트: "
            ]
          },
          "metadata": {
            "tags": []
          },
          "execution_count": 7
        }
      ]
    },
    {
      "cell_type": "markdown",
      "metadata": {
        "id": "gSyfQNIM10Pl",
        "colab_type": "text"
      },
      "source": [
        "# 2) 데이터 정제하기"
      ]
    },
    {
      "cell_type": "code",
      "metadata": {
        "id": "mcj0u31bz1Sl",
        "colab_type": "code",
        "colab": {
          "base_uri": "https://localhost:8080/",
          "height": 53
        },
        "outputId": "350cfd69-6078-4c99-f784-14a2739c07cb"
      },
      "source": [
        "print('Text 열에서 중복을 배제한 유일한 샘플의 수 :', data['전'].nunique())\n",
        "print('Summary 열에서 중복을 배제한 유일한 샘플의 수 :', data['후'].nunique())"
      ],
      "execution_count": 9,
      "outputs": [
        {
          "output_type": "stream",
          "text": [
            "Text 열에서 중복을 배제한 유일한 샘플의 수 : 4917\n",
            "Summary 열에서 중복을 배제한 유일한 샘플의 수 : 4101\n"
          ],
          "name": "stdout"
        }
      ]
    },
    {
      "cell_type": "code",
      "metadata": {
        "id": "6sOzKT_fz7hw",
        "colab_type": "code",
        "colab": {}
      },
      "source": [
        "# '전' 열에서 중복인 내용이 있다면 중복 제거\n",
        "data.drop_duplicates(subset=['전'], inplace=True)"
      ],
      "execution_count": 0,
      "outputs": []
    },
    {
      "cell_type": "code",
      "metadata": {
        "id": "RqLED4uez_ux",
        "colab_type": "code",
        "colab": {
          "base_uri": "https://localhost:8080/",
          "height": 71
        },
        "outputId": "96236795-8a71-4d7f-85cd-0fc8847a049f"
      },
      "source": [
        "print(data.isnull().sum())"
      ],
      "execution_count": 13,
      "outputs": [
        {
          "output_type": "stream",
          "text": [
            "전    0\n",
            "후    0\n",
            "dtype: int64\n"
          ],
          "name": "stdout"
        }
      ]
    },
    {
      "cell_type": "code",
      "metadata": {
        "id": "ZmoRB8_O0DSa",
        "colab_type": "code",
        "colab": {
          "base_uri": "https://localhost:8080/",
          "height": 35
        },
        "outputId": "524e7d86-099a-4c36-ab77-fda0cdbf0766"
      },
      "source": [
        "# Null 값을 가진 샘플 제거\n",
        "data.dropna(axis=0, inplace=True)\n",
        "print('전체 샘플수 :',(len(data)))"
      ],
      "execution_count": 12,
      "outputs": [
        {
          "output_type": "stream",
          "text": [
            "전체 샘플수 : 4916\n"
          ],
          "name": "stdout"
        }
      ]
    },
    {
      "cell_type": "code",
      "metadata": {
        "id": "XFzq8MwG0UiH",
        "colab_type": "code",
        "colab": {
          "base_uri": "https://localhost:8080/",
          "height": 681
        },
        "outputId": "b9d091d8-d148-4b1f-fa29-4c6de67319ae"
      },
      "source": [
        "# 길이 분포 출력\n",
        "ori_len = [len(s.split()) for s in data['전']]\n",
        "hand_len = [len(s.split()) for s in data['후']]\n",
        "\n",
        "print('원본의 최소 길이 : {}'.format(np.min(ori_len)))\n",
        "print('원본의 최대 길이 : {}'.format(np.max(ori_len)))\n",
        "print('원본의 평균 길이 : {}'.format(np.mean(ori_len)))\n",
        "print('수정본의 최소 길이 : {}'.format(np.min(hand_len)))\n",
        "print('수정본의 최대 길이 : {}'.format(np.max(hand_len)))\n",
        "print('수정본의 평균 길이 : {}'.format(np.mean(hand_len)))\n",
        "\n",
        "plt.title('HAND')\n",
        "plt.hist(hand_len, bins=40)\n",
        "plt.xlabel('length of samples')\n",
        "plt.ylabel('number of samples')\n",
        "plt.show()\n",
        "\n",
        "plt.title('ORI')\n",
        "plt.hist(ori_len, bins=40)\n",
        "plt.xlabel('length of samples')\n",
        "plt.ylabel('number of samples')\n",
        "plt.show()"
      ],
      "execution_count": 17,
      "outputs": [
        {
          "output_type": "stream",
          "text": [
            "원본의 최소 길이 : 1\n",
            "원본의 최대 길이 : 40\n",
            "원본의 평균 길이 : 5.132017900732302\n",
            "수정본의 최소 길이 : 1\n",
            "수정본의 최대 길이 : 11\n",
            "수정본의 평균 길이 : 3.3854759967453214\n"
          ],
          "name": "stdout"
        },
        {
          "output_type": "display_data",
          "data": {
            "image/png": "[encoded data removed]",
            "text/plain": [
              "<Figure size 432x288 with 1 Axes>"
            ]
          },
          "metadata": {
            "tags": [],
            "needs_background": "light"
          }
        },
        {
          "output_type": "display_data",
          "data": {
            "image/png": "[encoded data removed]",
            "text/plain": [
              "<Figure size 432x288 with 1 Axes>"
            ]
          },
          "metadata": {
            "tags": [],
            "needs_background": "light"
          }
        }
      ]
    },
    {
      "cell_type": "code",
      "metadata": {
        "id": "y_JaeQ-O02uY",
        "colab_type": "code",
        "colab": {}
      },
      "source": [
        "# 데이터를 분석한 결과를 토대로 패딩의 길이 정하기. 평균 길이보다 약간 크게 잡아주겠습니다.\n",
        "ori_max_len = 20\n",
        "hand_max_len = 10"
      ],
      "execution_count": 0,
      "outputs": []
    },
    {
      "cell_type": "code",
      "metadata": {
        "id": "wC5IiaiQ02nH",
        "colab_type": "code",
        "colab": {}
      },
      "source": [
        "def below_threshold_len(max_len, nested_list):\n",
        "  cnt = 0\n",
        "  for s in nested_list:\n",
        "    if(len(s.split()) <= max_len):\n",
        "        cnt = cnt + 1\n",
        "  print('전체 샘플 중 길이가 %s 이하인 샘플의 비율: %s'%(max_len, (cnt / len(nested_list))))"
      ],
      "execution_count": 0,
      "outputs": []
    },
    {
      "cell_type": "code",
      "metadata": {
        "id": "mT6czW8y1IkW",
        "colab_type": "code",
        "colab": {
          "base_uri": "https://localhost:8080/",
          "height": 35
        },
        "outputId": "3107d377-61b1-4508-df72-68e068aaa734"
      },
      "source": [
        "below_threshold_len(ori_max_len, data['전'])"
      ],
      "execution_count": 20,
      "outputs": [
        {
          "output_type": "stream",
          "text": [
            "전체 샘플 중 길이가 20 이하인 샘플의 비율: 0.9961350691619203\n"
          ],
          "name": "stdout"
        }
      ]
    },
    {
      "cell_type": "code",
      "metadata": {
        "id": "1O0oUkeI1Kix",
        "colab_type": "code",
        "colab": {
          "base_uri": "https://localhost:8080/",
          "height": 35
        },
        "outputId": "80ab543a-5fdc-4105-8577-6052c7cae9f3"
      },
      "source": [
        "below_threshold_len(hand_max_len, data['후'])"
      ],
      "execution_count": 22,
      "outputs": [
        {
          "output_type": "stream",
          "text": [
            "전체 샘플 중 길이가 10 이하인 샘플의 비율: 0.999593165174939\n"
          ],
          "name": "stdout"
        }
      ]
    },
    {
      "cell_type": "code",
      "metadata": {
        "id": "jiOkGE6x1Pgr",
        "colab_type": "code",
        "colab": {
          "base_uri": "https://localhost:8080/",
          "height": 35
        },
        "outputId": "a9f9bb88-0c02-4f67-dd76-434bad030d24"
      },
      "source": [
        "# 정해준 최대 길이보다 큰 샘플들은 제거하겠습니다.\n",
        "data = data[data['전'].apply(lambda x: len(x.split()) <= ori_max_len)]\n",
        "data = data[data['후'].apply(lambda x: len(x.split()) <= hand_max_len)]\n",
        "print('전체 샘플수 :',(len(data)))"
      ],
      "execution_count": 23,
      "outputs": [
        {
          "output_type": "stream",
          "text": [
            "전체 샘플수 : 4895\n"
          ],
          "name": "stdout"
        }
      ]
    },
    {
      "cell_type": "code",
      "metadata": {
        "id": "YDjKkNBO1XkZ",
        "colab_type": "code",
        "colab": {
          "base_uri": "https://localhost:8080/",
          "height": 204
        },
        "outputId": "fbfd0482-0d8a-44f4-bebb-7b2e222b1958"
      },
      "source": [
        "data.head()"
      ],
      "execution_count": 24,
      "outputs": [
        {
          "output_type": "execute_result",
          "data": {
            "text/html": [
              "<div>\n",
              "<style scoped>\n",
              "    .dataframe tbody tr th:only-of-type {\n",
              "        vertical-align: middle;\n",
              "    }\n",
              "\n",
              "    .dataframe tbody tr th {\n",
              "        vertical-align: top;\n",
              "    }\n",
              "\n",
              "    .dataframe thead th {\n",
              "        text-align: right;\n",
              "    }\n",
              "</style>\n",
              "<table border=\"1\" class=\"dataframe\">\n",
              "  <thead>\n",
              "    <tr style=\"text-align: right;\">\n",
              "      <th></th>\n",
              "      <th>전</th>\n",
              "      <th>후</th>\n",
              "    </tr>\n",
              "  </thead>\n",
              "  <tbody>\n",
              "    <tr>\n",
              "      <th>0</th>\n",
              "      <td>CJ올리브영( ㈜ 이선신보집</td>\n",
              "      <td>CJ올리브영㈜ 인천신포점</td>\n",
              "    </tr>\n",
              "    <tr>\n",
              "      <th>1</th>\n",
              "      <td>인전광역시 중구 개항로 32 - 1</td>\n",
              "      <td>인천광역시 중구 개항로 32-1</td>\n",
              "    </tr>\n",
              "    <tr>\n",
              "      <th>2</th>\n",
              "      <td>5298501337 김희선 TEL : 032 - 765 - 5290</td>\n",
              "      <td>5298501337 김희선 TEL:032-765-5290</td>\n",
              "    </tr>\n",
              "    <tr>\n",
              "      <th>3</th>\n",
              "      <td>2020 -04 -26 19 : 39 :03 POS : 1001- 00161 김희선</td>\n",
              "      <td>2020-04-26 19:39:03 POS:1001-00161 김희선</td>\n",
              "    </tr>\n",
              "    <tr>\n",
              "      <th>4</th>\n",
              "      <td>고객센터 : 1577 - 4887 www .oliveyoung . co . kr</td>\n",
              "      <td>고객센터 : 1577-4887 www.oliveyoung.co.kr</td>\n",
              "    </tr>\n",
              "  </tbody>\n",
              "</table>\n",
              "</div>"
            ],
            "text/plain": [
              "                                                전                                       후\n",
              "0                                 CJ올리브영( ㈜ 이선신보집                           CJ올리브영㈜ 인천신포점\n",
              "1                             인전광역시 중구 개항로 32 - 1                       인천광역시 중구 개항로 32-1\n",
              "2           5298501337 김희선 TEL : 032 - 765 - 5290         5298501337 김희선 TEL:032-765-5290\n",
              "3  2020 -04 -26 19 : 39 :03 POS : 1001- 00161 김희선  2020-04-26 19:39:03 POS:1001-00161 김희선\n",
              "4    고객센터 : 1577 - 4887 www .oliveyoung . co . kr   고객센터 : 1577-4887 www.oliveyoung.co.kr"
            ]
          },
          "metadata": {
            "tags": []
          },
          "execution_count": 24
        }
      ]
    },
    {
      "cell_type": "code",
      "metadata": {
        "id": "uItW9hr51cDf",
        "colab_type": "code",
        "colab": {}
      },
      "source": [
        "# seq2seq 훈련을 위해서는 디코더의 예측 대상에 시작 토큰과 종료 토큰을 추가할 필요가 있습니다. \n",
        "# 시작 토큰은 sostoken, 종료 토큰은 eostoken이라 명명하고 앞, 뒤로 추가하겠습니다."
      ],
      "execution_count": 0,
      "outputs": []
    },
    {
      "cell_type": "code",
      "metadata": {
        "id": "nkPndJn71hsz",
        "colab_type": "code",
        "colab": {
          "base_uri": "https://localhost:8080/",
          "height": 204
        },
        "outputId": "2b888d1b-1f60-4a3c-bde3-cf7787a96958"
      },
      "source": [
        "# hand 데이터에는 시작 토큰과 종료 토큰을 추가한다.\n",
        "data['후'] = data['후'].apply(lambda x : 'sostoken '+ x + ' eostoken')\n",
        "data.head()"
      ],
      "execution_count": 25,
      "outputs": [
        {
          "output_type": "execute_result",
          "data": {
            "text/html": [
              "<div>\n",
              "<style scoped>\n",
              "    .dataframe tbody tr th:only-of-type {\n",
              "        vertical-align: middle;\n",
              "    }\n",
              "\n",
              "    .dataframe tbody tr th {\n",
              "        vertical-align: top;\n",
              "    }\n",
              "\n",
              "    .dataframe thead th {\n",
              "        text-align: right;\n",
              "    }\n",
              "</style>\n",
              "<table border=\"1\" class=\"dataframe\">\n",
              "  <thead>\n",
              "    <tr style=\"text-align: right;\">\n",
              "      <th></th>\n",
              "      <th>전</th>\n",
              "      <th>후</th>\n",
              "    </tr>\n",
              "  </thead>\n",
              "  <tbody>\n",
              "    <tr>\n",
              "      <th>0</th>\n",
              "      <td>CJ올리브영( ㈜ 이선신보집</td>\n",
              "      <td>sostoken CJ올리브영㈜ 인천신포점 eostoken</td>\n",
              "    </tr>\n",
              "    <tr>\n",
              "      <th>1</th>\n",
              "      <td>인전광역시 중구 개항로 32 - 1</td>\n",
              "      <td>sostoken 인천광역시 중구 개항로 32-1 eostoken</td>\n",
              "    </tr>\n",
              "    <tr>\n",
              "      <th>2</th>\n",
              "      <td>5298501337 김희선 TEL : 032 - 765 - 5290</td>\n",
              "      <td>sostoken 5298501337 김희선 TEL:032-765-5290 eostoken</td>\n",
              "    </tr>\n",
              "    <tr>\n",
              "      <th>3</th>\n",
              "      <td>2020 -04 -26 19 : 39 :03 POS : 1001- 00161 김희선</td>\n",
              "      <td>sostoken 2020-04-26 19:39:03 POS:1001-00161 김희...</td>\n",
              "    </tr>\n",
              "    <tr>\n",
              "      <th>4</th>\n",
              "      <td>고객센터 : 1577 - 4887 www .oliveyoung . co . kr</td>\n",
              "      <td>sostoken 고객센터 : 1577-4887 www.oliveyoung.co.kr...</td>\n",
              "    </tr>\n",
              "  </tbody>\n",
              "</table>\n",
              "</div>"
            ],
            "text/plain": [
              "                                                전                                                  후\n",
              "0                                 CJ올리브영( ㈜ 이선신보집                    sostoken CJ올리브영㈜ 인천신포점 eostoken\n",
              "1                             인전광역시 중구 개항로 32 - 1                sostoken 인천광역시 중구 개항로 32-1 eostoken\n",
              "2           5298501337 김희선 TEL : 032 - 765 - 5290  sostoken 5298501337 김희선 TEL:032-765-5290 eostoken\n",
              "3  2020 -04 -26 19 : 39 :03 POS : 1001- 00161 김희선  sostoken 2020-04-26 19:39:03 POS:1001-00161 김희...\n",
              "4    고객센터 : 1577 - 4887 www .oliveyoung . co . kr  sostoken 고객센터 : 1577-4887 www.oliveyoung.co.kr..."
            ]
          },
          "metadata": {
            "tags": []
          },
          "execution_count": 25
        }
      ]
    },
    {
      "cell_type": "code",
      "metadata": {
        "id": "WOJe5yCH1mkb",
        "colab_type": "code",
        "colab": {}
      },
      "source": [
        "# 이를 각각 Text_data와 Summary_data로 저장하겠습니다.\n",
        "ori_data = list(data['전'])\n",
        "hand_data = list(data['후'])"
      ],
      "execution_count": 0,
      "outputs": []
    },
    {
      "cell_type": "markdown",
      "metadata": {
        "id": "4YA6Zm9d14dV",
        "colab_type": "text"
      },
      "source": [
        "# 3) 데이터의 분리"
      ]
    },
    {
      "cell_type": "code",
      "metadata": {
        "id": "rshY2Uy41tZu",
        "colab_type": "code",
        "colab": {
          "base_uri": "https://localhost:8080/",
          "height": 89
        },
        "outputId": "c55dc9a9-66a8-43fa-8ea1-ad9c65e1fbef"
      },
      "source": [
        "# 훈련 데이터와 테스트 데이터를 분리해봅시다. 데이터가 워낙 적어서 검증=테스트 라고 생각해주시면 되겠습니다.\n",
        "from sklearn.model_selection import train_test_split\n",
        "X_train, X_test, y_train, y_test = train_test_split(ori_data, hand_data, test_size=0.2, random_state=0, shuffle=True)\n",
        "\n",
        "print('훈련 데이터의 개수 :', len(X_train))\n",
        "print('훈련 레이블의 개수 :',len(y_train))\n",
        "print('테스트 데이터의 개수 :',len(X_test))\n",
        "print('테스트 레이블의 개수 :',len(y_test))"
      ],
      "execution_count": 39,
      "outputs": [
        {
          "output_type": "stream",
          "text": [
            "훈련 데이터의 개수 : 3916\n",
            "훈련 레이블의 개수 : 3916\n",
            "테스트 데이터의 개수 : 979\n",
            "테스트 레이블의 개수 : 979\n"
          ],
          "name": "stdout"
        }
      ]
    },
    {
      "cell_type": "markdown",
      "metadata": {
        "id": "wreUG8Fi2IUW",
        "colab_type": "text"
      },
      "source": [
        "# 4) 정수 인코딩"
      ]
    },
    {
      "cell_type": "code",
      "metadata": {
        "id": "vtgozDyy2HtP",
        "colab_type": "code",
        "colab": {}
      },
      "source": [
        "'''이제 기계가 텍스트를 숫자로 처리할 수 있도록 훈련 데이터와 테스트 데이터에 정수 인코딩을 수행해야 합니다. \n",
        "훈련 데이터에 대해서 단어 집합(vocaburary)을 만들어봅시다. 우선, 원문에 해당되는 X_train에 대해서 수행합니다.'''\n",
        "src_tokenizer = Tokenizer()\n",
        "src_tokenizer.fit_on_texts(X_train)"
      ],
      "execution_count": 0,
      "outputs": []
    },
    {
      "cell_type": "markdown",
      "metadata": {
        "id": "OU0XedOa2UID",
        "colab_type": "text"
      },
      "source": [
        "이제 단어 집합이 생성되는 동시에 각 단어에 고유한 정수가 부여되었습니다. 이는 src_tokenizer.word_index에 저장되어져 있습니다. 여기서는 빈도수가 낮은 단어들은 자연어 처리에서 배제하고자 합니다. 등장 빈도수가 7회 미만인 단어들이 이 데이터에서 얼만큼의 비중을 차지하는지 확인해봅시다."
      ]
    },
    {
      "cell_type": "code",
      "metadata": {
        "id": "uBCxJRFJ1_qe",
        "colab_type": "code",
        "colab": {
          "base_uri": "https://localhost:8080/",
          "height": 107
        },
        "outputId": "4d9911d2-e3bc-4095-f478-4206ffbd57c8"
      },
      "source": [
        "threshold = 2\n",
        "total_cnt = len(src_tokenizer.word_index) # 단어의 수\n",
        "rare_cnt = 0 # 등장 빈도수가 threshold보다 작은 단어의 개수를 카운트\n",
        "total_freq = 0 # 훈련 데이터의 전체 단어 빈도수 총 합\n",
        "rare_freq = 0 # 등장 빈도수가 threshold보다 작은 단어의 등장 빈도수의 총 합\n",
        "\n",
        "# 단어와 빈도수의 쌍(pair)을 key와 value로 받는다.\n",
        "for key, value in src_tokenizer.word_counts.items():\n",
        "    total_freq = total_freq + value\n",
        "\n",
        "    # 단어의 등장 빈도수가 threshold보다 작으면\n",
        "    if(value < threshold):\n",
        "        rare_cnt = rare_cnt + 1\n",
        "        rare_freq = rare_freq + value\n",
        "\n",
        "print('단어 집합(vocabulary)의 크기 :',total_cnt)\n",
        "print('등장 빈도가 %s번 이하인 희귀 단어의 수: %s'%(threshold - 1, rare_cnt))\n",
        "print('단어 집합에서 희귀 단어를 제외시킬 경우의 단어 집합의 크기 %s'%(total_cnt - rare_cnt))\n",
        "print(\"단어 집합에서 희귀 단어의 비율:\", (rare_cnt / total_cnt)*100)\n",
        "print(\"전체 등장 빈도에서 희귀 단어 등장 빈도 비율:\", (rare_freq / total_freq)*100)"
      ],
      "execution_count": 41,
      "outputs": [
        {
          "output_type": "stream",
          "text": [
            "단어 집합(vocabulary)의 크기 : 5443\n",
            "등장 빈도가 1번 이하인 희귀 단어의 수: 4020\n",
            "단어 집합에서 희귀 단어를 제외시킬 경우의 단어 집합의 크기 1423\n",
            "단어 집합에서 희귀 단어의 비율: 73.85632923020393\n",
            "전체 등장 빈도에서 희귀 단어 등장 빈도 비율: 24.00143292136844\n"
          ],
          "name": "stdout"
        }
      ]
    },
    {
      "cell_type": "markdown",
      "metadata": {
        "id": "jdAxKt2b2lES",
        "colab_type": "text"
      },
      "source": [
        "등장 빈도가 threshold 값인 2회 미만. 즉, 1회 이하인 단어들은 단어 집합에서 무려 70% 이상을 차지합니다. 하지만, 실제로 훈련 데이터에서 등장 빈도로 차지하는 비중은 24.39%입니다. 다른 데이터에서는 2~3% 정도일텐데 영수증 OCR 원시 데이터의 특수성이 드러나는 부분입니다. 전체 단어에서 24%의 영향이나 배제해버리는건 무리가 있겠다 싶지만, 원본 데이터가 워낙 노이즈가 많으니 24%의 쓰레기라고 생각하고 배제하도록 하곘습니다.\n",
        "\n",
        "전체 크기와 비슷한 값으로 단어 집합의 크기를 1400으로 제한하겠습니다"
      ]
    },
    {
      "cell_type": "code",
      "metadata": {
        "id": "OZgknSEA24_a",
        "colab_type": "code",
        "colab": {}
      },
      "source": [
        "src_vocab = 1400\n",
        "src_tokenizer = Tokenizer(num_words = src_vocab) \n",
        "src_tokenizer.fit_on_texts(X_train)\n",
        "\n",
        "# 텍스트 시퀀스를 정수 시퀀스로 변환\n",
        "X_train = src_tokenizer.texts_to_sequences(X_train) \n",
        "X_test = src_tokenizer.texts_to_sequences(X_test)"
      ],
      "execution_count": 0,
      "outputs": []
    },
    {
      "cell_type": "code",
      "metadata": {
        "id": "mLYr4TnT3GKj",
        "colab_type": "code",
        "colab": {
          "base_uri": "https://localhost:8080/",
          "height": 35
        },
        "outputId": "e9714adb-8de5-459f-bb36-a334634be51d"
      },
      "source": [
        "# 정수 인코딩이 정상 진행되었는지 훈련 데이터에 대해서 5개의 샘플을 출력해봅시다.\n",
        "print(X_train[:5])"
      ],
      "execution_count": 43,
      "outputs": [
        {
          "output_type": "stream",
          "text": [
            "[[8], [7, 3, 59, 1, 3, 59], [236], [81, 1, 1], [21, 237]]\n"
          ],
          "name": "stdout"
        }
      ]
    },
    {
      "cell_type": "code",
      "metadata": {
        "id": "w1Of8vLW3Hdl",
        "colab_type": "code",
        "colab": {}
      },
      "source": [
        "# 이제 레이블에 해당하는 정답(hand) 데이터에 대해서도 수행하겠습니다."
      ],
      "execution_count": 0,
      "outputs": []
    },
    {
      "cell_type": "code",
      "metadata": {
        "id": "DBdIC3aX3LvQ",
        "colab_type": "code",
        "colab": {}
      },
      "source": [
        "tar_tokenizer = Tokenizer()\n",
        "tar_tokenizer.fit_on_texts(y_train)"
      ],
      "execution_count": 0,
      "outputs": []
    },
    {
      "cell_type": "code",
      "metadata": {
        "id": "TOEdAuzF3MgU",
        "colab_type": "code",
        "colab": {
          "base_uri": "https://localhost:8080/",
          "height": 107
        },
        "outputId": "0ebe2919-ee0f-4e02-b94f-8f3e08191038"
      },
      "source": [
        "threshold = 2\n",
        "total_cnt = len(tar_tokenizer.word_index) # 단어의 수\n",
        "rare_cnt = 0 # 등장 빈도수가 threshold보다 작은 단어의 개수를 카운트\n",
        "total_freq = 0 # 훈련 데이터의 전체 단어 빈도수 총 합\n",
        "rare_freq = 0 # 등장 빈도수가 threshold보다 작은 단어의 등장 빈도수의 총 합\n",
        "\n",
        "# 단어와 빈도수의 쌍(pair)을 key와 value로 받는다.\n",
        "for key, value in tar_tokenizer.word_counts.items():\n",
        "    total_freq = total_freq + value\n",
        "\n",
        "    # 단어의 등장 빈도수가 threshold보다 작으면\n",
        "    if(value < threshold):\n",
        "        rare_cnt = rare_cnt + 1\n",
        "        rare_freq = rare_freq + value\n",
        "\n",
        "print('단어 집합(vocabulary)의 크기 :',total_cnt)\n",
        "print('등장 빈도가 %s번 이하인 희귀 단어의 수: %s'%(threshold - 1, rare_cnt))\n",
        "print('단어 집합에서 희귀 단어를 제외시킬 경우의 단어 집합의 크기 %s'%(total_cnt - rare_cnt))\n",
        "print(\"단어 집합에서 희귀 단어의 비율:\", (rare_cnt / total_cnt)*100)\n",
        "print(\"전체 등장 빈도에서 희귀 단어 등장 빈도 비율:\", (rare_freq / total_freq)*100)"
      ],
      "execution_count": 46,
      "outputs": [
        {
          "output_type": "stream",
          "text": [
            "단어 집합(vocabulary)의 크기 : 4394\n",
            "등장 빈도가 1번 이하인 희귀 단어의 수: 2943\n",
            "단어 집합에서 희귀 단어를 제외시킬 경우의 단어 집합의 크기 1451\n",
            "단어 집합에서 희귀 단어의 비율: 66.97769685935367\n",
            "전체 등장 빈도에서 희귀 단어 등장 빈도 비율: 11.872201379644197\n"
          ],
          "name": "stdout"
        }
      ]
    },
    {
      "cell_type": "code",
      "metadata": {
        "id": "6h-fT2s93U_7",
        "colab_type": "code",
        "colab": {}
      },
      "source": [
        "tar_vocab = 1400\n",
        "tar_tokenizer = Tokenizer(num_words = tar_vocab) \n",
        "tar_tokenizer.fit_on_texts(y_train)\n",
        "\n",
        "# 텍스트 시퀀스를 정수 시퀀스로 변환\n",
        "y_train = tar_tokenizer.texts_to_sequences(y_train) \n",
        "y_test = tar_tokenizer.texts_to_sequences(y_test) "
      ],
      "execution_count": 0,
      "outputs": []
    },
    {
      "cell_type": "code",
      "metadata": {
        "id": "sjb3VuD83z58",
        "colab_type": "code",
        "colab": {
          "base_uri": "https://localhost:8080/",
          "height": 35
        },
        "outputId": "07008adf-6055-4f44-c6df-ac36ac6f853d"
      },
      "source": [
        "print(y_train[:5])"
      ],
      "execution_count": 48,
      "outputs": [
        {
          "output_type": "stream",
          "text": [
            "[[1, 90, 11, 2], [1, 9, 4, 56, 3, 4, 56, 2], [1, 939, 439, 284, 2], [1, 58, 940, 3, 2], [1, 40, 41, 156, 94, 2]]\n"
          ],
          "name": "stdout"
        }
      ]
    },
    {
      "cell_type": "markdown",
      "metadata": {
        "id": "K9z-rV9J311i",
        "colab_type": "text"
      },
      "source": [
        "# 5) 빈 샘플(empty samples) 제거"
      ]
    },
    {
      "cell_type": "markdown",
      "metadata": {
        "id": "p6-i4TwF34Wy",
        "colab_type": "text"
      },
      "source": [
        "전체 데이터에서 빈도수가 낮은 단어가 삭제되었다는 것은 빈도수가 낮은 단어만으로 구성되었던 샘플들은 이제 빈(empty) 샘플이 되었다는 것을 의미합니다. 길이가 0이 된 샘플들의 인덱스를 받아옵시다. 주의할 점은 요약문에는 sostoken과 eostoken이 추가된 상태이고, 이 두 토큰은 모든 샘플에서 등장하므로 빈도수가 샘플수와 동일하여 단어 집합 제한에도 삭제 되지 않습니다. 그래서 이제 길이가 0이 된 정답문의 실질적 길이는 2입니다."
      ]
    },
    {
      "cell_type": "code",
      "metadata": {
        "id": "ncXtf11H30el",
        "colab_type": "code",
        "colab": {}
      },
      "source": [
        "drop_train = [index for index, sentence in enumerate(y_train) if len(sentence) == 2]\n",
        "drop_test = [index for index, sentence in enumerate(y_test) if len(sentence) == 2]"
      ],
      "execution_count": 0,
      "outputs": []
    },
    {
      "cell_type": "code",
      "metadata": {
        "id": "TbA4uTEV4DMq",
        "colab_type": "code",
        "colab": {
          "base_uri": "https://localhost:8080/",
          "height": 35
        },
        "outputId": "4115e5f1-c093-48e0-da97-456f6b8be6c4"
      },
      "source": [
        "'''훈련 데이터와 테스트 데이터에 대해서 요약문의 길이가 2인 경우의 인덱스를 각각 drop_train과 drop_test에 저장하였습니다. 삭제 전의 훈련 데이터와 테스트 데이터의 개수를 출력해봅시다.'''"
      ],
      "execution_count": 52,
      "outputs": [
        {
          "output_type": "execute_result",
          "data": {
            "text/plain": [
              "'훈련 데이터와 테스트 데이터에 대해서 요약문의 길이가 2인 경우의 인덱스를 각각 drop_train과 drop_test에 저장하였습니다. 삭제 전의 훈련 데이터와 테스트 데이터의 개수를 출력해봅시다.'"
            ]
          },
          "metadata": {
            "tags": []
          },
          "execution_count": 52
        }
      ]
    },
    {
      "cell_type": "code",
      "metadata": {
        "id": "kr3xM2ce4A9K",
        "colab_type": "code",
        "colab": {
          "base_uri": "https://localhost:8080/",
          "height": 89
        },
        "outputId": "ab0bd59c-0bf0-48e6-b6de-abbf501412e6"
      },
      "source": [
        "# # 삭제 전의 개수는 다음과 같습니다.\n",
        "print('훈련 데이터의 개수 :', len(X_train))\n",
        "print('훈련 레이블의 개수 :',len(y_train))\n",
        "print('테스트 데이터의 개수 :',len(X_test))\n",
        "print('테스트 레이블의 개수 :',len(y_test))"
      ],
      "execution_count": 55,
      "outputs": [
        {
          "output_type": "stream",
          "text": [
            "훈련 데이터의 개수 : 3709\n",
            "훈련 레이블의 개수 : 3709\n",
            "테스트 데이터의 개수 : 901\n",
            "테스트 레이블의 개수 : 901\n"
          ],
          "name": "stdout"
        }
      ]
    },
    {
      "cell_type": "code",
      "metadata": {
        "id": "3xURK1Ix4PzV",
        "colab_type": "code",
        "colab": {
          "base_uri": "https://localhost:8080/",
          "height": 89
        },
        "outputId": "32989884-f623-4672-cec7-0bc68f067cc2"
      },
      "source": [
        "# 삭제 후의 개수는 다음과 같습니다.\n",
        "X_train = np.delete(X_train, drop_train, axis=0)\n",
        "y_train = np.delete(y_train, drop_train, axis=0)\n",
        "X_test = np.delete(X_test, drop_test, axis=0)\n",
        "y_test = np.delete(y_test, drop_test, axis=0)\n",
        "\n",
        "print('훈련 데이터의 개수 :', len(X_train))\n",
        "print('훈련 레이블의 개수 :',len(y_train))\n",
        "print('테스트 데이터의 개수 :',len(X_test))\n",
        "print('테스트 레이블의 개수 :',len(y_test))"
      ],
      "execution_count": 54,
      "outputs": [
        {
          "output_type": "stream",
          "text": [
            "훈련 데이터의 개수 : 3709\n",
            "훈련 레이블의 개수 : 3709\n",
            "테스트 데이터의 개수 : 901\n",
            "테스트 레이블의 개수 : 901\n"
          ],
          "name": "stdout"
        }
      ]
    },
    {
      "cell_type": "markdown",
      "metadata": {
        "id": "ASCWt8gb4XRc",
        "colab_type": "text"
      },
      "source": [
        "# 6) 패딩하기"
      ]
    },
    {
      "cell_type": "code",
      "metadata": {
        "id": "vSmHxbdN4FMb",
        "colab_type": "code",
        "colab": {}
      },
      "source": [
        "# 훈련 데이터와 테스트 데이터에 대해서 패딩 작업을 수행합니다. 이미 앞서 정해둔 최대 길이를 넘는 샘플들은 제외했기 때문에 따로 길이 분포를 재확인하지는 않겠습니다.\n",
        "X_train = pad_sequences(X_train, maxlen = ori_max_len, padding='post')\n",
        "X_test = pad_sequences(X_test, maxlen = ori_max_len, padding='post')\n",
        "y_train = pad_sequences(y_train, maxlen = hand_max_len, padding='post')\n",
        "y_test = pad_sequences(y_test, maxlen = hand_max_len, padding='post')"
      ],
      "execution_count": 0,
      "outputs": []
    },
    {
      "cell_type": "markdown",
      "metadata": {
        "id": "CLHievNa4ngn",
        "colab_type": "text"
      },
      "source": [
        "# 3. seq2seq + attention으로 요약 모델 설계 및 훈련시키기"
      ]
    },
    {
      "cell_type": "code",
      "metadata": {
        "id": "q33j1f7Q4lxA",
        "colab_type": "code",
        "colab": {}
      },
      "source": [
        "from tensorflow.keras.layers import Input, LSTM, Embedding, Dense, Concatenate\n",
        "from tensorflow.keras.models import Model\n",
        "from tensorflow.keras.callbacks import EarlyStopping, ModelCheckpoint"
      ],
      "execution_count": 0,
      "outputs": []
    },
    {
      "cell_type": "markdown",
      "metadata": {
        "id": "W2_0u7Up4q-6",
        "colab_type": "text"
      },
      "source": [
        "## 인코더를 설계해보겠습니다. \n",
        "인코더는 LSTM 층을 3개 쌓습니다."
      ]
    },
    {
      "cell_type": "code",
      "metadata": {
        "id": "rjDyVild4pqi",
        "colab_type": "code",
        "colab": {
          "base_uri": "https://localhost:8080/",
          "height": 71
        },
        "outputId": "8e08d7a3-7799-45b9-c705-aa582ffb2f13"
      },
      "source": [
        "embedding_dim = 128\n",
        "hidden_size = 256\n",
        "\n",
        "# 인코더\n",
        "encoder_inputs = Input(shape=(ori_max_len,))\n",
        "\n",
        "# 인코더의 임베딩 층\n",
        "enc_emb = Embedding(src_vocab, embedding_dim)(encoder_inputs)\n",
        "\n",
        "# 인코더의 LSTM 1\n",
        "encoder_lstm1 = LSTM(hidden_size, return_sequences=True, return_state=True ,dropout = 0.4, recurrent_dropout = 0.4)\n",
        "encoder_output1, state_h1, state_c1 = encoder_lstm1(enc_emb)\n",
        "\n",
        "# 인코더의 LSTM 2\n",
        "encoder_lstm2 = LSTM(hidden_size, return_sequences=True, return_state=True, dropout=0.4, recurrent_dropout=0.4)\n",
        "encoder_output2, state_h2, state_c2 = encoder_lstm2(encoder_output1)\n",
        "\n",
        "# 인코더의 LSTM 3\n",
        "encoder_lstm3 = LSTM(hidden_size, return_state=True, return_sequences=True, dropout=0.4, recurrent_dropout=0.4)\n",
        "encoder_outputs, state_h, state_c= encoder_lstm3(encoder_output2)"
      ],
      "execution_count": 59,
      "outputs": [
        {
          "output_type": "stream",
          "text": [
            "WARNING:tensorflow:Layer lstm will not use cuDNN kernel since it doesn't meet the cuDNN kernel criteria. It will use generic GPU kernel as fallback when running on GPU\n",
            "WARNING:tensorflow:Layer lstm_1 will not use cuDNN kernel since it doesn't meet the cuDNN kernel criteria. It will use generic GPU kernel as fallback when running on GPU\n",
            "WARNING:tensorflow:Layer lstm_2 will not use cuDNN kernel since it doesn't meet the cuDNN kernel criteria. It will use generic GPU kernel as fallback when running on GPU\n"
          ],
          "name": "stdout"
        }
      ]
    },
    {
      "cell_type": "markdown",
      "metadata": {
        "id": "PRGmZo2J4zXh",
        "colab_type": "text"
      },
      "source": [
        "## 디코더를 설계해보겠습니다. \n",
        "단, 출력층은 제외하고 설계하겠습니다. 디코더의 설계는 인코더와 사실상 동일하지만 초기 상태(initial_state)를 인코더의 상태로 주어야 하는 것에 주의합시다."
      ]
    },
    {
      "cell_type": "code",
      "metadata": {
        "id": "ImJExuHu4tnl",
        "colab_type": "code",
        "colab": {
          "base_uri": "https://localhost:8080/",
          "height": 35
        },
        "outputId": "326263bf-8abc-4e5e-c28c-154c74375e76"
      },
      "source": [
        "# 디코더\n",
        "decoder_inputs = Input(shape=(None,))\n",
        "\n",
        "# 디코더의 임베딩 층\n",
        "dec_emb = Embedding(tar_vocab, embedding_dim)(decoder_inputs)\n",
        "\n",
        "# 디코더의 LSTM\n",
        "decoder_lstm = LSTM(hidden_size, return_sequences = True, return_state = True, dropout = 0.4, recurrent_dropout=0.2)\n",
        "decoder_outputs, _, _ = decoder_lstm(dec_emb, initial_state = [state_h, state_c])"
      ],
      "execution_count": 60,
      "outputs": [
        {
          "output_type": "stream",
          "text": [
            "WARNING:tensorflow:Layer lstm_3 will not use cuDNN kernel since it doesn't meet the cuDNN kernel criteria. It will use generic GPU kernel as fallback when running on GPU\n"
          ],
          "name": "stdout"
        }
      ]
    },
    {
      "cell_type": "markdown",
      "metadata": {
        "id": "TAyApKO748bU",
        "colab_type": "text"
      },
      "source": [
        "이번 챕터에서는 어텐션 메커니즘을 사용할 예정이므로 위에서 기존에 seq2seq에서 설계한 출력층을 사용하지 않고, 어텐션 메커니즘이 결합된 새로운 출력층을 설계해보겠습니다. 어텐션 함수를 직접 작성하지 않고 이미 깃허브에 공개된 함수를 사용할 것이므로 아래의 코드를 통해 attention.py 파일을 다운로드하고, AttentionLayer를 임포트합니다."
      ]
    },
    {
      "cell_type": "code",
      "metadata": {
        "id": "yfGWGC0T45Ww",
        "colab_type": "code",
        "colab": {}
      },
      "source": [
        "import urllib.request\n",
        "urllib.request.urlretrieve(\"https://raw.githubusercontent.com/thushv89/attention_keras/master/layers/attention.py\", filename=\"attention.py\")\n",
        "from attention import AttentionLayer"
      ],
      "execution_count": 0,
      "outputs": []
    },
    {
      "cell_type": "markdown",
      "metadata": {
        "id": "Bk26RORv5CZ9",
        "colab_type": "text"
      },
      "source": [
        "## 어텐션 메커니즘\n",
        "을 이용해 디코더의 출력층을 새롭게 설계합니다."
      ]
    },
    {
      "cell_type": "code",
      "metadata": {
        "id": "Y7uItYR75Awv",
        "colab_type": "code",
        "colab": {
          "base_uri": "https://localhost:8080/",
          "height": 629
        },
        "outputId": "5c09d106-3efc-423f-c17c-e9b41114c5b9"
      },
      "source": [
        "# 어텐션 층(어텐션 함수)\n",
        "attn_layer = AttentionLayer(name='attention_layer')\n",
        "attn_out, attn_states = attn_layer([encoder_outputs, decoder_outputs])\n",
        "\n",
        "# 어텐션의 결과와 디코더의 hidden state들을 연결\n",
        "decoder_concat_input = Concatenate(axis = -1, name='concat_layer')([decoder_outputs, attn_out])\n",
        "\n",
        "# 디코더의 출력층\n",
        "decoder_softmax_layer = Dense(tar_vocab, activation='softmax')\n",
        "decoder_softmax_outputs = decoder_softmax_layer(decoder_concat_input)\n",
        "\n",
        "# 모델 정의\n",
        "model = Model([encoder_inputs, decoder_inputs], decoder_softmax_outputs)\n",
        "model.summary()"
      ],
      "execution_count": 62,
      "outputs": [
        {
          "output_type": "stream",
          "text": [
            "Model: \"model\"\n",
            "__________________________________________________________________________________________________\n",
            "Layer (type)                    Output Shape         Param #     Connected to                     \n",
            "==================================================================================================\n",
            "input_1 (InputLayer)            [(None, 20)]         0                                            \n",
            "__________________________________________________________________________________________________\n",
            "embedding (Embedding)           (None, 20, 128)      179200      input_1[0][0]                    \n",
            "__________________________________________________________________________________________________\n",
            "lstm (LSTM)                     [(None, 20, 256), (N 394240      embedding[0][0]                  \n",
            "__________________________________________________________________________________________________\n",
            "input_2 (InputLayer)            [(None, None)]       0                                            \n",
            "__________________________________________________________________________________________________\n",
            "lstm_1 (LSTM)                   [(None, 20, 256), (N 525312      lstm[0][0]                       \n",
            "__________________________________________________________________________________________________\n",
            "embedding_1 (Embedding)         (None, None, 128)    179200      input_2[0][0]                    \n",
            "__________________________________________________________________________________________________\n",
            "lstm_2 (LSTM)                   [(None, 20, 256), (N 525312      lstm_1[0][0]                     \n",
            "__________________________________________________________________________________________________\n",
            "lstm_3 (LSTM)                   [(None, None, 256),  394240      embedding_1[0][0]                \n",
            "                                                                 lstm_2[0][1]                     \n",
            "                                                                 lstm_2[0][2]                     \n",
            "__________________________________________________________________________________________________\n",
            "attention_layer (AttentionLayer ((None, None, 256),  131328      lstm_2[0][0]                     \n",
            "                                                                 lstm_3[0][0]                     \n",
            "__________________________________________________________________________________________________\n",
            "concat_layer (Concatenate)      (None, None, 512)    0           lstm_3[0][0]                     \n",
            "                                                                 attention_layer[0][0]            \n",
            "__________________________________________________________________________________________________\n",
            "dense (Dense)                   (None, None, 1400)   718200      concat_layer[0][0]               \n",
            "==================================================================================================\n",
            "Total params: 3,047,032\n",
            "Trainable params: 3,047,032\n",
            "Non-trainable params: 0\n",
            "__________________________________________________________________________________________________\n"
          ],
          "name": "stdout"
        }
      ]
    },
    {
      "cell_type": "code",
      "metadata": {
        "id": "LzKf1XZM5F_3",
        "colab_type": "code",
        "colab": {}
      },
      "source": [
        "# 총 3,047,032개의 파라미터를 가진 모델이 설계됩니다. 이제 모델을 컴파일합니다.\n",
        "model.compile(optimizer='rmsprop', loss='categorical_crossentropy')"
      ],
      "execution_count": 0,
      "outputs": []
    },
    {
      "cell_type": "code",
      "metadata": {
        "id": "-Zd0PliH5N8B",
        "colab_type": "code",
        "colab": {}
      },
      "source": [
        "# 조기 종료 조건을 설정하고 모델을 학습시킵니다. 인자들에 자세한 설명은 seq2seq로 영수증 맞춤법 해결하기.ipynb를 보시면 기록되어있습니다.\n",
        "es = EarlyStopping(monitor='val_loss', mode='min', verbose=1, patience = 5)\n",
        "history = model.fit([X_train, y_train[:,:-1]], y_train.reshape(y_train.shape[0], y_train.shape[1], 1)[:,1:],\n",
        "                  epochs=50, callbacks=[es], batch_size = 256, validation_data=([X_test, y_test[:,:-1]],\n",
        "                  y_test.reshape(y_test.shape[0], y_test.shape[1], 1)[:,1:]))"
      ],
      "execution_count": 0,
      "outputs": []
    },
    {
      "cell_type": "code",
      "metadata": {
        "id": "l-10XujD5YGh",
        "colab_type": "code",
        "colab": {}
      },
      "source": [
        ""
      ],
      "execution_count": 0,
      "outputs": []
    }
  ]
}