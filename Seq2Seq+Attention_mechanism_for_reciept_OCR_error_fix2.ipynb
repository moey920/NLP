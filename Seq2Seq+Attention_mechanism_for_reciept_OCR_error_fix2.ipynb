{
  "nbformat": 4,
  "nbformat_minor": 0,
  "metadata": {
    "colab": {
      "name": "Seq2Seq+Attention mechanism for reciept OCR error fix2.ipynb",
      "provenance": [],
      "collapsed_sections": [],
      "toc_visible": true,
      "mount_file_id": "1QfBDgiVSOdoNLZ2RQdRwrUa-66yB4gc8",
      "authorship_tag": "ABX9TyOQhPlvI2BKgUNur51vFuoF",
      "include_colab_link": true
    },
    "kernelspec": {
      "name": "python3",
      "display_name": "Python 3"
    },
    "accelerator": "GPU"
  },
  "cells": [
    {
      "cell_type": "markdown",
      "metadata": {
        "id": "view-in-github",
        "colab_type": "text"
      },
      "source": [
        "<a href=\"https://colab.research.google.com/github/moey920/NLP/blob/master/Seq2Seq%2BAttention_mechanism_for_reciept_OCR_error_fix2.ipynb\" target=\"_parent\"><img src=\"https://colab.research.google.com/assets/colab-badge.svg\" alt=\"Open In Colab\"/></a>"
      ]
    },
    {
      "cell_type": "code",
      "metadata": {
        "id": "gjdCOGHMyOXV",
        "colab_type": "code",
        "colab": {}
      },
      "source": [
        "import numpy as np\n",
        "import pandas as pd\n",
        "import re\n",
        "import matplotlib.pyplot as plt\n",
        "from nltk.corpus import stopwords\n",
        "from bs4 import BeautifulSoup \n",
        "from tensorflow.keras.preprocessing.text import Tokenizer \n",
        "from tensorflow.keras.preprocessing.sequence import pad_sequences"
      ],
      "execution_count": 0,
      "outputs": []
    },
    {
      "cell_type": "markdown",
      "metadata": {
        "id": "BQUgJ4TiyY0J",
        "colab_type": "text"
      },
      "source": [
        "# 1) 데이터 로드하기"
      ]
    },
    {
      "cell_type": "code",
      "metadata": {
        "id": "bdKn4U-FyWtx",
        "colab_type": "code",
        "outputId": "49a5cd23-8448-4f73-93b3-7bc14f1479b5",
        "colab": {
          "base_uri": "https://localhost:8080/",
          "height": 35
        }
      },
      "source": [
        "# Reviews.csv 파일을 data라는 이름의 데이터프레임에 저장. 단, 10만개의 행(rows)으로 제한.\n",
        "data = pd.read_csv(\"/content/drive/My Drive/캐시카우_노하람인턴_공유폴더/seq2seq/임시/seq2seq_dataset_수정5.csv\", nrows = 100000)\n",
        "print('전체 리뷰 개수 :',(len(data)))"
      ],
      "execution_count": 2,
      "outputs": [
        {
          "output_type": "stream",
          "text": [
            "전체 리뷰 개수 : 5392\n"
          ],
          "name": "stdout"
        }
      ]
    },
    {
      "cell_type": "code",
      "metadata": {
        "id": "ZrpY72dXzpiV",
        "colab_type": "code",
        "outputId": "380279b9-69ba-4ef7-8f91-f1abfc2a446d",
        "colab": {
          "base_uri": "https://localhost:8080/",
          "height": 204
        }
      },
      "source": [
        "data.head()"
      ],
      "execution_count": 3,
      "outputs": [
        {
          "output_type": "execute_result",
          "data": {
            "text/html": [
              "<div>\n",
              "<style scoped>\n",
              "    .dataframe tbody tr th:only-of-type {\n",
              "        vertical-align: middle;\n",
              "    }\n",
              "\n",
              "    .dataframe tbody tr th {\n",
              "        vertical-align: top;\n",
              "    }\n",
              "\n",
              "    .dataframe thead th {\n",
              "        text-align: right;\n",
              "    }\n",
              "</style>\n",
              "<table border=\"1\" class=\"dataframe\">\n",
              "  <thead>\n",
              "    <tr style=\"text-align: right;\">\n",
              "      <th></th>\n",
              "      <th>전</th>\n",
              "      <th>후</th>\n",
              "      <th>인덱스</th>\n",
              "    </tr>\n",
              "  </thead>\n",
              "  <tbody>\n",
              "    <tr>\n",
              "      <th>0</th>\n",
              "      <td>CJ올리브영( ㈜ 이선신보집</td>\n",
              "      <td>CJ올리브영㈜ 인천신포점</td>\n",
              "      <td>1</td>\n",
              "    </tr>\n",
              "    <tr>\n",
              "      <th>1</th>\n",
              "      <td>인전광역시 중구 개항로 32 - 1</td>\n",
              "      <td>인천광역시 중구 개항로 32-1</td>\n",
              "      <td>2</td>\n",
              "    </tr>\n",
              "    <tr>\n",
              "      <th>2</th>\n",
              "      <td>5298501337 김희선 TEL : 032 - 765 - 5290</td>\n",
              "      <td>5298501337 김희선 TEL:032-765-5290</td>\n",
              "      <td>3</td>\n",
              "    </tr>\n",
              "    <tr>\n",
              "      <th>3</th>\n",
              "      <td>2020 -04 -26 19 : 39 :03 POS : 1001- 00161 김희선</td>\n",
              "      <td>2020-04-26 19:39:03 POS:1001-00161 김희선</td>\n",
              "      <td>4</td>\n",
              "    </tr>\n",
              "    <tr>\n",
              "      <th>4</th>\n",
              "      <td>고객센터 : 1577 - 4887 www .oliveyoung . co . kr</td>\n",
              "      <td>고객센터 : 1577-4887 www.oliveyoung.co.kr</td>\n",
              "      <td>5</td>\n",
              "    </tr>\n",
              "  </tbody>\n",
              "</table>\n",
              "</div>"
            ],
            "text/plain": [
              "                                                전  ... 인덱스\n",
              "0                                 CJ올리브영( ㈜ 이선신보집  ...   1\n",
              "1                             인전광역시 중구 개항로 32 - 1  ...   2\n",
              "2           5298501337 김희선 TEL : 032 - 765 - 5290  ...   3\n",
              "3  2020 -04 -26 19 : 39 :03 POS : 1001- 00161 김희선  ...   4\n",
              "4    고객센터 : 1577 - 4887 www .oliveyoung . co . kr  ...   5\n",
              "\n",
              "[5 rows x 3 columns]"
            ]
          },
          "metadata": {
            "tags": []
          },
          "execution_count": 3
        }
      ]
    },
    {
      "cell_type": "code",
      "metadata": {
        "id": "zlI33HAUztCH",
        "colab_type": "code",
        "outputId": "017c8d87-5f91-4ce9-c6ac-3b87c288cd98",
        "colab": {
          "base_uri": "https://localhost:8080/",
          "height": 204
        }
      },
      "source": [
        "data = data[['전','후']]\n",
        "data.head()"
      ],
      "execution_count": 4,
      "outputs": [
        {
          "output_type": "execute_result",
          "data": {
            "text/html": [
              "<div>\n",
              "<style scoped>\n",
              "    .dataframe tbody tr th:only-of-type {\n",
              "        vertical-align: middle;\n",
              "    }\n",
              "\n",
              "    .dataframe tbody tr th {\n",
              "        vertical-align: top;\n",
              "    }\n",
              "\n",
              "    .dataframe thead th {\n",
              "        text-align: right;\n",
              "    }\n",
              "</style>\n",
              "<table border=\"1\" class=\"dataframe\">\n",
              "  <thead>\n",
              "    <tr style=\"text-align: right;\">\n",
              "      <th></th>\n",
              "      <th>전</th>\n",
              "      <th>후</th>\n",
              "    </tr>\n",
              "  </thead>\n",
              "  <tbody>\n",
              "    <tr>\n",
              "      <th>0</th>\n",
              "      <td>CJ올리브영( ㈜ 이선신보집</td>\n",
              "      <td>CJ올리브영㈜ 인천신포점</td>\n",
              "    </tr>\n",
              "    <tr>\n",
              "      <th>1</th>\n",
              "      <td>인전광역시 중구 개항로 32 - 1</td>\n",
              "      <td>인천광역시 중구 개항로 32-1</td>\n",
              "    </tr>\n",
              "    <tr>\n",
              "      <th>2</th>\n",
              "      <td>5298501337 김희선 TEL : 032 - 765 - 5290</td>\n",
              "      <td>5298501337 김희선 TEL:032-765-5290</td>\n",
              "    </tr>\n",
              "    <tr>\n",
              "      <th>3</th>\n",
              "      <td>2020 -04 -26 19 : 39 :03 POS : 1001- 00161 김희선</td>\n",
              "      <td>2020-04-26 19:39:03 POS:1001-00161 김희선</td>\n",
              "    </tr>\n",
              "    <tr>\n",
              "      <th>4</th>\n",
              "      <td>고객센터 : 1577 - 4887 www .oliveyoung . co . kr</td>\n",
              "      <td>고객센터 : 1577-4887 www.oliveyoung.co.kr</td>\n",
              "    </tr>\n",
              "  </tbody>\n",
              "</table>\n",
              "</div>"
            ],
            "text/plain": [
              "                                                전                                       후\n",
              "0                                 CJ올리브영( ㈜ 이선신보집                           CJ올리브영㈜ 인천신포점\n",
              "1                             인전광역시 중구 개항로 32 - 1                       인천광역시 중구 개항로 32-1\n",
              "2           5298501337 김희선 TEL : 032 - 765 - 5290         5298501337 김희선 TEL:032-765-5290\n",
              "3  2020 -04 -26 19 : 39 :03 POS : 1001- 00161 김희선  2020-04-26 19:39:03 POS:1001-00161 김희선\n",
              "4    고객센터 : 1577 - 4887 www .oliveyoung . co . kr   고객센터 : 1577-4887 www.oliveyoung.co.kr"
            ]
          },
          "metadata": {
            "tags": []
          },
          "execution_count": 4
        }
      ]
    },
    {
      "cell_type": "code",
      "metadata": {
        "id": "GjpqDNtVzxZB",
        "colab_type": "code",
        "outputId": "feb58f97-4da5-4507-80a1-0d69f4b4b462",
        "colab": {
          "base_uri": "https://localhost:8080/",
          "height": 359
        }
      },
      "source": [
        "# 랜덤으로 10개의 샘플 출력\n",
        "data.sample(10)"
      ],
      "execution_count": 5,
      "outputs": [
        {
          "output_type": "execute_result",
          "data": {
            "text/html": [
              "<div>\n",
              "<style scoped>\n",
              "    .dataframe tbody tr th:only-of-type {\n",
              "        vertical-align: middle;\n",
              "    }\n",
              "\n",
              "    .dataframe tbody tr th {\n",
              "        vertical-align: top;\n",
              "    }\n",
              "\n",
              "    .dataframe thead th {\n",
              "        text-align: right;\n",
              "    }\n",
              "</style>\n",
              "<table border=\"1\" class=\"dataframe\">\n",
              "  <thead>\n",
              "    <tr style=\"text-align: right;\">\n",
              "      <th></th>\n",
              "      <th>전</th>\n",
              "      <th>후</th>\n",
              "    </tr>\n",
              "  </thead>\n",
              "  <tbody>\n",
              "    <tr>\n",
              "      <th>364</th>\n",
              "      <td>결제 금액 10, 000</td>\n",
              "      <td>*결 제 금 액 10,000</td>\n",
              "    </tr>\n",
              "    <tr>\n",
              "      <th>1019</th>\n",
              "      <td>- -재인쇄==</td>\n",
              "      <td>==재인쇄==</td>\n",
              "    </tr>\n",
              "    <tr>\n",
              "      <th>1721</th>\n",
              "      <td>하여 매장 방문 시 해당금액 이상의 상품으</td>\n",
              "      <td>하여 매장 방문 시 해당금액 이상의 상품으로</td>\n",
              "    </tr>\n",
              "    <tr>\n",
              "      <th>1124</th>\n",
              "      <td>신용카드 2, 000</td>\n",
              "      <td>신용카드 2,000</td>\n",
              "    </tr>\n",
              "    <tr>\n",
              "      <th>3735</th>\n",
              "      <td>지참하셔야 합니다. (결제카드 지참 )</td>\n",
              "      <td>지참하셔야 합니다. (결제카드 지참)</td>\n",
              "    </tr>\n",
              "    <tr>\n",
              "      <th>5330</th>\n",
              "      <td>18801114131978 1, 950 5 11 ,700</td>\n",
              "      <td>*8801114131978 1,950 6 11,700</td>\n",
              "    </tr>\n",
              "    <tr>\n",
              "      <th>467</th>\n",
              "      <td>카드와 영수증 지참 시 가능합니다 .</td>\n",
              "      <td>카드와 영수증 지참 시 가능합니다 .</td>\n",
              "    </tr>\n",
              "    <tr>\n",
              "      <th>5385</th>\n",
              "      <td>소일예정포인트 사용 시 익일 차감됨</td>\n",
              "      <td>※소멸예정포인트 사용 시 익일 차감됨</td>\n",
              "    </tr>\n",
              "    <tr>\n",
              "      <th>1169</th>\n",
              "      <td>607 - 06- 29843 강의 태</td>\n",
              "      <td>607-85-29843 강 희 태</td>\n",
              "    </tr>\n",
              "    <tr>\n",
              "      <th>1469</th>\n",
              "      <td>승인번호 202005010043715680</td>\n",
              "      <td>승인번호 202005010043715680</td>\n",
              "    </tr>\n",
              "  </tbody>\n",
              "</table>\n",
              "</div>"
            ],
            "text/plain": [
              "                                    전                              후\n",
              "364                     결제 금액 10, 000                *결 제 금 액 10,000\n",
              "1019                         - -재인쇄==                        ==재인쇄==\n",
              "1721          하여 매장 방문 시 해당금액 이상의 상품으       하여 매장 방문 시 해당금액 이상의 상품으로\n",
              "1124                      신용카드 2, 000                     신용카드 2,000\n",
              "3735            지참하셔야 합니다. (결제카드 지참 )           지참하셔야 합니다. (결제카드 지참)\n",
              "5330  18801114131978 1, 950 5 11 ,700  *8801114131978 1,950 6 11,700\n",
              "467              카드와 영수증 지참 시 가능합니다 .           카드와 영수증 지참 시 가능합니다 .\n",
              "5385              소일예정포인트 사용 시 익일 차감됨           ※소멸예정포인트 사용 시 익일 차감됨\n",
              "1169             607 - 06- 29843 강의 태             607-85-29843 강 희 태\n",
              "1469          승인번호 202005010043715680        승인번호 202005010043715680"
            ]
          },
          "metadata": {
            "tags": []
          },
          "execution_count": 5
        }
      ]
    },
    {
      "cell_type": "markdown",
      "metadata": {
        "id": "gSyfQNIM10Pl",
        "colab_type": "text"
      },
      "source": [
        "# 2) 데이터 정제하기"
      ]
    },
    {
      "cell_type": "code",
      "metadata": {
        "id": "mcj0u31bz1Sl",
        "colab_type": "code",
        "outputId": "43f7cfb2-2e7c-45f1-a194-500a07943f97",
        "colab": {
          "base_uri": "https://localhost:8080/",
          "height": 53
        }
      },
      "source": [
        "print('Text 열에서 중복을 배제한 유일한 샘플의 수 :', data['전'].nunique())\n",
        "print('Summary 열에서 중복을 배제한 유일한 샘플의 수 :', data['후'].nunique())"
      ],
      "execution_count": 6,
      "outputs": [
        {
          "output_type": "stream",
          "text": [
            "Text 열에서 중복을 배제한 유일한 샘플의 수 : 4917\n",
            "Summary 열에서 중복을 배제한 유일한 샘플의 수 : 4101\n"
          ],
          "name": "stdout"
        }
      ]
    },
    {
      "cell_type": "code",
      "metadata": {
        "id": "6sOzKT_fz7hw",
        "colab_type": "code",
        "colab": {}
      },
      "source": [
        "# '전' 열에서 중복인 내용이 있다면 중복 제거\n",
        "data.drop_duplicates(subset=['전'], inplace=True)"
      ],
      "execution_count": 0,
      "outputs": []
    },
    {
      "cell_type": "code",
      "metadata": {
        "id": "RqLED4uez_ux",
        "colab_type": "code",
        "outputId": "4ecb38c4-ba20-4a9b-ae01-057ee5d3dc16",
        "colab": {
          "base_uri": "https://localhost:8080/",
          "height": 71
        }
      },
      "source": [
        "print(data.isnull().sum())"
      ],
      "execution_count": 8,
      "outputs": [
        {
          "output_type": "stream",
          "text": [
            "전    0\n",
            "후    1\n",
            "dtype: int64\n"
          ],
          "name": "stdout"
        }
      ]
    },
    {
      "cell_type": "code",
      "metadata": {
        "id": "ZmoRB8_O0DSa",
        "colab_type": "code",
        "outputId": "eb42bb8e-bc67-440d-eb1f-1fc40d6d402b",
        "colab": {
          "base_uri": "https://localhost:8080/",
          "height": 35
        }
      },
      "source": [
        "# Null 값을 가진 샘플 제거\n",
        "data.dropna(axis=0, inplace=True)\n",
        "print('전체 샘플수 :',(len(data)))"
      ],
      "execution_count": 9,
      "outputs": [
        {
          "output_type": "stream",
          "text": [
            "전체 샘플수 : 4916\n"
          ],
          "name": "stdout"
        }
      ]
    },
    {
      "cell_type": "code",
      "metadata": {
        "id": "XFzq8MwG0UiH",
        "colab_type": "code",
        "outputId": "2d152485-6598-45d8-f060-de810e85529d",
        "colab": {
          "base_uri": "https://localhost:8080/",
          "height": 681
        }
      },
      "source": [
        "# 길이 분포 출력\n",
        "ori_len = [len(s.split()) for s in data['전']]\n",
        "hand_len = [len(s.split()) for s in data['후']]\n",
        "\n",
        "print('원본의 최소 길이 : {}'.format(np.min(ori_len)))\n",
        "print('원본의 최대 길이 : {}'.format(np.max(ori_len)))\n",
        "print('원본의 평균 길이 : {}'.format(np.mean(ori_len)))\n",
        "print('수정본의 최소 길이 : {}'.format(np.min(hand_len)))\n",
        "print('수정본의 최대 길이 : {}'.format(np.max(hand_len)))\n",
        "print('수정본의 평균 길이 : {}'.format(np.mean(hand_len)))\n",
        "\n",
        "plt.title('HAND')\n",
        "plt.hist(hand_len, bins=40)\n",
        "plt.xlabel('length of samples')\n",
        "plt.ylabel('number of samples')\n",
        "plt.show()\n",
        "\n",
        "plt.title('ORI')\n",
        "plt.hist(ori_len, bins=40)\n",
        "plt.xlabel('length of samples')\n",
        "plt.ylabel('number of samples')\n",
        "plt.show()"
      ],
      "execution_count": 10,
      "outputs": [
        {
          "output_type": "stream",
          "text": [
            "원본의 최소 길이 : 1\n",
            "원본의 최대 길이 : 40\n",
            "원본의 평균 길이 : 5.132017900732302\n",
            "수정본의 최소 길이 : 1\n",
            "수정본의 최대 길이 : 11\n",
            "수정본의 평균 길이 : 3.3854759967453214\n"
          ],
          "name": "stdout"
        },
        {
          "output_type": "display_data",
          "data": {
            "image/png": "[encoded data removed]",
            "text/plain": [
              "<Figure size 432x288 with 1 Axes>"
            ]
          },
          "metadata": {
            "tags": [],
            "needs_background": "light"
          }
        },
        {
          "output_type": "display_data",
          "data": {
            "image/png": "[encoded data removed]",
            "text/plain": [
              "<Figure size 432x288 with 1 Axes>"
            ]
          },
          "metadata": {
            "tags": [],
            "needs_background": "light"
          }
        }
      ]
    },
    {
      "cell_type": "code",
      "metadata": {
        "id": "y_JaeQ-O02uY",
        "colab_type": "code",
        "colab": {}
      },
      "source": [
        "# 데이터를 분석한 결과를 토대로 패딩의 길이 정하기. 평균 길이보다 약간 크게 잡아주겠습니다.\n",
        "ori_max_len = 20\n",
        "hand_max_len = 10"
      ],
      "execution_count": 0,
      "outputs": []
    },
    {
      "cell_type": "code",
      "metadata": {
        "id": "wC5IiaiQ02nH",
        "colab_type": "code",
        "colab": {}
      },
      "source": [
        "def below_threshold_len(max_len, nested_list):\n",
        "  cnt = 0\n",
        "  for s in nested_list:\n",
        "    if(len(s.split()) <= max_len):\n",
        "        cnt = cnt + 1\n",
        "  print('전체 샘플 중 길이가 %s 이하인 샘플의 비율: %s'%(max_len, (cnt / len(nested_list))))"
      ],
      "execution_count": 0,
      "outputs": []
    },
    {
      "cell_type": "code",
      "metadata": {
        "id": "mT6czW8y1IkW",
        "colab_type": "code",
        "outputId": "093bc1c7-f035-4f3b-f60d-0b642e0ced88",
        "colab": {
          "base_uri": "https://localhost:8080/",
          "height": 35
        }
      },
      "source": [
        "below_threshold_len(ori_max_len, data['전'])"
      ],
      "execution_count": 13,
      "outputs": [
        {
          "output_type": "stream",
          "text": [
            "전체 샘플 중 길이가 20 이하인 샘플의 비율: 0.9961350691619203\n"
          ],
          "name": "stdout"
        }
      ]
    },
    {
      "cell_type": "code",
      "metadata": {
        "id": "1O0oUkeI1Kix",
        "colab_type": "code",
        "outputId": "7c58d96e-cb4d-4bda-e9ec-a7012e329c7f",
        "colab": {
          "base_uri": "https://localhost:8080/",
          "height": 35
        }
      },
      "source": [
        "below_threshold_len(hand_max_len, data['후'])"
      ],
      "execution_count": 14,
      "outputs": [
        {
          "output_type": "stream",
          "text": [
            "전체 샘플 중 길이가 10 이하인 샘플의 비율: 0.999593165174939\n"
          ],
          "name": "stdout"
        }
      ]
    },
    {
      "cell_type": "code",
      "metadata": {
        "id": "jiOkGE6x1Pgr",
        "colab_type": "code",
        "outputId": "1e598f37-e8c7-401d-afa5-2ca0fd9db0f5",
        "colab": {
          "base_uri": "https://localhost:8080/",
          "height": 35
        }
      },
      "source": [
        "# 정해준 최대 길이보다 큰 샘플들은 제거하겠습니다.\n",
        "data = data[data['전'].apply(lambda x: len(x.split()) <= ori_max_len)]\n",
        "data = data[data['후'].apply(lambda x: len(x.split()) <= hand_max_len)]\n",
        "print('전체 샘플수 :',(len(data)))"
      ],
      "execution_count": 15,
      "outputs": [
        {
          "output_type": "stream",
          "text": [
            "전체 샘플수 : 4895\n"
          ],
          "name": "stdout"
        }
      ]
    },
    {
      "cell_type": "code",
      "metadata": {
        "id": "YDjKkNBO1XkZ",
        "colab_type": "code",
        "outputId": "d8f999df-776a-4eed-ec9c-d6d656196f9c",
        "colab": {
          "base_uri": "https://localhost:8080/",
          "height": 204
        }
      },
      "source": [
        "data.head()"
      ],
      "execution_count": 16,
      "outputs": [
        {
          "output_type": "execute_result",
          "data": {
            "text/html": [
              "<div>\n",
              "<style scoped>\n",
              "    .dataframe tbody tr th:only-of-type {\n",
              "        vertical-align: middle;\n",
              "    }\n",
              "\n",
              "    .dataframe tbody tr th {\n",
              "        vertical-align: top;\n",
              "    }\n",
              "\n",
              "    .dataframe thead th {\n",
              "        text-align: right;\n",
              "    }\n",
              "</style>\n",
              "<table border=\"1\" class=\"dataframe\">\n",
              "  <thead>\n",
              "    <tr style=\"text-align: right;\">\n",
              "      <th></th>\n",
              "      <th>전</th>\n",
              "      <th>후</th>\n",
              "    </tr>\n",
              "  </thead>\n",
              "  <tbody>\n",
              "    <tr>\n",
              "      <th>0</th>\n",
              "      <td>CJ올리브영( ㈜ 이선신보집</td>\n",
              "      <td>CJ올리브영㈜ 인천신포점</td>\n",
              "    </tr>\n",
              "    <tr>\n",
              "      <th>1</th>\n",
              "      <td>인전광역시 중구 개항로 32 - 1</td>\n",
              "      <td>인천광역시 중구 개항로 32-1</td>\n",
              "    </tr>\n",
              "    <tr>\n",
              "      <th>2</th>\n",
              "      <td>5298501337 김희선 TEL : 032 - 765 - 5290</td>\n",
              "      <td>5298501337 김희선 TEL:032-765-5290</td>\n",
              "    </tr>\n",
              "    <tr>\n",
              "      <th>3</th>\n",
              "      <td>2020 -04 -26 19 : 39 :03 POS : 1001- 00161 김희선</td>\n",
              "      <td>2020-04-26 19:39:03 POS:1001-00161 김희선</td>\n",
              "    </tr>\n",
              "    <tr>\n",
              "      <th>4</th>\n",
              "      <td>고객센터 : 1577 - 4887 www .oliveyoung . co . kr</td>\n",
              "      <td>고객센터 : 1577-4887 www.oliveyoung.co.kr</td>\n",
              "    </tr>\n",
              "  </tbody>\n",
              "</table>\n",
              "</div>"
            ],
            "text/plain": [
              "                                                전                                       후\n",
              "0                                 CJ올리브영( ㈜ 이선신보집                           CJ올리브영㈜ 인천신포점\n",
              "1                             인전광역시 중구 개항로 32 - 1                       인천광역시 중구 개항로 32-1\n",
              "2           5298501337 김희선 TEL : 032 - 765 - 5290         5298501337 김희선 TEL:032-765-5290\n",
              "3  2020 -04 -26 19 : 39 :03 POS : 1001- 00161 김희선  2020-04-26 19:39:03 POS:1001-00161 김희선\n",
              "4    고객센터 : 1577 - 4887 www .oliveyoung . co . kr   고객센터 : 1577-4887 www.oliveyoung.co.kr"
            ]
          },
          "metadata": {
            "tags": []
          },
          "execution_count": 16
        }
      ]
    },
    {
      "cell_type": "code",
      "metadata": {
        "id": "uItW9hr51cDf",
        "colab_type": "code",
        "colab": {}
      },
      "source": [
        "# seq2seq 훈련을 위해서는 디코더의 예측 대상에 시작 토큰과 종료 토큰을 추가할 필요가 있습니다. \n",
        "# 시작 토큰은 sostoken, 종료 토큰은 eostoken이라 명명하고 앞, 뒤로 추가하겠습니다."
      ],
      "execution_count": 0,
      "outputs": []
    },
    {
      "cell_type": "code",
      "metadata": {
        "id": "nkPndJn71hsz",
        "colab_type": "code",
        "outputId": "f73444ed-2782-4921-8007-646c8ccfeed1",
        "colab": {
          "base_uri": "https://localhost:8080/",
          "height": 204
        }
      },
      "source": [
        "# hand 데이터에는 시작 토큰과 종료 토큰을 추가한다.\n",
        "data['후'] = data['후'].apply(lambda x : 'sostoken '+ x + ' eostoken')\n",
        "data.head()"
      ],
      "execution_count": 18,
      "outputs": [
        {
          "output_type": "execute_result",
          "data": {
            "text/html": [
              "<div>\n",
              "<style scoped>\n",
              "    .dataframe tbody tr th:only-of-type {\n",
              "        vertical-align: middle;\n",
              "    }\n",
              "\n",
              "    .dataframe tbody tr th {\n",
              "        vertical-align: top;\n",
              "    }\n",
              "\n",
              "    .dataframe thead th {\n",
              "        text-align: right;\n",
              "    }\n",
              "</style>\n",
              "<table border=\"1\" class=\"dataframe\">\n",
              "  <thead>\n",
              "    <tr style=\"text-align: right;\">\n",
              "      <th></th>\n",
              "      <th>전</th>\n",
              "      <th>후</th>\n",
              "    </tr>\n",
              "  </thead>\n",
              "  <tbody>\n",
              "    <tr>\n",
              "      <th>0</th>\n",
              "      <td>CJ올리브영( ㈜ 이선신보집</td>\n",
              "      <td>sostoken CJ올리브영㈜ 인천신포점 eostoken</td>\n",
              "    </tr>\n",
              "    <tr>\n",
              "      <th>1</th>\n",
              "      <td>인전광역시 중구 개항로 32 - 1</td>\n",
              "      <td>sostoken 인천광역시 중구 개항로 32-1 eostoken</td>\n",
              "    </tr>\n",
              "    <tr>\n",
              "      <th>2</th>\n",
              "      <td>5298501337 김희선 TEL : 032 - 765 - 5290</td>\n",
              "      <td>sostoken 5298501337 김희선 TEL:032-765-5290 eostoken</td>\n",
              "    </tr>\n",
              "    <tr>\n",
              "      <th>3</th>\n",
              "      <td>2020 -04 -26 19 : 39 :03 POS : 1001- 00161 김희선</td>\n",
              "      <td>sostoken 2020-04-26 19:39:03 POS:1001-00161 김희...</td>\n",
              "    </tr>\n",
              "    <tr>\n",
              "      <th>4</th>\n",
              "      <td>고객센터 : 1577 - 4887 www .oliveyoung . co . kr</td>\n",
              "      <td>sostoken 고객센터 : 1577-4887 www.oliveyoung.co.kr...</td>\n",
              "    </tr>\n",
              "  </tbody>\n",
              "</table>\n",
              "</div>"
            ],
            "text/plain": [
              "                                                전                                                  후\n",
              "0                                 CJ올리브영( ㈜ 이선신보집                    sostoken CJ올리브영㈜ 인천신포점 eostoken\n",
              "1                             인전광역시 중구 개항로 32 - 1                sostoken 인천광역시 중구 개항로 32-1 eostoken\n",
              "2           5298501337 김희선 TEL : 032 - 765 - 5290  sostoken 5298501337 김희선 TEL:032-765-5290 eostoken\n",
              "3  2020 -04 -26 19 : 39 :03 POS : 1001- 00161 김희선  sostoken 2020-04-26 19:39:03 POS:1001-00161 김희...\n",
              "4    고객센터 : 1577 - 4887 www .oliveyoung . co . kr  sostoken 고객센터 : 1577-4887 www.oliveyoung.co.kr..."
            ]
          },
          "metadata": {
            "tags": []
          },
          "execution_count": 18
        }
      ]
    },
    {
      "cell_type": "code",
      "metadata": {
        "id": "WOJe5yCH1mkb",
        "colab_type": "code",
        "colab": {}
      },
      "source": [
        "# 이를 각각 Text_data와 Summary_data로 저장하겠습니다.\n",
        "ori_data = list(data['전'])\n",
        "hand_data = list(data['후'])"
      ],
      "execution_count": 0,
      "outputs": []
    },
    {
      "cell_type": "markdown",
      "metadata": {
        "id": "4YA6Zm9d14dV",
        "colab_type": "text"
      },
      "source": [
        "# 3) 데이터의 분리"
      ]
    },
    {
      "cell_type": "code",
      "metadata": {
        "id": "rshY2Uy41tZu",
        "colab_type": "code",
        "outputId": "d5701c5c-4f1f-4979-ac8a-e5f416415d18",
        "colab": {
          "base_uri": "https://localhost:8080/",
          "height": 89
        }
      },
      "source": [
        "# 훈련 데이터와 테스트 데이터를 분리해봅시다. 데이터가 워낙 적어서 검증=테스트 라고 생각해주시면 되겠습니다.\n",
        "from sklearn.model_selection import train_test_split\n",
        "X_train, X_test, y_train, y_test = train_test_split(ori_data, hand_data, test_size=0.2, random_state=0, shuffle=True)\n",
        "\n",
        "print('훈련 데이터의 개수 :', len(X_train))\n",
        "print('훈련 레이블의 개수 :',len(y_train))\n",
        "print('테스트 데이터의 개수 :',len(X_test))\n",
        "print('테스트 레이블의 개수 :',len(y_test))"
      ],
      "execution_count": 20,
      "outputs": [
        {
          "output_type": "stream",
          "text": [
            "훈련 데이터의 개수 : 3916\n",
            "훈련 레이블의 개수 : 3916\n",
            "테스트 데이터의 개수 : 979\n",
            "테스트 레이블의 개수 : 979\n"
          ],
          "name": "stdout"
        }
      ]
    },
    {
      "cell_type": "markdown",
      "metadata": {
        "id": "wreUG8Fi2IUW",
        "colab_type": "text"
      },
      "source": [
        "# 4) 정수 인코딩"
      ]
    },
    {
      "cell_type": "code",
      "metadata": {
        "id": "vtgozDyy2HtP",
        "colab_type": "code",
        "colab": {}
      },
      "source": [
        "'''이제 기계가 텍스트를 숫자로 처리할 수 있도록 훈련 데이터와 테스트 데이터에 정수 인코딩을 수행해야 합니다. \n",
        "훈련 데이터에 대해서 단어 집합(vocaburary)을 만들어봅시다. 우선, 원문에 해당되는 X_train에 대해서 수행합니다.'''\n",
        "src_tokenizer = Tokenizer()\n",
        "src_tokenizer.fit_on_texts(X_train)"
      ],
      "execution_count": 0,
      "outputs": []
    },
    {
      "cell_type": "markdown",
      "metadata": {
        "id": "OU0XedOa2UID",
        "colab_type": "text"
      },
      "source": [
        "이제 단어 집합이 생성되는 동시에 각 단어에 고유한 정수가 부여되었습니다. 이는 src_tokenizer.word_index에 저장되어져 있습니다. 여기서는 빈도수가 낮은 단어들은 자연어 처리에서 배제하고자 합니다. 등장 빈도수가 7회 미만인 단어들이 이 데이터에서 얼만큼의 비중을 차지하는지 확인해봅시다."
      ]
    },
    {
      "cell_type": "code",
      "metadata": {
        "id": "uBCxJRFJ1_qe",
        "colab_type": "code",
        "outputId": "d834b5ee-dc72-4285-e5ab-0aca1dc29bc1",
        "colab": {
          "base_uri": "https://localhost:8080/",
          "height": 107
        }
      },
      "source": [
        "threshold = 2\n",
        "total_cnt = len(src_tokenizer.word_index) # 단어의 수\n",
        "rare_cnt = 0 # 등장 빈도수가 threshold보다 작은 단어의 개수를 카운트\n",
        "total_freq = 0 # 훈련 데이터의 전체 단어 빈도수 총 합\n",
        "rare_freq = 0 # 등장 빈도수가 threshold보다 작은 단어의 등장 빈도수의 총 합\n",
        "\n",
        "# 단어와 빈도수의 쌍(pair)을 key와 value로 받는다.\n",
        "for key, value in src_tokenizer.word_counts.items():\n",
        "    total_freq = total_freq + value\n",
        "\n",
        "    # 단어의 등장 빈도수가 threshold보다 작으면\n",
        "    if(value < threshold):\n",
        "        rare_cnt = rare_cnt + 1\n",
        "        rare_freq = rare_freq + value\n",
        "\n",
        "print('단어 집합(vocabulary)의 크기 :',total_cnt)\n",
        "print('등장 빈도가 %s번 이하인 희귀 단어의 수: %s'%(threshold - 1, rare_cnt))\n",
        "print('단어 집합에서 희귀 단어를 제외시킬 경우의 단어 집합의 크기 %s'%(total_cnt - rare_cnt))\n",
        "print(\"단어 집합에서 희귀 단어의 비율:\", (rare_cnt / total_cnt)*100)\n",
        "print(\"전체 등장 빈도에서 희귀 단어 등장 빈도 비율:\", (rare_freq / total_freq)*100)"
      ],
      "execution_count": 22,
      "outputs": [
        {
          "output_type": "stream",
          "text": [
            "단어 집합(vocabulary)의 크기 : 5443\n",
            "등장 빈도가 1번 이하인 희귀 단어의 수: 4020\n",
            "단어 집합에서 희귀 단어를 제외시킬 경우의 단어 집합의 크기 1423\n",
            "단어 집합에서 희귀 단어의 비율: 73.85632923020393\n",
            "전체 등장 빈도에서 희귀 단어 등장 빈도 비율: 24.00143292136844\n"
          ],
          "name": "stdout"
        }
      ]
    },
    {
      "cell_type": "markdown",
      "metadata": {
        "id": "jdAxKt2b2lES",
        "colab_type": "text"
      },
      "source": [
        "등장 빈도가 threshold 값인 2회 미만. 즉, 1회 이하인 단어들은 단어 집합에서 무려 70% 이상을 차지합니다. 하지만, 실제로 훈련 데이터에서 등장 빈도로 차지하는 비중은 24.39%입니다. 다른 데이터에서는 2~3% 정도일텐데 영수증 OCR 원시 데이터의 특수성이 드러나는 부분입니다. 전체 단어에서 24%의 영향이나 배제해버리는건 무리가 있겠다 싶지만, 원본 데이터가 워낙 노이즈가 많으니 24%의 쓰레기라고 생각하고 배제하도록 하곘습니다.\n",
        "\n",
        "전체 크기와 비슷한 값으로 단어 집합의 크기를 1400으로 제한하겠습니다"
      ]
    },
    {
      "cell_type": "code",
      "metadata": {
        "id": "OZgknSEA24_a",
        "colab_type": "code",
        "colab": {}
      },
      "source": [
        "src_vocab = 1400\n",
        "src_tokenizer = Tokenizer(num_words = src_vocab) \n",
        "src_tokenizer.fit_on_texts(X_train)\n",
        "\n",
        "# 텍스트 시퀀스를 정수 시퀀스로 변환\n",
        "X_train = src_tokenizer.texts_to_sequences(X_train) \n",
        "X_test = src_tokenizer.texts_to_sequences(X_test)"
      ],
      "execution_count": 0,
      "outputs": []
    },
    {
      "cell_type": "code",
      "metadata": {
        "id": "mLYr4TnT3GKj",
        "colab_type": "code",
        "outputId": "cd259e24-4771-48d9-decb-f39b377e5d0c",
        "colab": {
          "base_uri": "https://localhost:8080/",
          "height": 35
        }
      },
      "source": [
        "# 정수 인코딩이 정상 진행되었는지 훈련 데이터에 대해서 5개의 샘플을 출력해봅시다.\n",
        "print(X_train[:5])"
      ],
      "execution_count": 24,
      "outputs": [
        {
          "output_type": "stream",
          "text": [
            "[[8], [7, 3, 59, 1, 3, 59], [236], [81, 1, 1], [21, 237]]\n"
          ],
          "name": "stdout"
        }
      ]
    },
    {
      "cell_type": "code",
      "metadata": {
        "id": "w1Of8vLW3Hdl",
        "colab_type": "code",
        "colab": {}
      },
      "source": [
        "# 이제 레이블에 해당하는 정답(hand) 데이터에 대해서도 수행하겠습니다."
      ],
      "execution_count": 0,
      "outputs": []
    },
    {
      "cell_type": "code",
      "metadata": {
        "id": "DBdIC3aX3LvQ",
        "colab_type": "code",
        "colab": {}
      },
      "source": [
        "tar_tokenizer = Tokenizer()\n",
        "tar_tokenizer.fit_on_texts(y_train)"
      ],
      "execution_count": 0,
      "outputs": []
    },
    {
      "cell_type": "code",
      "metadata": {
        "id": "TOEdAuzF3MgU",
        "colab_type": "code",
        "outputId": "cd733d9c-08a7-4529-fa33-1a9fe4efdfc0",
        "colab": {
          "base_uri": "https://localhost:8080/",
          "height": 107
        }
      },
      "source": [
        "threshold = 2\n",
        "total_cnt = len(tar_tokenizer.word_index) # 단어의 수\n",
        "rare_cnt = 0 # 등장 빈도수가 threshold보다 작은 단어의 개수를 카운트\n",
        "total_freq = 0 # 훈련 데이터의 전체 단어 빈도수 총 합\n",
        "rare_freq = 0 # 등장 빈도수가 threshold보다 작은 단어의 등장 빈도수의 총 합\n",
        "\n",
        "# 단어와 빈도수의 쌍(pair)을 key와 value로 받는다.\n",
        "for key, value in tar_tokenizer.word_counts.items():\n",
        "    total_freq = total_freq + value\n",
        "\n",
        "    # 단어의 등장 빈도수가 threshold보다 작으면\n",
        "    if(value < threshold):\n",
        "        rare_cnt = rare_cnt + 1\n",
        "        rare_freq = rare_freq + value\n",
        "\n",
        "print('단어 집합(vocabulary)의 크기 :',total_cnt)\n",
        "print('등장 빈도가 %s번 이하인 희귀 단어의 수: %s'%(threshold - 1, rare_cnt))\n",
        "print('단어 집합에서 희귀 단어를 제외시킬 경우의 단어 집합의 크기 %s'%(total_cnt - rare_cnt))\n",
        "print(\"단어 집합에서 희귀 단어의 비율:\", (rare_cnt / total_cnt)*100)\n",
        "print(\"전체 등장 빈도에서 희귀 단어 등장 빈도 비율:\", (rare_freq / total_freq)*100)"
      ],
      "execution_count": 27,
      "outputs": [
        {
          "output_type": "stream",
          "text": [
            "단어 집합(vocabulary)의 크기 : 4394\n",
            "등장 빈도가 1번 이하인 희귀 단어의 수: 2943\n",
            "단어 집합에서 희귀 단어를 제외시킬 경우의 단어 집합의 크기 1451\n",
            "단어 집합에서 희귀 단어의 비율: 66.97769685935367\n",
            "전체 등장 빈도에서 희귀 단어 등장 빈도 비율: 11.872201379644197\n"
          ],
          "name": "stdout"
        }
      ]
    },
    {
      "cell_type": "code",
      "metadata": {
        "id": "6h-fT2s93U_7",
        "colab_type": "code",
        "colab": {}
      },
      "source": [
        "tar_vocab = 1400\n",
        "tar_tokenizer = Tokenizer(num_words = tar_vocab) \n",
        "tar_tokenizer.fit_on_texts(y_train)\n",
        "\n",
        "# 텍스트 시퀀스를 정수 시퀀스로 변환\n",
        "y_train = tar_tokenizer.texts_to_sequences(y_train) \n",
        "y_test = tar_tokenizer.texts_to_sequences(y_test) "
      ],
      "execution_count": 0,
      "outputs": []
    },
    {
      "cell_type": "code",
      "metadata": {
        "id": "sjb3VuD83z58",
        "colab_type": "code",
        "outputId": "98f04407-a4e7-4069-f7fa-0268eddf8758",
        "colab": {
          "base_uri": "https://localhost:8080/",
          "height": 35
        }
      },
      "source": [
        "print(y_train[:5])"
      ],
      "execution_count": 29,
      "outputs": [
        {
          "output_type": "stream",
          "text": [
            "[[1, 90, 11, 2], [1, 9, 4, 56, 3, 4, 56, 2], [1, 939, 439, 284, 2], [1, 58, 940, 3, 2], [1, 40, 41, 156, 94, 2]]\n"
          ],
          "name": "stdout"
        }
      ]
    },
    {
      "cell_type": "markdown",
      "metadata": {
        "id": "K9z-rV9J311i",
        "colab_type": "text"
      },
      "source": [
        "# 5) 빈 샘플(empty samples) 제거"
      ]
    },
    {
      "cell_type": "markdown",
      "metadata": {
        "id": "p6-i4TwF34Wy",
        "colab_type": "text"
      },
      "source": [
        "전체 데이터에서 빈도수가 낮은 단어가 삭제되었다는 것은 빈도수가 낮은 단어만으로 구성되었던 샘플들은 이제 빈(empty) 샘플이 되었다는 것을 의미합니다. 길이가 0이 된 샘플들의 인덱스를 받아옵시다. 주의할 점은 요약문에는 sostoken과 eostoken이 추가된 상태이고, 이 두 토큰은 모든 샘플에서 등장하므로 빈도수가 샘플수와 동일하여 단어 집합 제한에도 삭제 되지 않습니다. 그래서 이제 길이가 0이 된 정답문의 실질적 길이는 2입니다."
      ]
    },
    {
      "cell_type": "code",
      "metadata": {
        "id": "ncXtf11H30el",
        "colab_type": "code",
        "colab": {}
      },
      "source": [
        "drop_train = [index for index, sentence in enumerate(y_train) if len(sentence) == 2]\n",
        "drop_test = [index for index, sentence in enumerate(y_test) if len(sentence) == 2]"
      ],
      "execution_count": 0,
      "outputs": []
    },
    {
      "cell_type": "code",
      "metadata": {
        "id": "TbA4uTEV4DMq",
        "colab_type": "code",
        "outputId": "592036c4-8975-4f22-c981-70aab6897946",
        "colab": {
          "base_uri": "https://localhost:8080/",
          "height": 35
        }
      },
      "source": [
        "'''훈련 데이터와 테스트 데이터에 대해서 요약문의 길이가 2인 경우의 인덱스를 각각 drop_train과 drop_test에 저장하였습니다. 삭제 전의 훈련 데이터와 테스트 데이터의 개수를 출력해봅시다.'''"
      ],
      "execution_count": 31,
      "outputs": [
        {
          "output_type": "execute_result",
          "data": {
            "text/plain": [
              "'훈련 데이터와 테스트 데이터에 대해서 요약문의 길이가 2인 경우의 인덱스를 각각 drop_train과 drop_test에 저장하였습니다. 삭제 전의 훈련 데이터와 테스트 데이터의 개수를 출력해봅시다.'"
            ]
          },
          "metadata": {
            "tags": []
          },
          "execution_count": 31
        }
      ]
    },
    {
      "cell_type": "code",
      "metadata": {
        "id": "kr3xM2ce4A9K",
        "colab_type": "code",
        "outputId": "16f66566-67ce-485f-fd5a-2b8cbee6f4c3",
        "colab": {
          "base_uri": "https://localhost:8080/",
          "height": 89
        }
      },
      "source": [
        "# # 삭제 전의 개수는 다음과 같습니다.\n",
        "print('훈련 데이터의 개수 :', len(X_train))\n",
        "print('훈련 레이블의 개수 :',len(y_train))\n",
        "print('테스트 데이터의 개수 :',len(X_test))\n",
        "print('테스트 레이블의 개수 :',len(y_test))"
      ],
      "execution_count": 32,
      "outputs": [
        {
          "output_type": "stream",
          "text": [
            "훈련 데이터의 개수 : 3916\n",
            "훈련 레이블의 개수 : 3916\n",
            "테스트 데이터의 개수 : 979\n",
            "테스트 레이블의 개수 : 979\n"
          ],
          "name": "stdout"
        }
      ]
    },
    {
      "cell_type": "code",
      "metadata": {
        "id": "3xURK1Ix4PzV",
        "colab_type": "code",
        "outputId": "cb582d02-bc8e-4e69-f3c9-ef00feb2439c",
        "colab": {
          "base_uri": "https://localhost:8080/",
          "height": 89
        }
      },
      "source": [
        "# 삭제 후의 개수는 다음과 같습니다.\n",
        "X_train = np.delete(X_train, drop_train, axis=0)\n",
        "y_train = np.delete(y_train, drop_train, axis=0)\n",
        "X_test = np.delete(X_test, drop_test, axis=0)\n",
        "y_test = np.delete(y_test, drop_test, axis=0)\n",
        "\n",
        "print('훈련 데이터의 개수 :', len(X_train))\n",
        "print('훈련 레이블의 개수 :',len(y_train))\n",
        "print('테스트 데이터의 개수 :',len(X_test))\n",
        "print('테스트 레이블의 개수 :',len(y_test))"
      ],
      "execution_count": 33,
      "outputs": [
        {
          "output_type": "stream",
          "text": [
            "훈련 데이터의 개수 : 3709\n",
            "훈련 레이블의 개수 : 3709\n",
            "테스트 데이터의 개수 : 901\n",
            "테스트 레이블의 개수 : 901\n"
          ],
          "name": "stdout"
        }
      ]
    },
    {
      "cell_type": "markdown",
      "metadata": {
        "id": "ASCWt8gb4XRc",
        "colab_type": "text"
      },
      "source": [
        "# 6) 패딩하기"
      ]
    },
    {
      "cell_type": "code",
      "metadata": {
        "id": "vSmHxbdN4FMb",
        "colab_type": "code",
        "colab": {}
      },
      "source": [
        "# 훈련 데이터와 테스트 데이터에 대해서 패딩 작업을 수행합니다. 이미 앞서 정해둔 최대 길이를 넘는 샘플들은 제외했기 때문에 따로 길이 분포를 재확인하지는 않겠습니다.\n",
        "X_train = pad_sequences(X_train, maxlen = ori_max_len, padding='post')\n",
        "X_test = pad_sequences(X_test, maxlen = ori_max_len, padding='post')\n",
        "y_train = pad_sequences(y_train, maxlen = hand_max_len, padding='post')\n",
        "y_test = pad_sequences(y_test, maxlen = hand_max_len, padding='post')"
      ],
      "execution_count": 0,
      "outputs": []
    },
    {
      "cell_type": "markdown",
      "metadata": {
        "id": "CLHievNa4ngn",
        "colab_type": "text"
      },
      "source": [
        "# 3. seq2seq + attention으로 요약 모델 설계 및 훈련시키기"
      ]
    },
    {
      "cell_type": "code",
      "metadata": {
        "id": "q33j1f7Q4lxA",
        "colab_type": "code",
        "colab": {}
      },
      "source": [
        "from tensorflow.keras.layers import Input, LSTM, Embedding, Dense, Concatenate\n",
        "from tensorflow.keras.models import Model\n",
        "from tensorflow.keras.callbacks import EarlyStopping, ModelCheckpoint"
      ],
      "execution_count": 0,
      "outputs": []
    },
    {
      "cell_type": "markdown",
      "metadata": {
        "id": "W2_0u7Up4q-6",
        "colab_type": "text"
      },
      "source": [
        "## 인코더를 설계해보겠습니다. \n",
        "인코더는 LSTM 층을 3개 쌓습니다."
      ]
    },
    {
      "cell_type": "code",
      "metadata": {
        "id": "8MPIldcKTx7o",
        "colab_type": "code",
        "colab": {}
      },
      "source": [
        "import os\n",
        "os.environ[\"TF_FORCE_GPU_ALLOW_GROWTH\"]=\"true\""
      ],
      "execution_count": 0,
      "outputs": []
    },
    {
      "cell_type": "code",
      "metadata": {
        "id": "rjDyVild4pqi",
        "colab_type": "code",
        "outputId": "49bc3913-3cc2-462d-c436-a14976691d87",
        "colab": {
          "base_uri": "https://localhost:8080/",
          "height": 71
        }
      },
      "source": [
        "embedding_dim = 128\n",
        "hidden_size = 256\n",
        "\n",
        "# 인코더\n",
        "encoder_inputs = Input(shape=(ori_max_len,))\n",
        "\n",
        "# 인코더의 임베딩 층\n",
        "enc_emb = Embedding(src_vocab, embedding_dim)(encoder_inputs)\n",
        "\n",
        "# 인코더의 LSTM 1\n",
        "encoder_lstm1 = LSTM(hidden_size, return_sequences=True, return_state=True ,dropout = 0.4, recurrent_dropout = 0.4)\n",
        "encoder_output1, state_h1, state_c1 = encoder_lstm1(enc_emb)\n",
        "\n",
        "# 인코더의 LSTM 2\n",
        "encoder_lstm2 = LSTM(hidden_size, return_sequences=True, return_state=True, dropout=0.4, recurrent_dropout=0.4)\n",
        "encoder_output2, state_h2, state_c2 = encoder_lstm2(encoder_output1)\n",
        "\n",
        "# 인코더의 LSTM 3\n",
        "encoder_lstm3 = LSTM(hidden_size, return_state=True, return_sequences=True, dropout=0.4, recurrent_dropout=0.4)\n",
        "encoder_outputs, state_h, state_c= encoder_lstm3(encoder_output2)"
      ],
      "execution_count": 37,
      "outputs": [
        {
          "output_type": "stream",
          "text": [
            "WARNING:tensorflow:Layer lstm will not use cuDNN kernel since it doesn't meet the cuDNN kernel criteria. It will use generic GPU kernel as fallback when running on GPU\n",
            "WARNING:tensorflow:Layer lstm_1 will not use cuDNN kernel since it doesn't meet the cuDNN kernel criteria. It will use generic GPU kernel as fallback when running on GPU\n",
            "WARNING:tensorflow:Layer lstm_2 will not use cuDNN kernel since it doesn't meet the cuDNN kernel criteria. It will use generic GPU kernel as fallback when running on GPU\n"
          ],
          "name": "stdout"
        }
      ]
    },
    {
      "cell_type": "markdown",
      "metadata": {
        "id": "PRGmZo2J4zXh",
        "colab_type": "text"
      },
      "source": [
        "## 디코더를 설계해보겠습니다. \n",
        "단, 출력층은 제외하고 설계하겠습니다. 디코더의 설계는 인코더와 사실상 동일하지만 초기 상태(initial_state)를 인코더의 상태로 주어야 하는 것에 주의합시다."
      ]
    },
    {
      "cell_type": "code",
      "metadata": {
        "id": "ImJExuHu4tnl",
        "colab_type": "code",
        "outputId": "d342b252-7770-43d6-f0a5-35793497ddb4",
        "colab": {
          "base_uri": "https://localhost:8080/",
          "height": 35
        }
      },
      "source": [
        "# 디코더\n",
        "decoder_inputs = Input(shape=(None,))\n",
        "\n",
        "# 디코더의 임베딩 층\n",
        "dec_emb = Embedding(tar_vocab, embedding_dim)(decoder_inputs)\n",
        "\n",
        "# 디코더의 LSTM\n",
        "decoder_lstm = LSTM(hidden_size, return_sequences = True, return_state = True, dropout = 0.4, recurrent_dropout=0.2)\n",
        "decoder_outputs, _, _ = decoder_lstm(dec_emb, initial_state = [state_h, state_c])"
      ],
      "execution_count": 38,
      "outputs": [
        {
          "output_type": "stream",
          "text": [
            "WARNING:tensorflow:Layer lstm_3 will not use cuDNN kernel since it doesn't meet the cuDNN kernel criteria. It will use generic GPU kernel as fallback when running on GPU\n"
          ],
          "name": "stdout"
        }
      ]
    },
    {
      "cell_type": "markdown",
      "metadata": {
        "id": "TAyApKO748bU",
        "colab_type": "text"
      },
      "source": [
        "이번 챕터에서는 어텐션 메커니즘을 사용할 예정이므로 위에서 기존에 seq2seq에서 설계한 출력층을 사용하지 않고, 어텐션 메커니즘이 결합된 새로운 출력층을 설계해보겠습니다. 어텐션 함수를 직접 작성하지 않고 이미 깃허브에 공개된 함수를 사용할 것이므로 아래의 코드를 통해 attention.py 파일을 다운로드하고, AttentionLayer를 임포트합니다."
      ]
    },
    {
      "cell_type": "code",
      "metadata": {
        "id": "yfGWGC0T45Ww",
        "colab_type": "code",
        "colab": {}
      },
      "source": [
        "import urllib.request\n",
        "urllib.request.urlretrieve(\"https://raw.githubusercontent.com/thushv89/attention_keras/master/layers/attention.py\", filename=\"attention.py\")\n",
        "from attention import AttentionLayer"
      ],
      "execution_count": 0,
      "outputs": []
    },
    {
      "cell_type": "markdown",
      "metadata": {
        "id": "Bk26RORv5CZ9",
        "colab_type": "text"
      },
      "source": [
        "## 어텐션 메커니즘\n",
        "을 이용해 디코더의 출력층을 새롭게 설계합니다."
      ]
    },
    {
      "cell_type": "code",
      "metadata": {
        "id": "Y7uItYR75Awv",
        "colab_type": "code",
        "outputId": "a7cdecd4-bb90-4893-88b2-fb08dc24f3c0",
        "colab": {
          "base_uri": "https://localhost:8080/",
          "height": 629
        }
      },
      "source": [
        "# 어텐션 층(어텐션 함수)\n",
        "attn_layer = AttentionLayer(name='attention_layer')\n",
        "attn_out, attn_states = attn_layer([encoder_outputs, decoder_outputs])\n",
        "\n",
        "# 어텐션의 결과와 디코더의 hidden state들을 연결\n",
        "decoder_concat_input = Concatenate(axis = -1, name='concat_layer')([decoder_outputs, attn_out])\n",
        "\n",
        "# 디코더의 출력층\n",
        "#decoder_softmax_layer = Dense(tar_vocab, activation='softmax')\n",
        "decoder_softmax_layer = Dense(tar_vocab, activation='softmax')\n",
        "decoder_softmax_outputs = decoder_softmax_layer(decoder_concat_input)\n",
        "\n",
        "# 모델 정의\n",
        "model = Model([encoder_inputs, decoder_inputs], decoder_softmax_outputs)\n",
        "model.summary()"
      ],
      "execution_count": 61,
      "outputs": [
        {
          "output_type": "stream",
          "text": [
            "Model: \"model_3\"\n",
            "__________________________________________________________________________________________________\n",
            "Layer (type)                    Output Shape         Param #     Connected to                     \n",
            "==================================================================================================\n",
            "input_1 (InputLayer)            [(None, 20)]         0                                            \n",
            "__________________________________________________________________________________________________\n",
            "embedding (Embedding)           (None, 20, 128)      179200      input_1[0][0]                    \n",
            "__________________________________________________________________________________________________\n",
            "lstm (LSTM)                     [(None, 20, 256), (N 394240      embedding[0][0]                  \n",
            "__________________________________________________________________________________________________\n",
            "input_2 (InputLayer)            [(None, None)]       0                                            \n",
            "__________________________________________________________________________________________________\n",
            "lstm_1 (LSTM)                   [(None, 20, 256), (N 525312      lstm[0][0]                       \n",
            "__________________________________________________________________________________________________\n",
            "embedding_1 (Embedding)         (None, None, 128)    179200      input_2[0][0]                    \n",
            "__________________________________________________________________________________________________\n",
            "lstm_2 (LSTM)                   [(None, 20, 256), (N 525312      lstm_1[0][0]                     \n",
            "__________________________________________________________________________________________________\n",
            "lstm_3 (LSTM)                   [(None, None, 256),  394240      embedding_1[0][0]                \n",
            "                                                                 lstm_2[0][1]                     \n",
            "                                                                 lstm_2[0][2]                     \n",
            "__________________________________________________________________________________________________\n",
            "attention_layer (AttentionLayer ((None, None, 256),  131328      lstm_2[0][0]                     \n",
            "                                                                 lstm_3[0][0]                     \n",
            "__________________________________________________________________________________________________\n",
            "concat_layer (Concatenate)      (None, None, 512)    0           lstm_3[0][0]                     \n",
            "                                                                 attention_layer[0][0]            \n",
            "__________________________________________________________________________________________________\n",
            "dense_2 (Dense)                 (None, None, 1400)   718200      concat_layer[0][0]               \n",
            "==================================================================================================\n",
            "Total params: 3,047,032\n",
            "Trainable params: 3,047,032\n",
            "Non-trainable params: 0\n",
            "__________________________________________________________________________________________________\n"
          ],
          "name": "stdout"
        }
      ]
    },
    {
      "cell_type": "code",
      "metadata": {
        "id": "LzKf1XZM5F_3",
        "colab_type": "code",
        "colab": {}
      },
      "source": [
        "# 총 3,047,032개의 파라미터를 가진 모델이 설계됩니다. 이제 모델을 컴파일합니다.\n",
        "model.compile(optimizer='rmsprop', loss='sparse_categorical_crossentropy')"
      ],
      "execution_count": 0,
      "outputs": []
    },
    {
      "cell_type": "code",
      "metadata": {
        "id": "-Zd0PliH5N8B",
        "colab_type": "code",
        "outputId": "a2d78222-c8c6-4bce-decd-9f4a76887512",
        "colab": {
          "base_uri": "https://localhost:8080/",
          "height": 1000
        }
      },
      "source": [
        "# 조기 종료 조건을 설정하고 모델을 학습시킵니다. 인자들에 자세한 설명은 seq2seq로 영수증 맞춤법 해결하기.ipynb를 보시면 기록되어있습니다.\n",
        "es = EarlyStopping(monitor='val_loss', mode='min', verbose=1, patience = 10)\n",
        "history = model.fit([X_train, y_train[:,:-1]], y_train.reshape(y_train.shape[0], y_train.shape[1], 1)[:,1:],\n",
        "                    epochs=100, callbacks=[es], batch_size = 32, validation_data=([X_test, y_test[:,:-1]], y_test.reshape(y_test.shape[0], y_test.shape[1], 1)[:,1:]))"
      ],
      "execution_count": 75,
      "outputs": [
        {
          "output_type": "stream",
          "text": [
            "Epoch 1/100\n",
            "116/116 [==============================] - 33s 282ms/step - loss: 3.0571 - val_loss: 2.3579\n",
            "Epoch 2/100\n",
            "116/116 [==============================] - 33s 288ms/step - loss: 2.5148 - val_loss: 2.1695\n",
            "Epoch 3/100\n",
            "116/116 [==============================] - 32s 278ms/step - loss: 2.3128 - val_loss: 2.0259\n",
            "Epoch 4/100\n",
            "116/116 [==============================] - 32s 279ms/step - loss: 2.1450 - val_loss: 1.9037\n",
            "Epoch 5/100\n",
            "116/116 [==============================] - 32s 274ms/step - loss: 2.0040 - val_loss: 1.8241\n",
            "Epoch 6/100\n",
            "116/116 [==============================] - 31s 270ms/step - loss: 1.8696 - val_loss: 1.7235\n",
            "Epoch 7/100\n",
            "116/116 [==============================] - 31s 266ms/step - loss: 1.7445 - val_loss: 1.6456\n",
            "Epoch 8/100\n",
            "116/116 [==============================] - 31s 270ms/step - loss: 1.6330 - val_loss: 1.5600\n",
            "Epoch 9/100\n",
            "116/116 [==============================] - 31s 268ms/step - loss: 1.5280 - val_loss: 1.5130\n",
            "Epoch 10/100\n",
            "116/116 [==============================] - 32s 272ms/step - loss: 1.4358 - val_loss: 1.4648\n",
            "Epoch 11/100\n",
            "116/116 [==============================] - 30s 261ms/step - loss: 1.3645 - val_loss: 1.4089\n",
            "Epoch 12/100\n",
            "116/116 [==============================] - 31s 270ms/step - loss: 1.2885 - val_loss: 1.3678\n",
            "Epoch 13/100\n",
            "116/116 [==============================] - 31s 271ms/step - loss: 1.2327 - val_loss: 1.3424\n",
            "Epoch 14/100\n",
            "116/116 [==============================] - 32s 272ms/step - loss: 1.1764 - val_loss: 1.3072\n",
            "Epoch 15/100\n",
            "116/116 [==============================] - 31s 270ms/step - loss: 1.1172 - val_loss: 1.2926\n",
            "Epoch 16/100\n",
            "116/116 [==============================] - 31s 264ms/step - loss: 1.0698 - val_loss: 1.2651\n",
            "Epoch 17/100\n",
            "116/116 [==============================] - 31s 267ms/step - loss: 1.0300 - val_loss: 1.2512\n",
            "Epoch 18/100\n",
            "116/116 [==============================] - 32s 273ms/step - loss: 0.9826 - val_loss: 1.2371\n",
            "Epoch 19/100\n",
            "116/116 [==============================] - 32s 278ms/step - loss: 0.9468 - val_loss: 1.2144\n",
            "Epoch 20/100\n",
            "116/116 [==============================] - 31s 268ms/step - loss: 0.9059 - val_loss: 1.1993\n",
            "Epoch 21/100\n",
            "116/116 [==============================] - 33s 283ms/step - loss: 0.8709 - val_loss: 1.1896\n",
            "Epoch 22/100\n",
            "116/116 [==============================] - 32s 272ms/step - loss: 0.8354 - val_loss: 1.1777\n",
            "Epoch 23/100\n",
            "116/116 [==============================] - 31s 271ms/step - loss: 0.8068 - val_loss: 1.1658\n",
            "Epoch 24/100\n",
            "116/116 [==============================] - 32s 276ms/step - loss: 0.7759 - val_loss: 1.1555\n",
            "Epoch 25/100\n",
            "116/116 [==============================] - 31s 267ms/step - loss: 0.7483 - val_loss: 1.1441\n",
            "Epoch 26/100\n",
            "116/116 [==============================] - 31s 271ms/step - loss: 0.7179 - val_loss: 1.1358\n",
            "Epoch 27/100\n",
            "116/116 [==============================] - 32s 280ms/step - loss: 0.6900 - val_loss: 1.1508\n",
            "Epoch 28/100\n",
            "116/116 [==============================] - 31s 268ms/step - loss: 0.6660 - val_loss: 1.1302\n",
            "Epoch 29/100\n",
            "116/116 [==============================] - 32s 272ms/step - loss: 0.6447 - val_loss: 1.1251\n",
            "Epoch 30/100\n",
            "116/116 [==============================] - 30s 262ms/step - loss: 0.6227 - val_loss: 1.1283\n",
            "Epoch 31/100\n",
            "116/116 [==============================] - 32s 275ms/step - loss: 0.5989 - val_loss: 1.1194\n",
            "Epoch 32/100\n",
            "116/116 [==============================] - 31s 270ms/step - loss: 0.5755 - val_loss: 1.1102\n",
            "Epoch 33/100\n",
            "116/116 [==============================] - 30s 261ms/step - loss: 0.5575 - val_loss: 1.1203\n",
            "Epoch 34/100\n",
            "116/116 [==============================] - 31s 265ms/step - loss: 0.5359 - val_loss: 1.1033\n",
            "Epoch 35/100\n",
            "116/116 [==============================] - 31s 265ms/step - loss: 0.5179 - val_loss: 1.1135\n",
            "Epoch 36/100\n",
            "116/116 [==============================] - 31s 264ms/step - loss: 0.5002 - val_loss: 1.1024\n",
            "Epoch 37/100\n",
            "116/116 [==============================] - 31s 269ms/step - loss: 0.4787 - val_loss: 1.1068\n",
            "Epoch 38/100\n",
            "116/116 [==============================] - 31s 267ms/step - loss: 0.4635 - val_loss: 1.1098\n",
            "Epoch 39/100\n",
            "116/116 [==============================] - 31s 270ms/step - loss: 0.4512 - val_loss: 1.1153\n",
            "Epoch 40/100\n",
            "116/116 [==============================] - 31s 267ms/step - loss: 0.4388 - val_loss: 1.1004\n",
            "Epoch 41/100\n",
            "116/116 [==============================] - 31s 264ms/step - loss: 0.4185 - val_loss: 1.1035\n",
            "Epoch 42/100\n",
            "116/116 [==============================] - 31s 265ms/step - loss: 0.4089 - val_loss: 1.1105\n",
            "Epoch 43/100\n",
            "116/116 [==============================] - 31s 267ms/step - loss: 0.3950 - val_loss: 1.1171\n",
            "Epoch 44/100\n",
            "116/116 [==============================] - 31s 265ms/step - loss: 0.3839 - val_loss: 1.1092\n",
            "Epoch 45/100\n",
            "116/116 [==============================] - 31s 264ms/step - loss: 0.3745 - val_loss: 1.1134\n",
            "Epoch 00045: early stopping\n"
          ],
          "name": "stdout"
        }
      ]
    },
    {
      "cell_type": "markdown",
      "metadata": {
        "id": "t6hdjxZxBddB",
        "colab_type": "text"
      },
      "source": [
        "### keras.layers.Reshape(target_shape)\n",
        "아웃풋을 특정 형태로 개조합니다.\n",
        "\n",
        "인수\n",
        "\n",
        "target_shape: 표적 형태. 정수 튜플. 배치 축은 포함하지 않습니다.\n",
        "인풋 형태\n",
        "\n",
        "임의의 값. 하지만 개조된 인풋의 모든 차원은 고정되어야 합니다. 이 레이어를 모델의 첫 번째 레이어로 사용하는 경우, 키워드 인수 input_shape을 사용하십시오 (정수 튜플, 샘플 축을 포함하지 않습니다).\n",
        "\n",
        "아웃풋 형태\n",
        "\n",
        "(batch_size,) + target_shape"
      ]
    },
    {
      "cell_type": "code",
      "metadata": {
        "id": "l-10XujD5YGh",
        "colab_type": "code",
        "colab": {
          "base_uri": "https://localhost:8080/",
          "height": 265
        },
        "outputId": "b94b170d-08a0-41ff-e4ce-0a93257bbc55"
      },
      "source": [
        "plt.plot(history.history['loss'], label='train')\n",
        "plt.plot(history.history['val_loss'], label='test')\n",
        "plt.legend()\n",
        "plt.show()"
      ],
      "execution_count": 76,
      "outputs": [
        {
          "output_type": "display_data",
          "data": {
            "image/png": "[encoded data removed]",
            "text/plain": [
              "<Figure size 432x288 with 1 Axes>"
            ]
          },
          "metadata": {
            "tags": [],
            "needs_background": "light"
          }
        }
      ]
    },
    {
      "cell_type": "markdown",
      "metadata": {
        "id": "q10xeI8iPgM_",
        "colab_type": "text"
      },
      "source": [
        "# 4. seq2seq + attention으로 영수증 맞춤법 모델 테스트하기"
      ]
    },
    {
      "cell_type": "code",
      "metadata": {
        "id": "ber0EVsjPk4O",
        "colab_type": "code",
        "colab": {}
      },
      "source": [
        "#테스트를 위해 필요한 3개의 사전을 만듭니다.\n",
        "src_index_to_word = src_tokenizer.index_word # 원문 단어 집합에서 정수 -> 단어를 얻음\n",
        "tar_word_to_index = tar_tokenizer.word_index # 요약 단어 집합에서 단어 -> 정수를 얻음\n",
        "tar_index_to_word = tar_tokenizer.index_word # 요약 단어 집합에서 정수 -> 단어를 얻음"
      ],
      "execution_count": 0,
      "outputs": []
    },
    {
      "cell_type": "markdown",
      "metadata": {
        "id": "XrAtjpcjPqZK",
        "colab_type": "text"
      },
      "source": [
        "seq2seq는 훈련 단계와 테스트 단계의 동작이 다르므로 테스트 단계의 모델을 별도로 다시 설계해줄 필요가 있습니다. 다시 새로운 seq2seq 모델을 만들겠습니다. 우선 인코더를 정의합니다."
      ]
    },
    {
      "cell_type": "code",
      "metadata": {
        "id": "7Y0WqKCEPqv6",
        "colab_type": "code",
        "colab": {}
      },
      "source": [
        "# 인코더 설계\n",
        "encoder_model = Model(inputs=encoder_inputs, outputs=[encoder_outputs, state_h, state_c])"
      ],
      "execution_count": 0,
      "outputs": []
    },
    {
      "cell_type": "code",
      "metadata": {
        "id": "S_Tw2_u8Ps3P",
        "colab_type": "code",
        "colab": {}
      },
      "source": [
        "# 이제 테스트 단계의 디코더를 설계합니다.\n",
        "\n",
        "# 이전 시점의 상태들을 저장하는 텐서\n",
        "decoder_state_input_h = Input(shape=(hidden_size,))\n",
        "decoder_state_input_c = Input(shape=(hidden_size,))\n",
        "\n",
        "\n",
        "dec_emb2 = Embedding(tar_vocab, embedding_dim)(decoder_inputs)\n",
        "#dec_emb2 = dec_emb_layer(decoder_inputs) \n",
        "# 문장의 다음 단어를 예측하기 위해서 초기 상태(initial_state)를 이전 시점의 상태로 사용. 이는 뒤의 함수 decode_sequence()에 구현\n",
        "# 훈련 과정에서와 달리 LSTM의 리턴하는 은닉 상태와 셀 상태인 state_h와 state_c를 버리지 않음.\n",
        "decoder_outputs2, state_h2, state_c2 = decoder_lstm(dec_emb2, initial_state=[decoder_state_input_h, decoder_state_input_c])"
      ],
      "execution_count": 0,
      "outputs": []
    },
    {
      "cell_type": "code",
      "metadata": {
        "id": "8KGEeMo3Pxmb",
        "colab_type": "code",
        "colab": {}
      },
      "source": [
        "# 어텐션 함수\n",
        "decoder_hidden_state_input = Input(shape=(ori_max_len, hidden_size))\n",
        "attn_out_inf, attn_states_inf = attn_layer([decoder_hidden_state_input, decoder_outputs2])\n",
        "decoder_inf_concat = Concatenate(axis=-1, name='concat')([decoder_outputs2, attn_out_inf])\n",
        "\n",
        "# 디코더의 출력층\n",
        "decoder_outputs2 = decoder_softmax_layer(decoder_inf_concat) \n",
        "\n",
        "# 최종 디코더 모델\n",
        "decoder_model = Model(\n",
        "    [decoder_inputs] + [decoder_hidden_state_input,decoder_state_input_h, decoder_state_input_c],\n",
        "    [decoder_outputs2] + [state_h2, state_c2])"
      ],
      "execution_count": 0,
      "outputs": []
    },
    {
      "cell_type": "markdown",
      "metadata": {
        "id": "0vKeQr5pPy9r",
        "colab_type": "text"
      },
      "source": [
        "테스트 단계를 위한 모델이 완성되었습니다. 테스트를 위해 사용되는 함수 decode_sequence를 설계합니다."
      ]
    },
    {
      "cell_type": "code",
      "metadata": {
        "id": "hU_KHfSqPzcV",
        "colab_type": "code",
        "colab": {}
      },
      "source": [
        "def decode_sequence(input_seq):\n",
        "    # 입력으로부터 인코더의 상태를 얻음\n",
        "    states_value = encoder_model.predict(input_seq)\n",
        "    # <SOS>에 해당하는 원-핫 벡터 생성\n",
        "    target_seq = np.zeros((1, 1, tar_vocab))\n",
        "    target_seq[0, 0, tar_word_to_index['sostoken']] = 1.\n",
        "\n",
        "    stop_condition = False\n",
        "    decoded_sentence = \"\"\n",
        "    while not stop_condition: #stop_condition이 True가 될 때까지 루프 반복\n",
        "        # 이점 시점의 상태 states_value를 현 시점의 초기 상태로 사용\n",
        "        output_tokens, h, c = decoder_model.predict([target_seq] + states_value)\n",
        "        sampled_token_index = np.argmax(output_tokens[0, -1, :])\n",
        "        sampled_char = index_to_tar[sampled_token_index]\n",
        "        decoded_sentence += sampled_char\n",
        "\n",
        "        # <eos>에 도달하거나 최대 길이를 넘으면 중단.\n",
        "        if (sampled_char == '\\n' or\n",
        "           len(decoded_sentence) > max_tar_len):\n",
        "            stop_condition = True\n",
        "\n",
        "        # 길이가 1인 타겟 시퀀스를 업데이트 합니다.\n",
        "        target_seq = np.zeros((1, 1, tar_vocab_size))\n",
        "        target_seq[0, 0, sampled_token_index] = 1.\n",
        "\n",
        "        # 상태를 업데이트 합니다.\n",
        "        states_value = [h, c]\n",
        "\n",
        "    return decoded_sentence"
      ],
      "execution_count": 0,
      "outputs": []
    },
    {
      "cell_type": "markdown",
      "metadata": {
        "id": "V6u8QrehP2V_",
        "colab_type": "text"
      },
      "source": [
        "테스트 단계에서 원문과 실제 요약문, 예측 요약문을 비교하기 위해 정수 시퀀스를 텍스트 시퀀스로 만드는 함수를 설계합니다."
      ]
    },
    {
      "cell_type": "code",
      "metadata": {
        "id": "Km9k6N-vP1Em",
        "colab_type": "code",
        "colab": {}
      },
      "source": [
        "# 원문의 정수 시퀀스를 텍스트 시퀀스로 변환\n",
        "def seq2text(input_seq):\n",
        "    temp=''\n",
        "    for i in input_seq:\n",
        "        if(i!=0):\n",
        "            temp = temp + src_index_to_word[i]+' '\n",
        "    return temp\n",
        "\n",
        "# 요약문의 정수 시퀀스를 텍스트 시퀀스로 변환\n",
        "def seq2summary(input_seq):\n",
        "    temp=''\n",
        "    for i in input_seq:\n",
        "        if((i!=0 and i!=tar_word_to_index['sostoken']) and i!=tar_word_to_index['eostoken']):\n",
        "            temp = temp + tar_index_to_word[i] + ' '\n",
        "    return temp"
      ],
      "execution_count": 0,
      "outputs": []
    },
    {
      "cell_type": "code",
      "metadata": {
        "id": "qf2280rPP582",
        "colab_type": "code",
        "colab": {
          "base_uri": "https://localhost:8080/",
          "height": 1000
        },
        "outputId": "b25530f3-31cf-4fac-bc99-98e230a4aa44"
      },
      "source": [
        "# 테스트 샘플 중 500번부터 1000번까지 테스트해봅시다.\n",
        "for i in range(1, 100):\n",
        "    print(\"원문 : \",seq2text(X_test[i]))\n",
        "    print(\"실제 요약문 :\",seq2summary(y_test[i]))\n",
        "    print(\"예측 요약문 :\",decode_sequence(X_test[i].reshape(1, ori_max_len)))\n",
        "    print(\"\\n\")"
      ],
      "execution_count": 112,
      "outputs": [
        {
          "output_type": "stream",
          "text": [
            "원문 :  08 1 800 1 1 800 \n",
            "실제 요약문 : 08 1 800 1 1 800 \n",
            "WARNING:tensorflow:Model was constructed with shape (None, None) for input Tensor(\"input_2:0\", shape=(None, None), dtype=float32), but it was called on an input with incompatible shape (None, 1, 1400).\n"
          ],
          "name": "stdout"
        },
        {
          "output_type": "error",
          "ename": "ValueError",
          "evalue": "ignored",
          "traceback": [
            "\u001b[0;31m---------------------------------------------------------------------------\u001b[0m",
            "\u001b[0;31mValueError\u001b[0m                                Traceback (most recent call last)",
            "\u001b[0;32m<ipython-input-112-3967b4cab90d>\u001b[0m in \u001b[0;36m<module>\u001b[0;34m()\u001b[0m\n\u001b[1;32m      3\u001b[0m     \u001b[0mprint\u001b[0m\u001b[0;34m(\u001b[0m\u001b[0;34m\"원문 : \"\u001b[0m\u001b[0;34m,\u001b[0m\u001b[0mseq2text\u001b[0m\u001b[0;34m(\u001b[0m\u001b[0mX_test\u001b[0m\u001b[0;34m[\u001b[0m\u001b[0mi\u001b[0m\u001b[0;34m]\u001b[0m\u001b[0;34m)\u001b[0m\u001b[0;34m)\u001b[0m\u001b[0;34m\u001b[0m\u001b[0;34m\u001b[0m\u001b[0m\n\u001b[1;32m      4\u001b[0m     \u001b[0mprint\u001b[0m\u001b[0;34m(\u001b[0m\u001b[0;34m\"실제 요약문 :\"\u001b[0m\u001b[0;34m,\u001b[0m\u001b[0mseq2summary\u001b[0m\u001b[0;34m(\u001b[0m\u001b[0my_test\u001b[0m\u001b[0;34m[\u001b[0m\u001b[0mi\u001b[0m\u001b[0;34m]\u001b[0m\u001b[0;34m)\u001b[0m\u001b[0;34m)\u001b[0m\u001b[0;34m\u001b[0m\u001b[0;34m\u001b[0m\u001b[0m\n\u001b[0;32m----> 5\u001b[0;31m     \u001b[0mprint\u001b[0m\u001b[0;34m(\u001b[0m\u001b[0;34m\"예측 요약문 :\"\u001b[0m\u001b[0;34m,\u001b[0m\u001b[0mdecode_sequence\u001b[0m\u001b[0;34m(\u001b[0m\u001b[0mX_test\u001b[0m\u001b[0;34m[\u001b[0m\u001b[0mi\u001b[0m\u001b[0;34m]\u001b[0m\u001b[0;34m.\u001b[0m\u001b[0mreshape\u001b[0m\u001b[0;34m(\u001b[0m\u001b[0;36m1\u001b[0m\u001b[0;34m,\u001b[0m \u001b[0mori_max_len\u001b[0m\u001b[0;34m)\u001b[0m\u001b[0;34m)\u001b[0m\u001b[0;34m)\u001b[0m\u001b[0;34m\u001b[0m\u001b[0;34m\u001b[0m\u001b[0m\n\u001b[0m\u001b[1;32m      6\u001b[0m     \u001b[0mprint\u001b[0m\u001b[0;34m(\u001b[0m\u001b[0;34m\"\\n\"\u001b[0m\u001b[0;34m)\u001b[0m\u001b[0;34m\u001b[0m\u001b[0;34m\u001b[0m\u001b[0m\n",
            "\u001b[0;32m<ipython-input-107-878ece3d462b>\u001b[0m in \u001b[0;36mdecode_sequence\u001b[0;34m(input_seq)\u001b[0m\n\u001b[1;32m     10\u001b[0m     \u001b[0;32mwhile\u001b[0m \u001b[0;32mnot\u001b[0m \u001b[0mstop_condition\u001b[0m\u001b[0;34m:\u001b[0m \u001b[0;31m#stop_condition이 True가 될 때까지 루프 반복\u001b[0m\u001b[0;34m\u001b[0m\u001b[0;34m\u001b[0m\u001b[0m\n\u001b[1;32m     11\u001b[0m         \u001b[0;31m# 이점 시점의 상태 states_value를 현 시점의 초기 상태로 사용\u001b[0m\u001b[0;34m\u001b[0m\u001b[0;34m\u001b[0m\u001b[0;34m\u001b[0m\u001b[0m\n\u001b[0;32m---> 12\u001b[0;31m         \u001b[0moutput_tokens\u001b[0m\u001b[0;34m,\u001b[0m \u001b[0mh\u001b[0m\u001b[0;34m,\u001b[0m \u001b[0mc\u001b[0m \u001b[0;34m=\u001b[0m \u001b[0mdecoder_model\u001b[0m\u001b[0;34m.\u001b[0m\u001b[0mpredict\u001b[0m\u001b[0;34m(\u001b[0m\u001b[0;34m[\u001b[0m\u001b[0mtarget_seq\u001b[0m\u001b[0;34m]\u001b[0m \u001b[0;34m+\u001b[0m \u001b[0mstates_value\u001b[0m\u001b[0;34m)\u001b[0m\u001b[0;34m\u001b[0m\u001b[0;34m\u001b[0m\u001b[0m\n\u001b[0m\u001b[1;32m     13\u001b[0m         \u001b[0msampled_token_index\u001b[0m \u001b[0;34m=\u001b[0m \u001b[0mnp\u001b[0m\u001b[0;34m.\u001b[0m\u001b[0margmax\u001b[0m\u001b[0;34m(\u001b[0m\u001b[0moutput_tokens\u001b[0m\u001b[0;34m[\u001b[0m\u001b[0;36m0\u001b[0m\u001b[0;34m,\u001b[0m \u001b[0;34m-\u001b[0m\u001b[0;36m1\u001b[0m\u001b[0;34m,\u001b[0m \u001b[0;34m:\u001b[0m\u001b[0;34m]\u001b[0m\u001b[0;34m)\u001b[0m\u001b[0;34m\u001b[0m\u001b[0;34m\u001b[0m\u001b[0m\n\u001b[1;32m     14\u001b[0m         \u001b[0msampled_char\u001b[0m \u001b[0;34m=\u001b[0m \u001b[0mindex_to_tar\u001b[0m\u001b[0;34m[\u001b[0m\u001b[0msampled_token_index\u001b[0m\u001b[0;34m]\u001b[0m\u001b[0;34m\u001b[0m\u001b[0;34m\u001b[0m\u001b[0m\n",
            "\u001b[0;32m/usr/local/lib/python3.6/dist-packages/tensorflow/python/keras/engine/training.py\u001b[0m in \u001b[0;36m_method_wrapper\u001b[0;34m(self, *args, **kwargs)\u001b[0m\n\u001b[1;32m     86\u001b[0m       raise ValueError('{} is not supported in multi-worker mode.'.format(\n\u001b[1;32m     87\u001b[0m           method.__name__))\n\u001b[0;32m---> 88\u001b[0;31m     \u001b[0;32mreturn\u001b[0m \u001b[0mmethod\u001b[0m\u001b[0;34m(\u001b[0m\u001b[0mself\u001b[0m\u001b[0;34m,\u001b[0m \u001b[0;34m*\u001b[0m\u001b[0margs\u001b[0m\u001b[0;34m,\u001b[0m \u001b[0;34m**\u001b[0m\u001b[0mkwargs\u001b[0m\u001b[0;34m)\u001b[0m\u001b[0;34m\u001b[0m\u001b[0;34m\u001b[0m\u001b[0m\n\u001b[0m\u001b[1;32m     89\u001b[0m \u001b[0;34m\u001b[0m\u001b[0m\n\u001b[1;32m     90\u001b[0m   return tf_decorator.make_decorator(\n",
            "\u001b[0;32m/usr/local/lib/python3.6/dist-packages/tensorflow/python/keras/engine/training.py\u001b[0m in \u001b[0;36mpredict\u001b[0;34m(self, x, batch_size, verbose, steps, callbacks, max_queue_size, workers, use_multiprocessing)\u001b[0m\n\u001b[1;32m   1266\u001b[0m           \u001b[0;32mfor\u001b[0m \u001b[0mstep\u001b[0m \u001b[0;32min\u001b[0m \u001b[0mdata_handler\u001b[0m\u001b[0;34m.\u001b[0m\u001b[0msteps\u001b[0m\u001b[0;34m(\u001b[0m\u001b[0;34m)\u001b[0m\u001b[0;34m:\u001b[0m\u001b[0;34m\u001b[0m\u001b[0;34m\u001b[0m\u001b[0m\n\u001b[1;32m   1267\u001b[0m             \u001b[0mcallbacks\u001b[0m\u001b[0;34m.\u001b[0m\u001b[0mon_predict_batch_begin\u001b[0m\u001b[0;34m(\u001b[0m\u001b[0mstep\u001b[0m\u001b[0;34m)\u001b[0m\u001b[0;34m\u001b[0m\u001b[0;34m\u001b[0m\u001b[0m\n\u001b[0;32m-> 1268\u001b[0;31m             \u001b[0mtmp_batch_outputs\u001b[0m \u001b[0;34m=\u001b[0m \u001b[0mpredict_function\u001b[0m\u001b[0;34m(\u001b[0m\u001b[0miterator\u001b[0m\u001b[0;34m)\u001b[0m\u001b[0;34m\u001b[0m\u001b[0;34m\u001b[0m\u001b[0m\n\u001b[0m\u001b[1;32m   1269\u001b[0m             \u001b[0;31m# Catch OutOfRangeError for Datasets of unknown size.\u001b[0m\u001b[0;34m\u001b[0m\u001b[0;34m\u001b[0m\u001b[0;34m\u001b[0m\u001b[0m\n\u001b[1;32m   1270\u001b[0m             \u001b[0;31m# This blocks until the batch has finished executing.\u001b[0m\u001b[0;34m\u001b[0m\u001b[0;34m\u001b[0m\u001b[0;34m\u001b[0m\u001b[0m\n",
            "\u001b[0;32m/usr/local/lib/python3.6/dist-packages/tensorflow/python/eager/def_function.py\u001b[0m in \u001b[0;36m__call__\u001b[0;34m(self, *args, **kwds)\u001b[0m\n\u001b[1;32m    578\u001b[0m         \u001b[0mxla_context\u001b[0m\u001b[0;34m.\u001b[0m\u001b[0mExit\u001b[0m\u001b[0;34m(\u001b[0m\u001b[0;34m)\u001b[0m\u001b[0;34m\u001b[0m\u001b[0;34m\u001b[0m\u001b[0m\n\u001b[1;32m    579\u001b[0m     \u001b[0;32melse\u001b[0m\u001b[0;34m:\u001b[0m\u001b[0;34m\u001b[0m\u001b[0;34m\u001b[0m\u001b[0m\n\u001b[0;32m--> 580\u001b[0;31m       \u001b[0mresult\u001b[0m \u001b[0;34m=\u001b[0m \u001b[0mself\u001b[0m\u001b[0;34m.\u001b[0m\u001b[0m_call\u001b[0m\u001b[0;34m(\u001b[0m\u001b[0;34m*\u001b[0m\u001b[0margs\u001b[0m\u001b[0;34m,\u001b[0m \u001b[0;34m**\u001b[0m\u001b[0mkwds\u001b[0m\u001b[0;34m)\u001b[0m\u001b[0;34m\u001b[0m\u001b[0;34m\u001b[0m\u001b[0m\n\u001b[0m\u001b[1;32m    581\u001b[0m \u001b[0;34m\u001b[0m\u001b[0m\n\u001b[1;32m    582\u001b[0m     \u001b[0;32mif\u001b[0m \u001b[0mtracing_count\u001b[0m \u001b[0;34m==\u001b[0m \u001b[0mself\u001b[0m\u001b[0;34m.\u001b[0m\u001b[0m_get_tracing_count\u001b[0m\u001b[0;34m(\u001b[0m\u001b[0;34m)\u001b[0m\u001b[0;34m:\u001b[0m\u001b[0;34m\u001b[0m\u001b[0;34m\u001b[0m\u001b[0m\n",
            "\u001b[0;32m/usr/local/lib/python3.6/dist-packages/tensorflow/python/eager/def_function.py\u001b[0m in \u001b[0;36m_call\u001b[0;34m(self, *args, **kwds)\u001b[0m\n\u001b[1;32m    616\u001b[0m       \u001b[0;31m# In this case we have not created variables on the first call. So we can\u001b[0m\u001b[0;34m\u001b[0m\u001b[0;34m\u001b[0m\u001b[0;34m\u001b[0m\u001b[0m\n\u001b[1;32m    617\u001b[0m       \u001b[0;31m# run the first trace but we should fail if variables are created.\u001b[0m\u001b[0;34m\u001b[0m\u001b[0;34m\u001b[0m\u001b[0;34m\u001b[0m\u001b[0m\n\u001b[0;32m--> 618\u001b[0;31m       \u001b[0mresults\u001b[0m \u001b[0;34m=\u001b[0m \u001b[0mself\u001b[0m\u001b[0;34m.\u001b[0m\u001b[0m_stateful_fn\u001b[0m\u001b[0;34m(\u001b[0m\u001b[0;34m*\u001b[0m\u001b[0margs\u001b[0m\u001b[0;34m,\u001b[0m \u001b[0;34m**\u001b[0m\u001b[0mkwds\u001b[0m\u001b[0;34m)\u001b[0m\u001b[0;34m\u001b[0m\u001b[0;34m\u001b[0m\u001b[0m\n\u001b[0m\u001b[1;32m    619\u001b[0m       \u001b[0;32mif\u001b[0m \u001b[0mself\u001b[0m\u001b[0;34m.\u001b[0m\u001b[0m_created_variables\u001b[0m\u001b[0;34m:\u001b[0m\u001b[0;34m\u001b[0m\u001b[0;34m\u001b[0m\u001b[0m\n\u001b[1;32m    620\u001b[0m         raise ValueError(\"Creating variables on a non-first call to a function\"\n",
            "\u001b[0;32m/usr/local/lib/python3.6/dist-packages/tensorflow/python/eager/function.py\u001b[0m in \u001b[0;36m__call__\u001b[0;34m(self, *args, **kwargs)\u001b[0m\n\u001b[1;32m   2417\u001b[0m     \u001b[0;34m\"\"\"Calls a graph function specialized to the inputs.\"\"\"\u001b[0m\u001b[0;34m\u001b[0m\u001b[0;34m\u001b[0m\u001b[0m\n\u001b[1;32m   2418\u001b[0m     \u001b[0;32mwith\u001b[0m \u001b[0mself\u001b[0m\u001b[0;34m.\u001b[0m\u001b[0m_lock\u001b[0m\u001b[0;34m:\u001b[0m\u001b[0;34m\u001b[0m\u001b[0;34m\u001b[0m\u001b[0m\n\u001b[0;32m-> 2419\u001b[0;31m       \u001b[0mgraph_function\u001b[0m\u001b[0;34m,\u001b[0m \u001b[0margs\u001b[0m\u001b[0;34m,\u001b[0m \u001b[0mkwargs\u001b[0m \u001b[0;34m=\u001b[0m \u001b[0mself\u001b[0m\u001b[0;34m.\u001b[0m\u001b[0m_maybe_define_function\u001b[0m\u001b[0;34m(\u001b[0m\u001b[0margs\u001b[0m\u001b[0;34m,\u001b[0m \u001b[0mkwargs\u001b[0m\u001b[0;34m)\u001b[0m\u001b[0;34m\u001b[0m\u001b[0;34m\u001b[0m\u001b[0m\n\u001b[0m\u001b[1;32m   2420\u001b[0m     \u001b[0;32mreturn\u001b[0m \u001b[0mgraph_function\u001b[0m\u001b[0;34m.\u001b[0m\u001b[0m_filtered_call\u001b[0m\u001b[0;34m(\u001b[0m\u001b[0margs\u001b[0m\u001b[0;34m,\u001b[0m \u001b[0mkwargs\u001b[0m\u001b[0;34m)\u001b[0m  \u001b[0;31m# pylint: disable=protected-access\u001b[0m\u001b[0;34m\u001b[0m\u001b[0;34m\u001b[0m\u001b[0m\n\u001b[1;32m   2421\u001b[0m \u001b[0;34m\u001b[0m\u001b[0m\n",
            "\u001b[0;32m/usr/local/lib/python3.6/dist-packages/tensorflow/python/eager/function.py\u001b[0m in \u001b[0;36m_maybe_define_function\u001b[0;34m(self, args, kwargs)\u001b[0m\n\u001b[1;32m   2772\u001b[0m           \u001b[0;32mand\u001b[0m \u001b[0mself\u001b[0m\u001b[0;34m.\u001b[0m\u001b[0minput_signature\u001b[0m \u001b[0;32mis\u001b[0m \u001b[0;32mNone\u001b[0m\u001b[0;34m\u001b[0m\u001b[0;34m\u001b[0m\u001b[0m\n\u001b[1;32m   2773\u001b[0m           and call_context_key in self._function_cache.missed):\n\u001b[0;32m-> 2774\u001b[0;31m         \u001b[0;32mreturn\u001b[0m \u001b[0mself\u001b[0m\u001b[0;34m.\u001b[0m\u001b[0m_define_function_with_shape_relaxation\u001b[0m\u001b[0;34m(\u001b[0m\u001b[0margs\u001b[0m\u001b[0;34m,\u001b[0m \u001b[0mkwargs\u001b[0m\u001b[0;34m)\u001b[0m\u001b[0;34m\u001b[0m\u001b[0;34m\u001b[0m\u001b[0m\n\u001b[0m\u001b[1;32m   2775\u001b[0m \u001b[0;34m\u001b[0m\u001b[0m\n\u001b[1;32m   2776\u001b[0m       \u001b[0mself\u001b[0m\u001b[0;34m.\u001b[0m\u001b[0m_function_cache\u001b[0m\u001b[0;34m.\u001b[0m\u001b[0mmissed\u001b[0m\u001b[0;34m.\u001b[0m\u001b[0madd\u001b[0m\u001b[0;34m(\u001b[0m\u001b[0mcall_context_key\u001b[0m\u001b[0;34m)\u001b[0m\u001b[0;34m\u001b[0m\u001b[0;34m\u001b[0m\u001b[0m\n",
            "\u001b[0;32m/usr/local/lib/python3.6/dist-packages/tensorflow/python/eager/function.py\u001b[0m in \u001b[0;36m_define_function_with_shape_relaxation\u001b[0;34m(self, args, kwargs)\u001b[0m\n\u001b[1;32m   2704\u001b[0m         relaxed_arg_shapes)\n\u001b[1;32m   2705\u001b[0m     graph_function = self._create_graph_function(\n\u001b[0;32m-> 2706\u001b[0;31m         args, kwargs, override_flat_arg_shapes=relaxed_arg_shapes)\n\u001b[0m\u001b[1;32m   2707\u001b[0m     \u001b[0mself\u001b[0m\u001b[0;34m.\u001b[0m\u001b[0m_function_cache\u001b[0m\u001b[0;34m.\u001b[0m\u001b[0marg_relaxed\u001b[0m\u001b[0;34m[\u001b[0m\u001b[0mrank_only_cache_key\u001b[0m\u001b[0;34m]\u001b[0m \u001b[0;34m=\u001b[0m \u001b[0mgraph_function\u001b[0m\u001b[0;34m\u001b[0m\u001b[0;34m\u001b[0m\u001b[0m\n\u001b[1;32m   2708\u001b[0m \u001b[0;34m\u001b[0m\u001b[0m\n",
            "\u001b[0;32m/usr/local/lib/python3.6/dist-packages/tensorflow/python/eager/function.py\u001b[0m in \u001b[0;36m_create_graph_function\u001b[0;34m(self, args, kwargs, override_flat_arg_shapes)\u001b[0m\n\u001b[1;32m   2665\u001b[0m             \u001b[0marg_names\u001b[0m\u001b[0;34m=\u001b[0m\u001b[0marg_names\u001b[0m\u001b[0;34m,\u001b[0m\u001b[0;34m\u001b[0m\u001b[0;34m\u001b[0m\u001b[0m\n\u001b[1;32m   2666\u001b[0m             \u001b[0moverride_flat_arg_shapes\u001b[0m\u001b[0;34m=\u001b[0m\u001b[0moverride_flat_arg_shapes\u001b[0m\u001b[0;34m,\u001b[0m\u001b[0;34m\u001b[0m\u001b[0;34m\u001b[0m\u001b[0m\n\u001b[0;32m-> 2667\u001b[0;31m             capture_by_value=self._capture_by_value),\n\u001b[0m\u001b[1;32m   2668\u001b[0m         \u001b[0mself\u001b[0m\u001b[0;34m.\u001b[0m\u001b[0m_function_attributes\u001b[0m\u001b[0;34m,\u001b[0m\u001b[0;34m\u001b[0m\u001b[0;34m\u001b[0m\u001b[0m\n\u001b[1;32m   2669\u001b[0m         \u001b[0;31m# Tell the ConcreteFunction to clean up its graph once it goes out of\u001b[0m\u001b[0;34m\u001b[0m\u001b[0;34m\u001b[0m\u001b[0;34m\u001b[0m\u001b[0m\n",
            "\u001b[0;32m/usr/local/lib/python3.6/dist-packages/tensorflow/python/framework/func_graph.py\u001b[0m in \u001b[0;36mfunc_graph_from_py_func\u001b[0;34m(name, python_func, args, kwargs, signature, func_graph, autograph, autograph_options, add_control_dependencies, arg_names, op_return_value, collections, capture_by_value, override_flat_arg_shapes)\u001b[0m\n\u001b[1;32m    979\u001b[0m         \u001b[0m_\u001b[0m\u001b[0;34m,\u001b[0m \u001b[0moriginal_func\u001b[0m \u001b[0;34m=\u001b[0m \u001b[0mtf_decorator\u001b[0m\u001b[0;34m.\u001b[0m\u001b[0munwrap\u001b[0m\u001b[0;34m(\u001b[0m\u001b[0mpython_func\u001b[0m\u001b[0;34m)\u001b[0m\u001b[0;34m\u001b[0m\u001b[0;34m\u001b[0m\u001b[0m\n\u001b[1;32m    980\u001b[0m \u001b[0;34m\u001b[0m\u001b[0m\n\u001b[0;32m--> 981\u001b[0;31m       \u001b[0mfunc_outputs\u001b[0m \u001b[0;34m=\u001b[0m \u001b[0mpython_func\u001b[0m\u001b[0;34m(\u001b[0m\u001b[0;34m*\u001b[0m\u001b[0mfunc_args\u001b[0m\u001b[0;34m,\u001b[0m \u001b[0;34m**\u001b[0m\u001b[0mfunc_kwargs\u001b[0m\u001b[0;34m)\u001b[0m\u001b[0;34m\u001b[0m\u001b[0;34m\u001b[0m\u001b[0m\n\u001b[0m\u001b[1;32m    982\u001b[0m \u001b[0;34m\u001b[0m\u001b[0m\n\u001b[1;32m    983\u001b[0m       \u001b[0;31m# invariant: `func_outputs` contains only Tensors, CompositeTensors,\u001b[0m\u001b[0;34m\u001b[0m\u001b[0;34m\u001b[0m\u001b[0;34m\u001b[0m\u001b[0m\n",
            "\u001b[0;32m/usr/local/lib/python3.6/dist-packages/tensorflow/python/eager/def_function.py\u001b[0m in \u001b[0;36mwrapped_fn\u001b[0;34m(*args, **kwds)\u001b[0m\n\u001b[1;32m    439\u001b[0m         \u001b[0;31m# __wrapped__ allows AutoGraph to swap in a converted function. We give\u001b[0m\u001b[0;34m\u001b[0m\u001b[0;34m\u001b[0m\u001b[0;34m\u001b[0m\u001b[0m\n\u001b[1;32m    440\u001b[0m         \u001b[0;31m# the function a weak reference to itself to avoid a reference cycle.\u001b[0m\u001b[0;34m\u001b[0m\u001b[0;34m\u001b[0m\u001b[0;34m\u001b[0m\u001b[0m\n\u001b[0;32m--> 441\u001b[0;31m         \u001b[0;32mreturn\u001b[0m \u001b[0mweak_wrapped_fn\u001b[0m\u001b[0;34m(\u001b[0m\u001b[0;34m)\u001b[0m\u001b[0;34m.\u001b[0m\u001b[0m__wrapped__\u001b[0m\u001b[0;34m(\u001b[0m\u001b[0;34m*\u001b[0m\u001b[0margs\u001b[0m\u001b[0;34m,\u001b[0m \u001b[0;34m**\u001b[0m\u001b[0mkwds\u001b[0m\u001b[0;34m)\u001b[0m\u001b[0;34m\u001b[0m\u001b[0;34m\u001b[0m\u001b[0m\n\u001b[0m\u001b[1;32m    442\u001b[0m     \u001b[0mweak_wrapped_fn\u001b[0m \u001b[0;34m=\u001b[0m \u001b[0mweakref\u001b[0m\u001b[0;34m.\u001b[0m\u001b[0mref\u001b[0m\u001b[0;34m(\u001b[0m\u001b[0mwrapped_fn\u001b[0m\u001b[0;34m)\u001b[0m\u001b[0;34m\u001b[0m\u001b[0;34m\u001b[0m\u001b[0m\n\u001b[1;32m    443\u001b[0m \u001b[0;34m\u001b[0m\u001b[0m\n",
            "\u001b[0;32m/usr/local/lib/python3.6/dist-packages/tensorflow/python/framework/func_graph.py\u001b[0m in \u001b[0;36mwrapper\u001b[0;34m(*args, **kwargs)\u001b[0m\n\u001b[1;32m    966\u001b[0m           \u001b[0;32mexcept\u001b[0m \u001b[0mException\u001b[0m \u001b[0;32mas\u001b[0m \u001b[0me\u001b[0m\u001b[0;34m:\u001b[0m  \u001b[0;31m# pylint:disable=broad-except\u001b[0m\u001b[0;34m\u001b[0m\u001b[0;34m\u001b[0m\u001b[0m\n\u001b[1;32m    967\u001b[0m             \u001b[0;32mif\u001b[0m \u001b[0mhasattr\u001b[0m\u001b[0;34m(\u001b[0m\u001b[0me\u001b[0m\u001b[0;34m,\u001b[0m \u001b[0;34m\"ag_error_metadata\"\u001b[0m\u001b[0;34m)\u001b[0m\u001b[0;34m:\u001b[0m\u001b[0;34m\u001b[0m\u001b[0;34m\u001b[0m\u001b[0m\n\u001b[0;32m--> 968\u001b[0;31m               \u001b[0;32mraise\u001b[0m \u001b[0me\u001b[0m\u001b[0;34m.\u001b[0m\u001b[0mag_error_metadata\u001b[0m\u001b[0;34m.\u001b[0m\u001b[0mto_exception\u001b[0m\u001b[0;34m(\u001b[0m\u001b[0me\u001b[0m\u001b[0;34m)\u001b[0m\u001b[0;34m\u001b[0m\u001b[0;34m\u001b[0m\u001b[0m\n\u001b[0m\u001b[1;32m    969\u001b[0m             \u001b[0;32melse\u001b[0m\u001b[0;34m:\u001b[0m\u001b[0;34m\u001b[0m\u001b[0;34m\u001b[0m\u001b[0m\n\u001b[1;32m    970\u001b[0m               \u001b[0;32mraise\u001b[0m\u001b[0;34m\u001b[0m\u001b[0;34m\u001b[0m\u001b[0m\n",
            "\u001b[0;31mValueError\u001b[0m: in user code:\n\n    /usr/local/lib/python3.6/dist-packages/tensorflow/python/keras/engine/training.py:1147 predict_function  *\n        outputs = self.distribute_strategy.run(\n    /usr/local/lib/python3.6/dist-packages/tensorflow/python/distribute/distribute_lib.py:951 run  **\n        return self._extended.call_for_each_replica(fn, args=args, kwargs=kwargs)\n    /usr/local/lib/python3.6/dist-packages/tensorflow/python/distribute/distribute_lib.py:2290 call_for_each_replica\n        return self._call_for_each_replica(fn, args, kwargs)\n    /usr/local/lib/python3.6/dist-packages/tensorflow/python/distribute/distribute_lib.py:2649 _call_for_each_replica\n        return fn(*args, **kwargs)\n    /usr/local/lib/python3.6/dist-packages/tensorflow/python/keras/engine/training.py:1122 predict_step  **\n        return self(x, training=False)\n    /usr/local/lib/python3.6/dist-packages/tensorflow/python/keras/engine/base_layer.py:927 __call__\n        outputs = call_fn(cast_inputs, *args, **kwargs)\n    /usr/local/lib/python3.6/dist-packages/tensorflow/python/keras/engine/network.py:719 call\n        convert_kwargs_to_constants=base_layer_utils.call_context().saving)\n    /usr/local/lib/python3.6/dist-packages/tensorflow/python/keras/engine/network.py:888 _run_internal_graph\n        output_tensors = layer(computed_tensors, **kwargs)\n    /usr/local/lib/python3.6/dist-packages/tensorflow/python/keras/layers/recurrent.py:707 __call__\n        return super(RNN, self).__call__(inputs, **kwargs)\n    /usr/local/lib/python3.6/dist-packages/tensorflow/python/keras/engine/base_layer.py:927 __call__\n        outputs = call_fn(cast_inputs, *args, **kwargs)\n    /usr/local/lib/python3.6/dist-packages/tensorflow/python/keras/layers/recurrent_v2.py:1138 call\n        zero_output_for_mask=self.zero_output_for_mask)\n    /usr/local/lib/python3.6/dist-packages/tensorflow/python/keras/backend.py:4239 rnn\n        **while_loop_kwargs)\n    /usr/local/lib/python3.6/dist-packages/tensorflow/python/ops/control_flow_ops.py:2688 while_loop\n        back_prop=back_prop)\n    /usr/local/lib/python3.6/dist-packages/tensorflow/python/ops/while_v2.py:196 while_loop\n        add_control_dependencies=add_control_dependencies)\n    /usr/local/lib/python3.6/dist-packages/tensorflow/python/framework/func_graph.py:981 func_graph_from_py_func\n        func_outputs = python_func(*func_args, **func_kwargs)\n    /usr/local/lib/python3.6/dist-packages/tensorflow/python/ops/while_v2.py:174 wrapped_body\n        outputs = body(*_pack_sequence_as(orig_loop_vars, args))\n    /usr/local/lib/python3.6/dist-packages/tensorflow/python/keras/backend.py:4228 _step\n        new_state.set_shape(state.shape)\n    /usr/local/lib/python3.6/dist-packages/tensorflow/python/framework/ops.py:658 set_shape\n        raise ValueError(str(e))\n\n    ValueError: Shapes must be equal rank, but are 3 and 2\n"
          ]
        }
      ]
    }
  ]
}