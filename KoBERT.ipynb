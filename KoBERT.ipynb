{
  "nbformat": 4,
  "nbformat_minor": 0,
  "metadata": {
    "colab": {
      "name": "KoBERT",
      "provenance": [],
      "private_outputs": true,
      "collapsed_sections": [],
      "authorship_tag": "ABX9TyPf7IW90sx1+BbJH6vWN+9r",
      "include_colab_link": true
    },
    "kernelspec": {
      "name": "python3",
      "display_name": "Python 3"
    },
    "accelerator": "GPU"
  },
  "cells": [
    {
      "cell_type": "markdown",
      "metadata": {
        "id": "view-in-github",
        "colab_type": "text"
      },
      "source": [
        "<a href=\"https://colab.research.google.com/github/moey920/NLP/blob/master/KoBERT.ipynb\" target=\"_parent\"><img src=\"https://colab.research.google.com/assets/colab-badge.svg\" alt=\"Open In Colab\"/></a>"
      ]
    },
    {
      "cell_type": "code",
      "metadata": {
        "id": "2j4nMHrE5nif",
        "colab_type": "code",
        "colab": {}
      },
      "source": [
        "!git clone https://github.com/SKTBrain/KoBERT.git"
      ],
      "execution_count": 0,
      "outputs": []
    },
    {
      "cell_type": "code",
      "metadata": {
        "id": "9g1WyYPt5rZq",
        "colab_type": "code",
        "colab": {}
      },
      "source": [
        "import os\n",
        "os.chdir('KoBERT')"
      ],
      "execution_count": 0,
      "outputs": []
    },
    {
      "cell_type": "code",
      "metadata": {
        "id": "YyR6GIir5yaO",
        "colab_type": "code",
        "colab": {}
      },
      "source": [
        "!pip install -r requirements.txt"
      ],
      "execution_count": 0,
      "outputs": []
    },
    {
      "cell_type": "code",
      "metadata": {
        "id": "spfQPFyo58S5",
        "colab_type": "code",
        "colab": {}
      },
      "source": [
        "!pip install ."
      ],
      "execution_count": 0,
      "outputs": []
    },
    {
      "cell_type": "code",
      "metadata": {
        "id": "OJOiYJ4T6e7U",
        "colab_type": "code",
        "colab": {}
      },
      "source": [
        "import torch"
      ],
      "execution_count": 0,
      "outputs": []
    },
    {
      "cell_type": "code",
      "metadata": {
        "id": "3ezh8Y4k6f7Q",
        "colab_type": "code",
        "colab": {}
      },
      "source": [
        "from kobert.pytorch_kobert import get_pytorch_kobert_model"
      ],
      "execution_count": 0,
      "outputs": []
    },
    {
      "cell_type": "code",
      "metadata": {
        "id": "Aiyn76FD6oaT",
        "colab_type": "code",
        "colab": {}
      },
      "source": [
        "input_ids = torch.LongTensor([[31, 51, 99], [15, 5, 0]])"
      ],
      "execution_count": 0,
      "outputs": []
    },
    {
      "cell_type": "code",
      "metadata": {
        "id": "7vnWR53p6w9c",
        "colab_type": "code",
        "colab": {}
      },
      "source": [
        "input_mask = torch.LongTensor([[1, 1, 1], [1, 1, 0]])"
      ],
      "execution_count": 0,
      "outputs": []
    },
    {
      "cell_type": "code",
      "metadata": {
        "id": "bzrecMX56yQ_",
        "colab_type": "code",
        "colab": {}
      },
      "source": [
        "token_type_ids = torch.LongTensor([[0, 0, 1], [0, 1, 0]])"
      ],
      "execution_count": 0,
      "outputs": []
    },
    {
      "cell_type": "code",
      "metadata": {
        "id": "mJDiASjb6zSy",
        "colab_type": "code",
        "colab": {}
      },
      "source": [
        "model, vocab  = get_pytorch_kobert_model()"
      ],
      "execution_count": 0,
      "outputs": []
    },
    {
      "cell_type": "code",
      "metadata": {
        "id": "ys_guxmI60mF",
        "colab_type": "code",
        "colab": {}
      },
      "source": [
        "sequence_output, pooled_output = model(input_ids, input_mask, token_type_ids)"
      ],
      "execution_count": 0,
      "outputs": []
    },
    {
      "cell_type": "code",
      "metadata": {
        "id": "CkgPPc3Z6_Jh",
        "colab_type": "code",
        "colab": {}
      },
      "source": [
        "pooled_output.shape"
      ],
      "execution_count": 0,
      "outputs": []
    },
    {
      "cell_type": "code",
      "metadata": {
        "id": "FuOuKdSB7CSx",
        "colab_type": "code",
        "colab": {}
      },
      "source": [
        "vocab"
      ],
      "execution_count": 0,
      "outputs": []
    },
    {
      "cell_type": "code",
      "metadata": {
        "id": "d1XMfAED7Cls",
        "colab_type": "code",
        "colab": {}
      },
      "source": [
        "sequence_output[0]"
      ],
      "execution_count": 0,
      "outputs": []
    },
    {
      "cell_type": "code",
      "metadata": {
        "id": "4HKpDl6N7FMH",
        "colab_type": "code",
        "colab": {}
      },
      "source": [
        ""
      ],
      "execution_count": 0,
      "outputs": []
    }
  ]
}